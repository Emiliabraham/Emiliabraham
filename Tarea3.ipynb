{
  "nbformat": 4,
  "nbformat_minor": 0,
  "metadata": {
    "colab": {
      "provenance": [],
      "authorship_tag": "ABX9TyMBc3fK9JTj75ai/nIzW8Zr",
      "include_colab_link": true
    },
    "kernelspec": {
      "name": "python3",
      "display_name": "Python 3"
    },
    "language_info": {
      "name": "python"
    }
  },
  "cells": [
    {
      "cell_type": "markdown",
      "metadata": {
        "id": "view-in-github",
        "colab_type": "text"
      },
      "source": [
        "<a href=\"https://colab.research.google.com/github/Emiliabraham/Emiliabraham/blob/main/Tarea3.ipynb\" target=\"_parent\"><img src=\"https://colab.research.google.com/assets/colab-badge.svg\" alt=\"Open In Colab\"/></a>"
      ]
    },
    {
      "cell_type": "markdown",
      "source": [
        "1. Lanzas una moneda justa (es decir, la probabilidad de obtener cara es $0.5$ ) tres veces. Suponga que todas las secuencias de resultados de lanzamiento de moneda, de longitud 3, son igualmente probables. Determine la probabilidad de cada uno de los siguientes eventos:\n"
      ],
      "metadata": {
        "id": "KIo2Bhx_7kXj"
      }
    },
    {
      "cell_type": "markdown",
      "source": [
        "2. En el ejercicio anterior, calcula las probabilidades dado que sabes que cayó una cara en el primer lanzamiento."
      ],
      "metadata": {
        "id": "2eRM0d9R7mpu"
      }
    },
    {
      "cell_type": "markdown",
      "source": [
        "3. Alicia y Samuel eligen al azar un número real entre cero y uno. Suponemos que el par de números se elige sobre el cuadrado unitario, de modo que la probabilidad de un evento es igual a su área. Definimos los siguientes eventos:"
      ],
      "metadata": {
        "id": "3Ng9GNdt7qzc"
      }
    },
    {
      "cell_type": "code",
      "source": [
        "import numpy as np"
      ],
      "metadata": {
        "id": "JBnVLVVntB_j"
      },
      "execution_count": null,
      "outputs": []
    },
    {
      "cell_type": "code",
      "source": [
        "A = np.random.random ()\n",
        "\n",
        "S = np.random.random ()\n",
        "\n",
        "abs(A-S)>1/3"
      ],
      "metadata": {
        "colab": {
          "base_uri": "https://localhost:8080/"
        },
        "id": "MGI-lfyN9oRs",
        "outputId": "65dc3877-fe6b-41e3-bb3f-d0b91e093e3e"
      },
      "execution_count": null,
      "outputs": [
        {
          "output_type": "execute_result",
          "data": {
            "text/plain": [
              "False"
            ]
          },
          "metadata": {},
          "execution_count": 6
        }
      ]
    },
    {
      "cell_type": "code",
      "source": [
        "[0,1]"
      ],
      "metadata": {
        "colab": {
          "base_uri": "https://localhost:8080/"
        },
        "id": "oWUBdHZjtyFT",
        "outputId": "b9d1be5a-f652-4c11-f4ac-68d1e3d37547"
      },
      "execution_count": null,
      "outputs": [
        {
          "output_type": "execute_result",
          "data": {
            "text/plain": [
              "[0, 1]"
            ]
          },
          "metadata": {},
          "execution_count": 8
        }
      ]
    },
    {
      "cell_type": "code",
      "source": [
        "from itertools import product\n",
        "U = set(product())\n"
      ],
      "metadata": {
        "id": "I2CZnWTNtTfA"
      },
      "execution_count": null,
      "outputs": []
    },
    {
      "cell_type": "code",
      "source": [
        "k = 0\n",
        "\n",
        "l = 10000\n",
        "\n",
        "for x in range (10000):\n",
        "\n",
        "  A = np.random.random ()\n",
        "\n",
        "  S = np.random.random ()\n",
        "\n",
        "  if abs(A-S)>1/3:\n",
        "\n",
        "    k += 1\n",
        "\n",
        "k/l"
      ],
      "metadata": {
        "colab": {
          "base_uri": "https://localhost:8080/"
        },
        "id": "e-aMQKJFueJZ",
        "outputId": "53390a94-781f-4e1b-8d39-ece50b9a1d42"
      },
      "execution_count": null,
      "outputs": [
        {
          "output_type": "execute_result",
          "data": {
            "text/plain": [
              "0.4427"
            ]
          },
          "metadata": {},
          "execution_count": 12
        }
      ]
    },
    {
      "cell_type": "code",
      "source": [
        "!pip install python-intervals ==1.4.0"
      ],
      "metadata": {
        "colab": {
          "base_uri": "https://localhost:8080/"
        },
        "id": "Bd6bfzaIwu6c",
        "outputId": "31828618-1a63-431c-9d4f-a1c2719dc981"
      },
      "execution_count": null,
      "outputs": [
        {
          "output_type": "stream",
          "name": "stdout",
          "text": [
            "\u001b[31mERROR: Invalid requirement: '==1.4.0'\u001b[0m\n"
          ]
        }
      ]
    },
    {
      "cell_type": "code",
      "source": [
        "import intervals as I"
      ],
      "metadata": {
        "colab": {
          "base_uri": "https://localhost:8080/",
          "height": 312
        },
        "id": "OzqLUByQw0m_",
        "outputId": "6b94c476-9565-4d76-d1ad-e977228f0be8"
      },
      "execution_count": null,
      "outputs": [
        {
          "output_type": "error",
          "ename": "ModuleNotFoundError",
          "evalue": "ignored",
          "traceback": [
            "\u001b[0;31m---------------------------------------------------------------------------\u001b[0m",
            "\u001b[0;31mModuleNotFoundError\u001b[0m                       Traceback (most recent call last)",
            "\u001b[0;32m<ipython-input-16-dfde389c6784>\u001b[0m in \u001b[0;36m<module>\u001b[0;34m\u001b[0m\n\u001b[0;32m----> 1\u001b[0;31m \u001b[0;32mimport\u001b[0m \u001b[0mintervals\u001b[0m \u001b[0;32mas\u001b[0m \u001b[0mI\u001b[0m\u001b[0;34m\u001b[0m\u001b[0;34m\u001b[0m\u001b[0m\n\u001b[0m",
            "\u001b[0;31mModuleNotFoundError\u001b[0m: No module named 'intervals'",
            "",
            "\u001b[0;31m---------------------------------------------------------------------------\u001b[0;32m\nNOTE: If your import is failing due to a missing package, you can\nmanually install dependencies using either !pip or !apt.\n\nTo view examples of installing some common dependencies, click the\n\"Open Examples\" button below.\n\u001b[0;31m---------------------------------------------------------------------------\u001b[0m\n"
          ],
          "errorDetails": {
            "actions": [
              {
                "action": "open_url",
                "actionText": "Open Examples",
                "url": "/notebooks/snippets/importing_libraries.ipynb"
              }
            ]
          }
        }
      ]
    },
    {
      "cell_type": "code",
      "source": [
        "I.open (0,1)"
      ],
      "metadata": {
        "id": "nOVteQncxXCT",
        "outputId": "ba5c7235-cd1b-40a1-f874-f9031d7c7871",
        "colab": {
          "base_uri": "https://localhost:8080/",
          "height": 169
        }
      },
      "execution_count": null,
      "outputs": [
        {
          "output_type": "error",
          "ename": "NameError",
          "evalue": "ignored",
          "traceback": [
            "\u001b[0;31m---------------------------------------------------------------------------\u001b[0m",
            "\u001b[0;31mNameError\u001b[0m                                 Traceback (most recent call last)",
            "\u001b[0;32m<ipython-input-17-de02f710b2e4>\u001b[0m in \u001b[0;36m<module>\u001b[0;34m\u001b[0m\n\u001b[0;32m----> 1\u001b[0;31m \u001b[0mI\u001b[0m\u001b[0;34m.\u001b[0m\u001b[0mopen\u001b[0m \u001b[0;34m(\u001b[0m\u001b[0;36m0\u001b[0m\u001b[0;34m,\u001b[0m\u001b[0;36m1\u001b[0m\u001b[0;34m)\u001b[0m\u001b[0;34m\u001b[0m\u001b[0;34m\u001b[0m\u001b[0m\n\u001b[0m",
            "\u001b[0;31mNameError\u001b[0m: name 'I' is not defined"
          ]
        }
      ]
    },
    {
      "cell_type": "markdown",
      "source": [
        "4. Simula una sucesión de $5$ volados simultáneos (1 muestreo) con monedas honestas que consista de 100 observaciones. Registra tus datos en un DataFrame de Pandas. "
      ],
      "metadata": {
        "id": "-DvcNxf47s5o"
      }
    },
    {
      "cell_type": "code",
      "source": [
        "A"
      ],
      "metadata": {
        "id": "-6ZvLDVk7v8W"
      },
      "execution_count": null,
      "outputs": []
    }
  ]
}