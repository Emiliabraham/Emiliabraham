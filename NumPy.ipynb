{
  "cells": [
    {
      "cell_type": "markdown",
      "metadata": {
        "id": "view-in-github",
        "colab_type": "text"
      },
      "source": [
        "<a href=\"https://colab.research.google.com/github/Emiliabraham/Emiliabraham/blob/main/NumPy.ipynb\" target=\"_parent\"><img src=\"https://colab.research.google.com/assets/colab-badge.svg\" alt=\"Open In Colab\"/></a>"
      ]
    },
    {
      "cell_type": "code",
      "execution_count": null,
      "metadata": {
        "id": "2Bld2YyZz5jm"
      },
      "outputs": [],
      "source": [
        "import numpy as np"
      ]
    },
    {
      "cell_type": "code",
      "execution_count": null,
      "metadata": {
        "colab": {
          "base_uri": "https://localhost:8080/"
        },
        "id": "LvqhmaYa0B2y",
        "outputId": "a41a269c-5130-4941-c7ee-3e031e22f353"
      },
      "outputs": [
        {
          "output_type": "execute_result",
          "data": {
            "text/plain": [
              "2"
            ]
          },
          "metadata": {},
          "execution_count": 6
        }
      ],
      "source": [
        "np.random.randint (10)\n",
        "# randint = numero entero a partir del 0 (sin el 10)\n",
        "# randint(10) = numero entero a partir del 0 hasta el 9 (no incluye el 10)"
      ]
    },
    {
      "cell_type": "code",
      "execution_count": null,
      "metadata": {
        "id": "yn4Z6e3G0J2l",
        "colab": {
          "base_uri": "https://localhost:8080/"
        },
        "outputId": "4d5f1e7e-16f4-43d7-fb14-de91ec31a8dd"
      },
      "outputs": [
        {
          "output_type": "execute_result",
          "data": {
            "text/plain": [
              "<function RandomState.random>"
            ]
          },
          "metadata": {},
          "execution_count": 7
        }
      ],
      "source": [
        "np.random.random\n",
        "#random = del 0 al 1 sin incluir del 0 y el 1"
      ]
    },
    {
      "cell_type": "code",
      "execution_count": null,
      "metadata": {
        "id": "tPXXQrwq1aP9"
      },
      "outputs": [],
      "source": [
        "enteros_aleatorios = []\n",
        "\n",
        "for i in range(1, 11):\n",
        "    rint = np.random.randint(1,20)\n",
        "    enteros_aleatorios.append(rint)\n",
        "\n",
        "# Para generar 10 numeros al azar"
      ]
    },
    {
      "cell_type": "code",
      "execution_count": null,
      "metadata": {
        "colab": {
          "base_uri": "https://localhost:8080/"
        },
        "id": "3yYsWakd2iQ5",
        "outputId": "6f2cf04d-da28-49f1-812c-39eb68e8c50c"
      },
      "outputs": [
        {
          "output_type": "execute_result",
          "data": {
            "text/plain": [
              "[18, 4, 3, 4, 5, 18, 12, 5, 1, 17]"
            ]
          },
          "metadata": {},
          "execution_count": 6
        }
      ],
      "source": [
        "enteros_aleatorios"
      ]
    },
    {
      "cell_type": "code",
      "execution_count": null,
      "metadata": {
        "colab": {
          "base_uri": "https://localhost:8080/"
        },
        "id": "0Wk521YF2ulg",
        "outputId": "e8020107-f945-4f79-fbe3-5f517a45112c"
      },
      "outputs": [
        {
          "output_type": "execute_result",
          "data": {
            "text/plain": [
              "list"
            ]
          },
          "metadata": {},
          "execution_count": 7
        }
      ],
      "source": [
        "type (enteros_aleatorios)\n",
        "#Ver el tipo de objeto"
      ]
    },
    {
      "cell_type": "code",
      "execution_count": null,
      "metadata": {
        "id": "pOJEKcGl2_kG"
      },
      "outputs": [],
      "source": [
        "L1 = np.array([4, 3, 7])\n",
        "L2 = np.array([9, 5, 8])\n",
        "# np.array = nos arreglos = (matriz)\n",
        "#solo le das atributo, no te arroja los datos"
      ]
    },
    {
      "cell_type": "code",
      "execution_count": null,
      "metadata": {
        "colab": {
          "base_uri": "https://localhost:8080/"
        },
        "id": "K3EtiefP3Jkq",
        "outputId": "d041803c-d364-4596-9861-c313f2677ab9"
      },
      "outputs": [
        {
          "output_type": "execute_result",
          "data": {
            "text/plain": [
              "array([13,  8, 15])"
            ]
          },
          "metadata": {},
          "execution_count": 9
        }
      ],
      "source": [
        "L1 + L2\n",
        "#te arroja los datos de la indicación anterior"
      ]
    },
    {
      "cell_type": "code",
      "execution_count": null,
      "metadata": {
        "colab": {
          "base_uri": "https://localhost:8080/"
        },
        "id": "at-irpPQ33G0",
        "outputId": "4673a5ef-ed7a-4bab-b474-aa92a1a95e11"
      },
      "outputs": [
        {
          "output_type": "execute_result",
          "data": {
            "text/plain": [
              "10"
            ]
          },
          "metadata": {},
          "execution_count": 10
        }
      ],
      "source": [
        "len(enteros_aleatorios)\n",
        "#el numero de enteros que tiene aleatorios"
      ]
    },
    {
      "cell_type": "code",
      "execution_count": null,
      "metadata": {
        "colab": {
          "base_uri": "https://localhost:8080/"
        },
        "id": "9bzWMFSH39O5",
        "outputId": "077f706e-3914-47b7-c3ed-0d0293fb7258"
      },
      "outputs": [
        {
          "output_type": "execute_result",
          "data": {
            "text/plain": [
              "array([18,  4,  3,  4,  5, 18, 12,  5,  1, 17])"
            ]
          },
          "metadata": {},
          "execution_count": 11
        }
      ],
      "source": [
        "#darle el atribulo de arreglo:\n",
        "enteros_aleatorios_arreglo = np.array(enteros_aleatorios)\n",
        "\n",
        "enteros_aleatorios_arreglo"
      ]
    },
    {
      "cell_type": "code",
      "execution_count": null,
      "metadata": {
        "colab": {
          "base_uri": "https://localhost:8080/"
        },
        "id": "WZ0_gYHP4ln6",
        "outputId": "7f04c691-0c0e-43a8-d03b-0659a62b9d32"
      },
      "outputs": [
        {
          "output_type": "execute_result",
          "data": {
            "text/plain": [
              "array([[18,  4],\n",
              "       [ 3,  4],\n",
              "       [ 5, 18],\n",
              "       [12,  5],\n",
              "       [ 1, 17]])"
            ]
          },
          "metadata": {},
          "execution_count": 12
        }
      ],
      "source": [
        "#Creamos una matriz a partir de el arreglo anterior\n",
        "\n",
        "matriz1 = enteros_aleatorios_arreglo.reshape(5, 2)\n",
        "matriz1"
      ]
    },
    {
      "cell_type": "code",
      "execution_count": null,
      "metadata": {
        "id": "Ovm3AA0-44Ph"
      },
      "outputs": [],
      "source": [
        "#creamos una matriz cuadrada de tamaño 4X4cuyos elementos se elijan al azar entre 1 y 20\n",
        "m = []\n",
        "\n",
        "for i in range(1, 17): \n",
        "  x = np.random.randint(1,21) \n",
        "  m.append(x) #agrega los elementos que vas agregando a tu lista\n",
        "\n",
        "m_arreglo = np.array(m)\n",
        "matriz2 = m_arreglo.reshape(4, 4) #cambias la formula para que te muestre una matriz de 4x4"
      ]
    },
    {
      "cell_type": "code",
      "execution_count": null,
      "metadata": {
        "colab": {
          "base_uri": "https://localhost:8080/"
        },
        "id": "0ZQKw1il7b5m",
        "outputId": "5d8a1932-bd34-4165-cae6-7e246aebf2f5"
      },
      "outputs": [
        {
          "output_type": "execute_result",
          "data": {
            "text/plain": [
              "array([[17, 13,  5,  2],\n",
              "       [ 5,  2,  4,  6],\n",
              "       [ 9, 14,  1, 17],\n",
              "       [12,  4, 12,  6]])"
            ]
          },
          "metadata": {},
          "execution_count": 14
        }
      ],
      "source": [
        "matriz2\n",
        "#el resultado de lo de arriba"
      ]
    },
    {
      "cell_type": "code",
      "execution_count": null,
      "metadata": {
        "colab": {
          "base_uri": "https://localhost:8080/"
        },
        "id": "32jlHvh97eZV",
        "outputId": "1ee5c8f3-ae8f-4032-de2a-d430e7345de1"
      },
      "outputs": [
        {
          "output_type": "execute_result",
          "data": {
            "text/plain": [
              "4230.000000000003"
            ]
          },
          "metadata": {},
          "execution_count": 15
        }
      ],
      "source": [
        "#calcular el determinante\n",
        "np.linalg.det(matriz2)"
      ]
    },
    {
      "cell_type": "code",
      "execution_count": null,
      "metadata": {
        "colab": {
          "base_uri": "https://localhost:8080/"
        },
        "id": "CkBfd3Jb7uTp",
        "outputId": "2327d45c-e9c4-4b26-f392-314a162d5fc7"
      },
      "outputs": [
        {
          "output_type": "execute_result",
          "data": {
            "text/plain": [
              "array([[ 0.12387707,  0.5498818 , -0.12955083, -0.22411348],\n",
              "       [-0.04397163, -0.57304965,  0.13758865,  0.19787234],\n",
              "       [-0.09739953, -0.46288416,  0.07895981,  0.27163121],\n",
              "       [-0.02364066,  0.20803783,  0.00945626, -0.06028369]])"
            ]
          },
          "metadata": {},
          "execution_count": 16
        }
      ],
      "source": [
        "#calcular la inversa\n",
        "np.linalg.inv(matriz2)"
      ]
    },
    {
      "cell_type": "code",
      "execution_count": null,
      "metadata": {
        "colab": {
          "base_uri": "https://localhost:8080/"
        },
        "id": "tkCPkGmD8JUh",
        "outputId": "25fbe31c-fae6-45d6-dd9a-949347cea4e7"
      },
      "outputs": [
        {
          "output_type": "execute_result",
          "data": {
            "text/plain": [
              "array([[17, 13,  5,  2,  5,  2,  4,  6],\n",
              "       [ 9, 14,  1, 17, 12,  4, 12,  6]])"
            ]
          },
          "metadata": {},
          "execution_count": 17
        }
      ],
      "source": [
        "matriz3 = m_arreglo.reshape(2,8)\n",
        "matriz3\n",
        "#creas un arreglo"
      ]
    },
    {
      "cell_type": "code",
      "execution_count": null,
      "metadata": {
        "colab": {
          "base_uri": "https://localhost:8080/"
        },
        "id": "WElK6yO58l3s",
        "outputId": "ab3024a0-9b66-4d96-9588-a302a45baa78"
      },
      "outputs": [
        {
          "output_type": "execute_result",
          "data": {
            "text/plain": [
              "array([[342, 290,  94, 104, 138,  52, 120, 132],\n",
              "       [ 87,  95,  19,  74,  63,  22,  60,  42],\n",
              "       [247, 317,  43, 316, 241,  82, 236, 138],\n",
              "       [249, 226,  65, 109, 120,  44, 108, 102],\n",
              "       [170, 251,  22, 291, 209,  70, 208, 108]])"
            ]
          },
          "metadata": {},
          "execution_count": 18
        }
      ],
      "source": [
        "matriz1@matriz3 #es lo mismo que poner: np.matmu1(matriz1, matriz3)"
      ]
    },
    {
      "cell_type": "markdown",
      "metadata": {
        "id": "r90iCaGk86GJ"
      },
      "source": [
        "Nuestras muestras aleatorias las vamos acomodando en una matriz."
      ]
    },
    {
      "cell_type": "code",
      "execution_count": null,
      "metadata": {
        "colab": {
          "base_uri": "https://localhost:8080/",
          "height": 288
        },
        "id": "9XGgzGoM9-rA",
        "outputId": "3554d073-62c6-44c9-ca8c-bf91b259f65f"
      },
      "outputs": [
        {
          "output_type": "execute_result",
          "data": {
            "text/plain": [
              "   muestra 1  muestra 2  muestra 3  muestra 4  muestra 5  muestra 6  \\\n",
              "0          1          0          1          0          0          0   \n",
              "1          0          1          0          0          1          0   \n",
              "2          0          0          1          1          1          0   \n",
              "3          0          1          1          1          0          0   \n",
              "4          1          0          0          1          1          1   \n",
              "\n",
              "   muestra 7  muestra 8  muestra 9  muestra 10  \n",
              "0          1          1          1           1  \n",
              "1          1          0          0           0  \n",
              "2          0          0          0           0  \n",
              "3          0          1          0           1  \n",
              "4          0          0          1           0  "
            ],
            "text/html": [
              "\n",
              "  <div id=\"df-7c81efac-0020-4cd4-8971-20175e37cc0a\">\n",
              "    <div class=\"colab-df-container\">\n",
              "      <div>\n",
              "<style scoped>\n",
              "    .dataframe tbody tr th:only-of-type {\n",
              "        vertical-align: middle;\n",
              "    }\n",
              "\n",
              "    .dataframe tbody tr th {\n",
              "        vertical-align: top;\n",
              "    }\n",
              "\n",
              "    .dataframe thead th {\n",
              "        text-align: right;\n",
              "    }\n",
              "</style>\n",
              "<table border=\"1\" class=\"dataframe\">\n",
              "  <thead>\n",
              "    <tr style=\"text-align: right;\">\n",
              "      <th></th>\n",
              "      <th>muestra 1</th>\n",
              "      <th>muestra 2</th>\n",
              "      <th>muestra 3</th>\n",
              "      <th>muestra 4</th>\n",
              "      <th>muestra 5</th>\n",
              "      <th>muestra 6</th>\n",
              "      <th>muestra 7</th>\n",
              "      <th>muestra 8</th>\n",
              "      <th>muestra 9</th>\n",
              "      <th>muestra 10</th>\n",
              "    </tr>\n",
              "  </thead>\n",
              "  <tbody>\n",
              "    <tr>\n",
              "      <th>0</th>\n",
              "      <td>1</td>\n",
              "      <td>0</td>\n",
              "      <td>1</td>\n",
              "      <td>0</td>\n",
              "      <td>0</td>\n",
              "      <td>0</td>\n",
              "      <td>1</td>\n",
              "      <td>1</td>\n",
              "      <td>1</td>\n",
              "      <td>1</td>\n",
              "    </tr>\n",
              "    <tr>\n",
              "      <th>1</th>\n",
              "      <td>0</td>\n",
              "      <td>1</td>\n",
              "      <td>0</td>\n",
              "      <td>0</td>\n",
              "      <td>1</td>\n",
              "      <td>0</td>\n",
              "      <td>1</td>\n",
              "      <td>0</td>\n",
              "      <td>0</td>\n",
              "      <td>0</td>\n",
              "    </tr>\n",
              "    <tr>\n",
              "      <th>2</th>\n",
              "      <td>0</td>\n",
              "      <td>0</td>\n",
              "      <td>1</td>\n",
              "      <td>1</td>\n",
              "      <td>1</td>\n",
              "      <td>0</td>\n",
              "      <td>0</td>\n",
              "      <td>0</td>\n",
              "      <td>0</td>\n",
              "      <td>0</td>\n",
              "    </tr>\n",
              "    <tr>\n",
              "      <th>3</th>\n",
              "      <td>0</td>\n",
              "      <td>1</td>\n",
              "      <td>1</td>\n",
              "      <td>1</td>\n",
              "      <td>0</td>\n",
              "      <td>0</td>\n",
              "      <td>0</td>\n",
              "      <td>1</td>\n",
              "      <td>0</td>\n",
              "      <td>1</td>\n",
              "    </tr>\n",
              "    <tr>\n",
              "      <th>4</th>\n",
              "      <td>1</td>\n",
              "      <td>0</td>\n",
              "      <td>0</td>\n",
              "      <td>1</td>\n",
              "      <td>1</td>\n",
              "      <td>1</td>\n",
              "      <td>0</td>\n",
              "      <td>0</td>\n",
              "      <td>1</td>\n",
              "      <td>0</td>\n",
              "    </tr>\n",
              "  </tbody>\n",
              "</table>\n",
              "</div>\n",
              "      <button class=\"colab-df-convert\" onclick=\"convertToInteractive('df-7c81efac-0020-4cd4-8971-20175e37cc0a')\"\n",
              "              title=\"Convert this dataframe to an interactive table.\"\n",
              "              style=\"display:none;\">\n",
              "        \n",
              "  <svg xmlns=\"http://www.w3.org/2000/svg\" height=\"24px\"viewBox=\"0 0 24 24\"\n",
              "       width=\"24px\">\n",
              "    <path d=\"M0 0h24v24H0V0z\" fill=\"none\"/>\n",
              "    <path d=\"M18.56 5.44l.94 2.06.94-2.06 2.06-.94-2.06-.94-.94-2.06-.94 2.06-2.06.94zm-11 1L8.5 8.5l.94-2.06 2.06-.94-2.06-.94L8.5 2.5l-.94 2.06-2.06.94zm10 10l.94 2.06.94-2.06 2.06-.94-2.06-.94-.94-2.06-.94 2.06-2.06.94z\"/><path d=\"M17.41 7.96l-1.37-1.37c-.4-.4-.92-.59-1.43-.59-.52 0-1.04.2-1.43.59L10.3 9.45l-7.72 7.72c-.78.78-.78 2.05 0 2.83L4 21.41c.39.39.9.59 1.41.59.51 0 1.02-.2 1.41-.59l7.78-7.78 2.81-2.81c.8-.78.8-2.07 0-2.86zM5.41 20L4 18.59l7.72-7.72 1.47 1.35L5.41 20z\"/>\n",
              "  </svg>\n",
              "      </button>\n",
              "      \n",
              "  <style>\n",
              "    .colab-df-container {\n",
              "      display:flex;\n",
              "      flex-wrap:wrap;\n",
              "      gap: 12px;\n",
              "    }\n",
              "\n",
              "    .colab-df-convert {\n",
              "      background-color: #E8F0FE;\n",
              "      border: none;\n",
              "      border-radius: 50%;\n",
              "      cursor: pointer;\n",
              "      display: none;\n",
              "      fill: #1967D2;\n",
              "      height: 32px;\n",
              "      padding: 0 0 0 0;\n",
              "      width: 32px;\n",
              "    }\n",
              "\n",
              "    .colab-df-convert:hover {\n",
              "      background-color: #E2EBFA;\n",
              "      box-shadow: 0px 1px 2px rgba(60, 64, 67, 0.3), 0px 1px 3px 1px rgba(60, 64, 67, 0.15);\n",
              "      fill: #174EA6;\n",
              "    }\n",
              "\n",
              "    [theme=dark] .colab-df-convert {\n",
              "      background-color: #3B4455;\n",
              "      fill: #D2E3FC;\n",
              "    }\n",
              "\n",
              "    [theme=dark] .colab-df-convert:hover {\n",
              "      background-color: #434B5C;\n",
              "      box-shadow: 0px 1px 3px 1px rgba(0, 0, 0, 0.15);\n",
              "      filter: drop-shadow(0px 1px 2px rgba(0, 0, 0, 0.3));\n",
              "      fill: #FFFFFF;\n",
              "    }\n",
              "  </style>\n",
              "\n",
              "      <script>\n",
              "        const buttonEl =\n",
              "          document.querySelector('#df-7c81efac-0020-4cd4-8971-20175e37cc0a button.colab-df-convert');\n",
              "        buttonEl.style.display =\n",
              "          google.colab.kernel.accessAllowed ? 'block' : 'none';\n",
              "\n",
              "        async function convertToInteractive(key) {\n",
              "          const element = document.querySelector('#df-7c81efac-0020-4cd4-8971-20175e37cc0a');\n",
              "          const dataTable =\n",
              "            await google.colab.kernel.invokeFunction('convertToInteractive',\n",
              "                                                     [key], {});\n",
              "          if (!dataTable) return;\n",
              "\n",
              "          const docLinkHtml = 'Like what you see? Visit the ' +\n",
              "            '<a target=\"_blank\" href=https://colab.research.google.com/notebooks/data_table.ipynb>data table notebook</a>'\n",
              "            + ' to learn more about interactive tables.';\n",
              "          element.innerHTML = '';\n",
              "          dataTable['output_type'] = 'display_data';\n",
              "          await google.colab.output.renderOutput(dataTable, element);\n",
              "          const docLink = document.createElement('div');\n",
              "          docLink.innerHTML = docLinkHtml;\n",
              "          element.appendChild(docLink);\n",
              "        }\n",
              "      </script>\n",
              "    </div>\n",
              "  </div>\n",
              "  "
            ]
          },
          "metadata": {},
          "execution_count": 21
        }
      ],
      "source": [
        "# vamos a crear una matriz, cuyos elementos registren el resultado de volados. \n",
        "# resultado de volados\n",
        "\n",
        "# agila = 0 \n",
        "# sol = 1\n",
        "\n",
        "\n",
        "import pandas as pd #crear tablas\n",
        "df50 = pd.DataFrame() #usamos 50 porque realizmos 50 volados de 10 monedas\n",
        "\n",
        "\n",
        "for i in range (1, 11): # vamos a aventar 50 veces 10 monedas\n",
        "  volados_muestra = np.random.binomial (1, 0.5, 5) # (1, 0.5, 5) # (n, p, size=none)\n",
        "                                        # n = lo que te da en el lanzamiento de una moneda (1 = lanzas una vez la moneda)\n",
        "                                        # p = probalidad en que salga ágila o sol (0.5 = probabilidad justa)\n",
        "                                        # size = el numero de monedas que lanzas (5 = 5x10)\n",
        "  col = f\"muestra {i}\"\n",
        "  df50[col] = volados_muestra\n",
        "\n",
        "df50"
      ]
    },
    {
      "cell_type": "code",
      "source": [
        "df50_medias = pd.DataFrame(df50.mean(), columns = [\"muestra de medias\"] )\n",
        "df50_medias\n",
        "# Con esto sacas el promedio (las medias)"
      ],
      "metadata": {
        "colab": {
          "base_uri": "https://localhost:8080/",
          "height": 363
        },
        "id": "Oi49wA2JjltC",
        "outputId": "a80108b4-bcf0-4e88-803b-d21ca322e691"
      },
      "execution_count": null,
      "outputs": [
        {
          "output_type": "execute_result",
          "data": {
            "text/plain": [
              "            muestra de medias\n",
              "muestra 1                 0.4\n",
              "muestra 2                 0.4\n",
              "muestra 3                 0.6\n",
              "muestra 4                 0.6\n",
              "muestra 5                 0.6\n",
              "muestra 6                 0.2\n",
              "muestra 7                 0.4\n",
              "muestra 8                 0.4\n",
              "muestra 9                 0.4\n",
              "muestra 10                0.4"
            ],
            "text/html": [
              "\n",
              "  <div id=\"df-6e41e24c-6a3f-41a8-8dd5-6510e5a7ecb6\">\n",
              "    <div class=\"colab-df-container\">\n",
              "      <div>\n",
              "<style scoped>\n",
              "    .dataframe tbody tr th:only-of-type {\n",
              "        vertical-align: middle;\n",
              "    }\n",
              "\n",
              "    .dataframe tbody tr th {\n",
              "        vertical-align: top;\n",
              "    }\n",
              "\n",
              "    .dataframe thead th {\n",
              "        text-align: right;\n",
              "    }\n",
              "</style>\n",
              "<table border=\"1\" class=\"dataframe\">\n",
              "  <thead>\n",
              "    <tr style=\"text-align: right;\">\n",
              "      <th></th>\n",
              "      <th>muestra de medias</th>\n",
              "    </tr>\n",
              "  </thead>\n",
              "  <tbody>\n",
              "    <tr>\n",
              "      <th>muestra 1</th>\n",
              "      <td>0.4</td>\n",
              "    </tr>\n",
              "    <tr>\n",
              "      <th>muestra 2</th>\n",
              "      <td>0.4</td>\n",
              "    </tr>\n",
              "    <tr>\n",
              "      <th>muestra 3</th>\n",
              "      <td>0.6</td>\n",
              "    </tr>\n",
              "    <tr>\n",
              "      <th>muestra 4</th>\n",
              "      <td>0.6</td>\n",
              "    </tr>\n",
              "    <tr>\n",
              "      <th>muestra 5</th>\n",
              "      <td>0.6</td>\n",
              "    </tr>\n",
              "    <tr>\n",
              "      <th>muestra 6</th>\n",
              "      <td>0.2</td>\n",
              "    </tr>\n",
              "    <tr>\n",
              "      <th>muestra 7</th>\n",
              "      <td>0.4</td>\n",
              "    </tr>\n",
              "    <tr>\n",
              "      <th>muestra 8</th>\n",
              "      <td>0.4</td>\n",
              "    </tr>\n",
              "    <tr>\n",
              "      <th>muestra 9</th>\n",
              "      <td>0.4</td>\n",
              "    </tr>\n",
              "    <tr>\n",
              "      <th>muestra 10</th>\n",
              "      <td>0.4</td>\n",
              "    </tr>\n",
              "  </tbody>\n",
              "</table>\n",
              "</div>\n",
              "      <button class=\"colab-df-convert\" onclick=\"convertToInteractive('df-6e41e24c-6a3f-41a8-8dd5-6510e5a7ecb6')\"\n",
              "              title=\"Convert this dataframe to an interactive table.\"\n",
              "              style=\"display:none;\">\n",
              "        \n",
              "  <svg xmlns=\"http://www.w3.org/2000/svg\" height=\"24px\"viewBox=\"0 0 24 24\"\n",
              "       width=\"24px\">\n",
              "    <path d=\"M0 0h24v24H0V0z\" fill=\"none\"/>\n",
              "    <path d=\"M18.56 5.44l.94 2.06.94-2.06 2.06-.94-2.06-.94-.94-2.06-.94 2.06-2.06.94zm-11 1L8.5 8.5l.94-2.06 2.06-.94-2.06-.94L8.5 2.5l-.94 2.06-2.06.94zm10 10l.94 2.06.94-2.06 2.06-.94-2.06-.94-.94-2.06-.94 2.06-2.06.94z\"/><path d=\"M17.41 7.96l-1.37-1.37c-.4-.4-.92-.59-1.43-.59-.52 0-1.04.2-1.43.59L10.3 9.45l-7.72 7.72c-.78.78-.78 2.05 0 2.83L4 21.41c.39.39.9.59 1.41.59.51 0 1.02-.2 1.41-.59l7.78-7.78 2.81-2.81c.8-.78.8-2.07 0-2.86zM5.41 20L4 18.59l7.72-7.72 1.47 1.35L5.41 20z\"/>\n",
              "  </svg>\n",
              "      </button>\n",
              "      \n",
              "  <style>\n",
              "    .colab-df-container {\n",
              "      display:flex;\n",
              "      flex-wrap:wrap;\n",
              "      gap: 12px;\n",
              "    }\n",
              "\n",
              "    .colab-df-convert {\n",
              "      background-color: #E8F0FE;\n",
              "      border: none;\n",
              "      border-radius: 50%;\n",
              "      cursor: pointer;\n",
              "      display: none;\n",
              "      fill: #1967D2;\n",
              "      height: 32px;\n",
              "      padding: 0 0 0 0;\n",
              "      width: 32px;\n",
              "    }\n",
              "\n",
              "    .colab-df-convert:hover {\n",
              "      background-color: #E2EBFA;\n",
              "      box-shadow: 0px 1px 2px rgba(60, 64, 67, 0.3), 0px 1px 3px 1px rgba(60, 64, 67, 0.15);\n",
              "      fill: #174EA6;\n",
              "    }\n",
              "\n",
              "    [theme=dark] .colab-df-convert {\n",
              "      background-color: #3B4455;\n",
              "      fill: #D2E3FC;\n",
              "    }\n",
              "\n",
              "    [theme=dark] .colab-df-convert:hover {\n",
              "      background-color: #434B5C;\n",
              "      box-shadow: 0px 1px 3px 1px rgba(0, 0, 0, 0.15);\n",
              "      filter: drop-shadow(0px 1px 2px rgba(0, 0, 0, 0.3));\n",
              "      fill: #FFFFFF;\n",
              "    }\n",
              "  </style>\n",
              "\n",
              "      <script>\n",
              "        const buttonEl =\n",
              "          document.querySelector('#df-6e41e24c-6a3f-41a8-8dd5-6510e5a7ecb6 button.colab-df-convert');\n",
              "        buttonEl.style.display =\n",
              "          google.colab.kernel.accessAllowed ? 'block' : 'none';\n",
              "\n",
              "        async function convertToInteractive(key) {\n",
              "          const element = document.querySelector('#df-6e41e24c-6a3f-41a8-8dd5-6510e5a7ecb6');\n",
              "          const dataTable =\n",
              "            await google.colab.kernel.invokeFunction('convertToInteractive',\n",
              "                                                     [key], {});\n",
              "          if (!dataTable) return;\n",
              "\n",
              "          const docLinkHtml = 'Like what you see? Visit the ' +\n",
              "            '<a target=\"_blank\" href=https://colab.research.google.com/notebooks/data_table.ipynb>data table notebook</a>'\n",
              "            + ' to learn more about interactive tables.';\n",
              "          element.innerHTML = '';\n",
              "          dataTable['output_type'] = 'display_data';\n",
              "          await google.colab.output.renderOutput(dataTable, element);\n",
              "          const docLink = document.createElement('div');\n",
              "          docLink.innerHTML = docLinkHtml;\n",
              "          element.appendChild(docLink);\n",
              "        }\n",
              "      </script>\n",
              "    </div>\n",
              "  </div>\n",
              "  "
            ]
          },
          "metadata": {},
          "execution_count": 24
        }
      ]
    },
    {
      "cell_type": "code",
      "source": [
        "# Un istograma la frecuencia de un hecho por medio de la distribución de los datos\n",
        "# seaborn es para hacer graficas y estadisticas (sns.distplot)\n",
        "import seaborn as sns\n",
        "sns.distplot(df50_medias);\n",
        "#con esto realizas una gráfica de acuerdo a los datos que tienes de tu media"
      ],
      "metadata": {
        "colab": {
          "base_uri": "https://localhost:8080/",
          "height": 321
        },
        "id": "skMxXn0XlTTy",
        "outputId": "a0046fec-908e-4161-c156-a28c32efbe63"
      },
      "execution_count": null,
      "outputs": [
        {
          "output_type": "stream",
          "name": "stderr",
          "text": [
            "/usr/local/lib/python3.7/dist-packages/seaborn/distributions.py:2619: FutureWarning: `distplot` is a deprecated function and will be removed in a future version. Please adapt your code to use either `displot` (a figure-level function with similar flexibility) or `histplot` (an axes-level function for histograms).\n",
            "  warnings.warn(msg, FutureWarning)\n"
          ]
        },
        {
          "output_type": "display_data",
          "data": {
            "text/plain": [
              "<Figure size 432x288 with 1 Axes>"
            ],
            "image/png": "[encoded data removed]"
          },
          "metadata": {
            "needs_background": "light"
          }
        }
      ]
    }
  ],
  "metadata": {
    "colab": {
      "provenance": [],
      "authorship_tag": "ABX9TyPvEnLkRiEqNSyUdKSdYPu9",
      "include_colab_link": true
    },
    "kernelspec": {
      "display_name": "Python 3",
      "name": "python3"
    },
    "language_info": {
      "name": "python"
    }
  },
  "nbformat": 4,
  "nbformat_minor": 0
}