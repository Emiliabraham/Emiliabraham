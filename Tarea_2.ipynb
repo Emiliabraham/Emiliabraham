{
  "nbformat": 4,
  "nbformat_minor": 0,
  "metadata": {
    "colab": {
      "provenance": [],
      "include_colab_link": true
    },
    "kernelspec": {
      "name": "python3",
      "display_name": "Python 3"
    },
    "language_info": {
      "name": "python"
    }
  },
  "cells": [
    {
      "cell_type": "markdown",
      "metadata": {
        "id": "view-in-github",
        "colab_type": "text"
      },
      "source": [
        "<a href=\"https://colab.research.google.com/github/Emiliabraham/Emiliabraham/blob/main/Tarea_2.ipynb\" target=\"_parent\"><img src=\"https://colab.research.google.com/assets/colab-badge.svg\" alt=\"Open In Colab\"/></a>"
      ]
    },
    {
      "cell_type": "markdown",
      "source": [
        "1. Lanzas una moneda justa tres veces: \n",
        "  - ¿Cuál es la probabilidad de que observes exactamente una cara/águila?\n",
        "  - Dado que has observado al menos una cara, ¿cuál es la probabilidad de que observes al menos dos caras?"
      ],
      "metadata": {
        "id": "5X1lBx7yjFPH"
      }
    },
    {
      "cell_type": "code",
      "source": [
        "from itertools import product "
      ],
      "metadata": {
        "id": "Wa7KSUPojafj"
      },
      "execution_count": null,
      "outputs": []
    },
    {
      "cell_type": "code",
      "source": [
        " "
      ],
      "metadata": {
        "colab": {
          "base_uri": "https://localhost:8080/"
        },
        "id": "VfqGN03WjnZC",
        "outputId": "434032c2-9431-47f5-8979-632747a85a4c"
      },
      "execution_count": null,
      "outputs": [
        {
          "output_type": "execute_result",
          "data": {
            "text/plain": [
              "{('a', 'a', 'a'),\n",
              " ('a', 'a', 's'),\n",
              " ('a', 's', 'a'),\n",
              " ('a', 's', 's'),\n",
              " ('s', 'a', 'a'),\n",
              " ('s', 'a', 's'),\n",
              " ('s', 's', 'a'),\n",
              " ('s', 's', 's')}"
            ]
          },
          "metadata": {},
          "execution_count": 52
        }
      ]
    },
    {
      "cell_type": "code",
      "source": [
        "A = {om for om in Omega if om.count (\"a\")>= 1}\n",
        "A"
      ],
      "metadata": {
        "colab": {
          "base_uri": "https://localhost:8080/"
        },
        "id": "ZpO4-2wBkVQJ",
        "outputId": "e1a941bb-0a2e-4b53-b873-1bd6c2f33ff8"
      },
      "execution_count": null,
      "outputs": [
        {
          "output_type": "execute_result",
          "data": {
            "text/plain": [
              "{('a', 'a', 'a'),\n",
              " ('a', 'a', 's'),\n",
              " ('a', 's', 'a'),\n",
              " ('a', 's', 's'),\n",
              " ('s', 'a', 'a'),\n",
              " ('s', 'a', 's'),\n",
              " ('s', 's', 'a')}"
            ]
          },
          "metadata": {},
          "execution_count": 53
        }
      ]
    },
    {
      "cell_type": "code",
      "source": [
        "len(A)/len(Omega)"
      ],
      "metadata": {
        "colab": {
          "base_uri": "https://localhost:8080/"
        },
        "id": "UlHZNYZ3l0nr",
        "outputId": "8b1aedd9-2815-40a4-bb77-d982321ccc76"
      },
      "execution_count": null,
      "outputs": [
        {
          "output_type": "execute_result",
          "data": {
            "text/plain": [
              "0.875"
            ]
          },
          "metadata": {},
          "execution_count": 54
        }
      ]
    },
    {
      "cell_type": "code",
      "source": [
        "B = {om for om in Omega if om.count (\"a\")>=2}\n",
        "B"
      ],
      "metadata": {
        "colab": {
          "base_uri": "https://localhost:8080/"
        },
        "id": "u3pBVOcxmMzj",
        "outputId": "d260a39a-7b20-4afc-cc88-fd37dd37b934"
      },
      "execution_count": null,
      "outputs": [
        {
          "output_type": "execute_result",
          "data": {
            "text/plain": [
              "{('a', 'a', 'a'), ('a', 'a', 's'), ('a', 's', 'a'), ('s', 'a', 'a')}"
            ]
          },
          "metadata": {},
          "execution_count": 55
        }
      ]
    },
    {
      "cell_type": "code",
      "source": [
        "len(B)/len(Omega)"
      ],
      "metadata": {
        "colab": {
          "base_uri": "https://localhost:8080/"
        },
        "id": "aC1Yfz0qmvAS",
        "outputId": "d1a83dd0-0463-4237-faf0-53aa42ab9f9c"
      },
      "execution_count": null,
      "outputs": [
        {
          "output_type": "execute_result",
          "data": {
            "text/plain": [
              "0.5"
            ]
          },
          "metadata": {},
          "execution_count": 56
        }
      ]
    },
    {
      "cell_type": "code",
      "source": [
        "#otra opción para sacar la probabilidad\n",
        "def prob(E): \n",
        "  return len(E)/len(Omega)"
      ],
      "metadata": {
        "id": "VniKjKNcFPMm"
      },
      "execution_count": null,
      "outputs": []
    },
    {
      "cell_type": "code",
      "source": [
        "prob(A)"
      ],
      "metadata": {
        "colab": {
          "base_uri": "https://localhost:8080/"
        },
        "id": "2awxYkReFXtp",
        "outputId": "b37a579e-cd39-42b4-c9fb-aabc66774389"
      },
      "execution_count": null,
      "outputs": [
        {
          "output_type": "execute_result",
          "data": {
            "text/plain": [
              "0.875"
            ]
          },
          "metadata": {},
          "execution_count": 58
        }
      ]
    },
    {
      "cell_type": "code",
      "source": [
        "prob(B)"
      ],
      "metadata": {
        "colab": {
          "base_uri": "https://localhost:8080/"
        },
        "id": "M8BYW_TNFeLl",
        "outputId": "9b9bb9e4-cf12-4ee5-cc99-0ce14284f59d"
      },
      "execution_count": null,
      "outputs": [
        {
          "output_type": "execute_result",
          "data": {
            "text/plain": [
              "0.5"
            ]
          },
          "metadata": {},
          "execution_count": 59
        }
      ]
    },
    {
      "cell_type": "markdown",
      "source": [
        "2. Para tres eventos A, B y C, sabemos que:\n",
        "  - $A$ y $C$ son independientes\n",
        "  - $B$ y $C$ son independientes \n",
        "  - $A$ y $B$ son disjuntos \n",
        "  - P($A$ U $C$) = 2/3, P($B$ U $C$) = 3/4, P($A$ U $B$ U $C$) = 11/12\n",
        "  - Encuentra P($A$), P($B$), y P($C$)\n",
        "  \n",
        "  ONENOTE"
      ],
      "metadata": {
        "id": "bu-fei4Rm3-p"
      }
    },
    {
      "cell_type": "markdown",
      "source": [
        "3. En la CDMX llueve la tercera parte (1/3) de los días. Dado que llueve, habrá mucho tráfico con una probabilidad de 1/2, y dado que no llueve, habrá mucho tráfico con una probabilidad de 1/4. Si llueve y hay mucho tráfico, llego tarde al trabajo con una probabilidad de 1/2. Por otro lado, la probabilidad de llegar tarde se reduce a 1/8 si no llueve y no hay mucho tráfico. En otras situaciones (lluvia y sin tráfico, sin lluvia y tráfico) la probabilidad de llegar tarde es de 0.25 (1/4). Elige un día al azar\n",
        "  - ¿Cuál es la probabilidad de que no llueva y haya mucho tráfico y no llegue tarde?\n",
        "  - ¿Cuál es la probabilidad de que llegue tarde?\n",
        "  - Dado que llegué tarde al trabajo, ¿cuál es la probabilidad de que lloviera ese día?"
      ],
      "metadata": {
        "id": "KyGn76E7pWOM"
      }
    },
    {
      "cell_type": "code",
      "source": [
        "from matplotlib_venn import venn2, venn2_circles, venn2_unweighted\n",
        "from matplotlib_venn import venn3, venn3_circles, venn3_unweighted\n",
        "from matplotlib import pyplot as ptl"
      ],
      "metadata": {
        "id": "c49AqvAlvMyI"
      },
      "execution_count": null,
      "outputs": []
    },
    {
      "cell_type": "code",
      "source": [
        "venn2(subsets = (3/4, 1/4, 1/8), set_labels=(\"A tiempo\", \"Tráfico\"))"
      ],
      "metadata": {
        "colab": {
          "base_uri": "https://localhost:8080/",
          "height": 268
        },
        "id": "HRR21dlyTg_1",
        "outputId": "cf5fb021-f191-4abc-d5ac-5967556d833e"
      },
      "execution_count": null,
      "outputs": [
        {
          "output_type": "execute_result",
          "data": {
            "text/plain": [
              "<matplotlib_venn._common.VennDiagram at 0x7f7cf3ce2790>"
            ]
          },
          "metadata": {},
          "execution_count": 42
        },
        {
          "output_type": "display_data",
          "data": {
            "text/plain": [
              "<Figure size 432x288 with 1 Axes>"
            ],
            "image/png": "[encoded data removed]"
          },
          "metadata": {}
        }
      ]
    },
    {
      "cell_type": "code",
      "source": [
        "venn2(subsets = (1/4, 1/4, 0.0416), set_labels= (\"Tarde\", \"Tráfico\"))"
      ],
      "metadata": {
        "colab": {
          "base_uri": "https://localhost:8080/",
          "height": 258
        },
        "id": "Zk3SgQTBTg3h",
        "outputId": "5745a8b8-1874-433f-8e25-e5eb4a4f83e2"
      },
      "execution_count": null,
      "outputs": [
        {
          "output_type": "execute_result",
          "data": {
            "text/plain": [
              "<matplotlib_venn._common.VennDiagram at 0x7f7cf3c6e990>"
            ]
          },
          "metadata": {},
          "execution_count": 43
        },
        {
          "output_type": "display_data",
          "data": {
            "text/plain": [
              "<Figure size 432x288 with 1 Axes>"
            ],
            "image/png": "[encoded data removed]"
          },
          "metadata": {}
        }
      ]
    },
    {
      "cell_type": "code",
      "source": [
        "venn3(subsets = (0.125, 0.0625, 0.0416, 0.125, 0.083, 0.0416, 0.083), set_labels = (\"Tráfico\", \"Tarde\", \"Lluvia\"))"
      ],
      "metadata": {
        "colab": {
          "base_uri": "https://localhost:8080/",
          "height": 269
        },
        "id": "qNz1oyfKCUol",
        "outputId": "ad7e19df-54c2-46e8-879b-53276037449e"
      },
      "execution_count": null,
      "outputs": [
        {
          "output_type": "execute_result",
          "data": {
            "text/plain": [
              "<matplotlib_venn._common.VennDiagram at 0x7f7cf3b75990>"
            ]
          },
          "metadata": {},
          "execution_count": 47
        },
        {
          "output_type": "display_data",
          "data": {
            "text/plain": [
              "<Figure size 432x288 with 1 Axes>"
            ],
            "image/png": "[encoded data removed]"
          },
          "metadata": {}
        }
      ]
    },
    {
      "cell_type": "markdown",
      "source": [
        "4. En cierto pueblo, 30% de la gente son conservadores, 50% socialistas y 20% liberales. En esta localidad en las últimas elecciones votaron el 65% de los conservadores, el 82% de los socialistas y el 50% de los liberales. se selecciona al azar una persona del pueblo y afirma que votó en las últimas elecciones. ¿Cuál es la probabilidad de que sea socialista?"
      ],
      "metadata": {
        "id": "Ge2ldyXTvNK2"
      }
    },
    {
      "cell_type": "code",
      "source": [
        "from matplotlib_venn import venn2, venn2_circles, venn2_unweighted\n",
        "from matplotlib import pyplot as ptl"
      ],
      "metadata": {
        "id": "N0jHeu4B_jKs"
      },
      "execution_count": null,
      "outputs": []
    },
    {
      "cell_type": "code",
      "source": [
        "venn2(subsets = (1/2, 41/50, 41/100), set_labels = (\"Socialistas\", \"Votaron\"))"
      ],
      "metadata": {
        "colab": {
          "base_uri": "https://localhost:8080/",
          "height": 268
        },
        "id": "xtpviePU_3_f",
        "outputId": "efac0281-4979-4065-d49b-13caa014088b"
      },
      "execution_count": null,
      "outputs": [
        {
          "output_type": "execute_result",
          "data": {
            "text/plain": [
              "<matplotlib_venn._common.VennDiagram at 0x7f7cf3b34490>"
            ]
          },
          "metadata": {},
          "execution_count": 50
        },
        {
          "output_type": "display_data",
          "data": {
            "text/plain": [
              "<Figure size 432x288 with 1 Axes>"
            ],
            "image/png": "[encoded data removed]"
          },
          "metadata": {}
        }
      ]
    }
  ]
}