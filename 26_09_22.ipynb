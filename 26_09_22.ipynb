{
  "nbformat": 4,
  "nbformat_minor": 0,
  "metadata": {
    "colab": {
      "provenance": [],
      "authorship_tag": "ABX9TyMtpzo3eP4aNly+C06Om6Cq",
      "include_colab_link": true
    },
    "kernelspec": {
      "name": "python3",
      "display_name": "Python 3"
    },
    "language_info": {
      "name": "python"
    }
  },
  "cells": [
    {
      "cell_type": "markdown",
      "metadata": {
        "id": "view-in-github",
        "colab_type": "text"
      },
      "source": [
        "<a href=\"https://colab.research.google.com/github/Emiliabraham/Emiliabraham/blob/main/26_09_22.ipynb\" target=\"_parent\"><img src=\"https://colab.research.google.com/assets/colab-badge.svg\" alt=\"Open In Colab\"/></a>"
      ]
    },
    {
      "cell_type": "code",
      "execution_count": null,
      "metadata": {
        "id": "yUCNu0s3bN4O"
      },
      "outputs": [],
      "source": [
        "string1 = \"Hola mundo\""
      ]
    },
    {
      "cell_type": "code",
      "source": [
        "string1.split()\n",
        "#separar las palabras"
      ],
      "metadata": {
        "colab": {
          "base_uri": "https://localhost:8080/"
        },
        "id": "YY6WZTpRbadU",
        "outputId": "6c78b607-6575-454e-c7bf-dbb0396db16c"
      },
      "execution_count": null,
      "outputs": [
        {
          "output_type": "execute_result",
          "data": {
            "text/plain": [
              "['Hola', 'mundo']"
            ]
          },
          "metadata": {},
          "execution_count": 3
        }
      ]
    },
    {
      "cell_type": "code",
      "source": [
        "string1.split (\"o\")\n",
        "#sirve para quitar una letro (la del paréntesis)"
      ],
      "metadata": {
        "colab": {
          "base_uri": "https://localhost:8080/"
        },
        "id": "O7TYaPmrcD3q",
        "outputId": "f067e989-cdaa-42da-8b45-7bebaf676f90"
      },
      "execution_count": null,
      "outputs": [
        {
          "output_type": "execute_result",
          "data": {
            "text/plain": [
              "['H', 'la mund', '']"
            ]
          },
          "metadata": {},
          "execution_count": 4
        }
      ]
    },
    {
      "cell_type": "code",
      "source": [
        "string1.upper()\n",
        "#mayusculas"
      ],
      "metadata": {
        "colab": {
          "base_uri": "https://localhost:8080/",
          "height": 38
        },
        "id": "GVy5ldILbiuU",
        "outputId": "1640d616-9ae7-4c98-ff29-e91a06a8cba4"
      },
      "execution_count": null,
      "outputs": [
        {
          "output_type": "execute_result",
          "data": {
            "text/plain": [
              "'HOLA MUNDO'"
            ],
            "application/vnd.google.colaboratory.intrinsic+json": {
              "type": "string"
            }
          },
          "metadata": {},
          "execution_count": 5
        }
      ]
    },
    {
      "cell_type": "code",
      "source": [
        "string1.lower()\n",
        "#minusculas"
      ],
      "metadata": {
        "colab": {
          "base_uri": "https://localhost:8080/",
          "height": 38
        },
        "id": "h8eKjGx4bpz8",
        "outputId": "721c652b-2079-4f3e-9101-5965faf519a4"
      },
      "execution_count": null,
      "outputs": [
        {
          "output_type": "execute_result",
          "data": {
            "text/plain": [
              "'hola mundo'"
            ],
            "application/vnd.google.colaboratory.intrinsic+json": {
              "type": "string"
            }
          },
          "metadata": {},
          "execution_count": 6
        }
      ]
    },
    {
      "cell_type": "code",
      "source": [
        "#funciones regresa valor\n",
        "#los procedimientos no nos regresas (en python no existen los procedimientos)"
      ],
      "metadata": {
        "id": "sB5Bnlydb2Jp"
      },
      "execution_count": null,
      "outputs": []
    },
    {
      "cell_type": "code",
      "source": [
        "#def dar de alta una función\n",
        "def mayusculas (palabra):\n",
        "  return palabra.upper ()\n",
        "#return: cual sera el valor que regresas\n",
        "#upper: es para sacar mayusculas"
      ],
      "metadata": {
        "id": "cxxPRmpucBg4"
      },
      "execution_count": null,
      "outputs": []
    },
    {
      "cell_type": "code",
      "source": [
        "string1Mayus = mayusculas (string1)\n",
        "print (string1Mayus)"
      ],
      "metadata": {
        "colab": {
          "base_uri": "https://localhost:8080/"
        },
        "id": "GqWIxUFEcYab",
        "outputId": "a34e7637-7dbf-42c0-ff7c-b6218f1bdd04"
      },
      "execution_count": null,
      "outputs": [
        {
          "output_type": "stream",
          "name": "stdout",
          "text": [
            "HOLA MUNDO\n"
          ]
        }
      ]
    },
    {
      "cell_type": "code",
      "source": [
        "lista1 = [\"Hola\", \"Mundo\", \"Francia\", \"Concha\"]\n",
        "lista2 = []\n",
        "#En la lista 2 se van a gusradar todos los resultados\n",
        "for i in lista1:\n",
        "  print(i)\n",
        "  palabra_mayuscula = mayusculas (i)\n",
        "  print(palabra_mayuscula)\n",
        "  lista2.append(palabra_mayuscula)\n",
        "#append: agregar"
      ],
      "metadata": {
        "colab": {
          "base_uri": "https://localhost:8080/"
        },
        "id": "MlrfP4-RdScZ",
        "outputId": "fa9223f6-b2fc-41a7-e3fc-5a57402367f3"
      },
      "execution_count": null,
      "outputs": [
        {
          "output_type": "stream",
          "name": "stdout",
          "text": [
            "Hola\n",
            "HOLA\n",
            "Mundo\n",
            "MUNDO\n",
            "Francia\n",
            "FRANCIA\n",
            "Concha\n",
            "CONCHA\n"
          ]
        }
      ]
    },
    {
      "cell_type": "code",
      "source": [
        "print(lista2)"
      ],
      "metadata": {
        "colab": {
          "base_uri": "https://localhost:8080/"
        },
        "id": "O-Es3N4UeDuv",
        "outputId": "69739756-bb1a-45d2-be23-9f46225467f2"
      },
      "execution_count": null,
      "outputs": [
        {
          "output_type": "stream",
          "name": "stdout",
          "text": [
            "['HOLA', 'MUNDO', 'FRANCIA', 'CONCHA']\n"
          ]
        }
      ]
    },
    {
      "cell_type": "code",
      "source": [
        "def potencia_cuadrado(numero):\n",
        "  potencia = numero**numero\n",
        "  cuadrado = numero**2\n",
        "  return potencia, cuadrado\n",
        "# el asterisco (**) es para elevar a la potencia\n",
        "#return: regresar los valores"
      ],
      "metadata": {
        "id": "PFEiZ-NwepF0"
      },
      "execution_count": null,
      "outputs": []
    },
    {
      "cell_type": "code",
      "source": [
        "pot, cuad = potencia_cuadrado(5)"
      ],
      "metadata": {
        "id": "5-9zpUxsfhfl"
      },
      "execution_count": null,
      "outputs": []
    },
    {
      "cell_type": "code",
      "source": [
        "pot"
      ],
      "metadata": {
        "colab": {
          "base_uri": "https://localhost:8080/"
        },
        "id": "5nPzzuK9fmi1",
        "outputId": "c2a52727-2169-4c2e-ca29-239a4e30ef39"
      },
      "execution_count": null,
      "outputs": [
        {
          "output_type": "execute_result",
          "data": {
            "text/plain": [
              "3125"
            ]
          },
          "metadata": {},
          "execution_count": 16
        }
      ]
    },
    {
      "cell_type": "code",
      "source": [
        "cuad"
      ],
      "metadata": {
        "colab": {
          "base_uri": "https://localhost:8080/"
        },
        "id": "abJWcG8Xf_AD",
        "outputId": "70444f2a-cbd3-463c-acc8-0e983b40c497"
      },
      "execution_count": null,
      "outputs": [
        {
          "output_type": "execute_result",
          "data": {
            "text/plain": [
              "25"
            ]
          },
          "metadata": {},
          "execution_count": 15
        }
      ]
    },
    {
      "cell_type": "code",
      "source": [
        "import pandas as pd\n",
        "#libreria para pasar un dat set (información) a data frame (tablas)"
      ],
      "metadata": {
        "id": "kAGsJ6CjgbxK"
      },
      "execution_count": null,
      "outputs": []
    },
    {
      "cell_type": "code",
      "source": [
        "df = pd.read_csv(\"https://raw.githubusercontent.com/rmpbastos/data_sets/main/kaggle_housing/house_df.csv\")"
      ],
      "metadata": {
        "id": "WIH48cvPgqjC"
      },
      "execution_count": null,
      "outputs": []
    },
    {
      "cell_type": "code",
      "source": [
        "df.head()\n",
        "#head: verlos primeros 5 valores el data frame "
      ],
      "metadata": {
        "colab": {
          "base_uri": "https://localhost:8080/",
          "height": 268
        },
        "id": "cadNFgBig4iH",
        "outputId": "d7312462-cbb4-45fc-9024-a28df02c7cd2"
      },
      "execution_count": null,
      "outputs": [
        {
          "output_type": "execute_result",
          "data": {
            "text/plain": [
              "   Id  LotArea Street Neighborhood HouseStyle  YearBuilt CentralAir  \\\n",
              "0   1     8450   Pave      CollgCr     2Story       2003          Y   \n",
              "1   2     9600   Pave      Veenker     1Story       1976          Y   \n",
              "2   3    11250   Pave      CollgCr     2Story       2001          Y   \n",
              "3   4     9550   Pave      Crawfor     2Story       1915          Y   \n",
              "4   5    14260   Pave      NoRidge     2Story       2000          Y   \n",
              "\n",
              "   BedroomAbvGr  Fireplaces GarageType  GarageYrBlt  GarageArea  PoolArea  \\\n",
              "0             3           0     Attchd       2003.0         548         0   \n",
              "1             3           1     Attchd       1976.0         460         0   \n",
              "2             3           1     Attchd       2001.0         608         0   \n",
              "3             3           1     Detchd       1998.0         642         0   \n",
              "4             4           1     Attchd       2000.0         836         0   \n",
              "\n",
              "  PoolQC Fence  SalePrice  \n",
              "0    NaN   NaN     208500  \n",
              "1    NaN   NaN     181500  \n",
              "2    NaN   NaN     223500  \n",
              "3    NaN   NaN     140000  \n",
              "4    NaN   NaN     250000  "
            ],
            "text/html": [
              "\n",
              "  <div id=\"df-cea8b57d-2f88-4a3b-b656-ec2cace99281\">\n",
              "    <div class=\"colab-df-container\">\n",
              "      <div>\n",
              "<style scoped>\n",
              "    .dataframe tbody tr th:only-of-type {\n",
              "        vertical-align: middle;\n",
              "    }\n",
              "\n",
              "    .dataframe tbody tr th {\n",
              "        vertical-align: top;\n",
              "    }\n",
              "\n",
              "    .dataframe thead th {\n",
              "        text-align: right;\n",
              "    }\n",
              "</style>\n",
              "<table border=\"1\" class=\"dataframe\">\n",
              "  <thead>\n",
              "    <tr style=\"text-align: right;\">\n",
              "      <th></th>\n",
              "      <th>Id</th>\n",
              "      <th>LotArea</th>\n",
              "      <th>Street</th>\n",
              "      <th>Neighborhood</th>\n",
              "      <th>HouseStyle</th>\n",
              "      <th>YearBuilt</th>\n",
              "      <th>CentralAir</th>\n",
              "      <th>BedroomAbvGr</th>\n",
              "      <th>Fireplaces</th>\n",
              "      <th>GarageType</th>\n",
              "      <th>GarageYrBlt</th>\n",
              "      <th>GarageArea</th>\n",
              "      <th>PoolArea</th>\n",
              "      <th>PoolQC</th>\n",
              "      <th>Fence</th>\n",
              "      <th>SalePrice</th>\n",
              "    </tr>\n",
              "  </thead>\n",
              "  <tbody>\n",
              "    <tr>\n",
              "      <th>0</th>\n",
              "      <td>1</td>\n",
              "      <td>8450</td>\n",
              "      <td>Pave</td>\n",
              "      <td>CollgCr</td>\n",
              "      <td>2Story</td>\n",
              "      <td>2003</td>\n",
              "      <td>Y</td>\n",
              "      <td>3</td>\n",
              "      <td>0</td>\n",
              "      <td>Attchd</td>\n",
              "      <td>2003.0</td>\n",
              "      <td>548</td>\n",
              "      <td>0</td>\n",
              "      <td>NaN</td>\n",
              "      <td>NaN</td>\n",
              "      <td>208500</td>\n",
              "    </tr>\n",
              "    <tr>\n",
              "      <th>1</th>\n",
              "      <td>2</td>\n",
              "      <td>9600</td>\n",
              "      <td>Pave</td>\n",
              "      <td>Veenker</td>\n",
              "      <td>1Story</td>\n",
              "      <td>1976</td>\n",
              "      <td>Y</td>\n",
              "      <td>3</td>\n",
              "      <td>1</td>\n",
              "      <td>Attchd</td>\n",
              "      <td>1976.0</td>\n",
              "      <td>460</td>\n",
              "      <td>0</td>\n",
              "      <td>NaN</td>\n",
              "      <td>NaN</td>\n",
              "      <td>181500</td>\n",
              "    </tr>\n",
              "    <tr>\n",
              "      <th>2</th>\n",
              "      <td>3</td>\n",
              "      <td>11250</td>\n",
              "      <td>Pave</td>\n",
              "      <td>CollgCr</td>\n",
              "      <td>2Story</td>\n",
              "      <td>2001</td>\n",
              "      <td>Y</td>\n",
              "      <td>3</td>\n",
              "      <td>1</td>\n",
              "      <td>Attchd</td>\n",
              "      <td>2001.0</td>\n",
              "      <td>608</td>\n",
              "      <td>0</td>\n",
              "      <td>NaN</td>\n",
              "      <td>NaN</td>\n",
              "      <td>223500</td>\n",
              "    </tr>\n",
              "    <tr>\n",
              "      <th>3</th>\n",
              "      <td>4</td>\n",
              "      <td>9550</td>\n",
              "      <td>Pave</td>\n",
              "      <td>Crawfor</td>\n",
              "      <td>2Story</td>\n",
              "      <td>1915</td>\n",
              "      <td>Y</td>\n",
              "      <td>3</td>\n",
              "      <td>1</td>\n",
              "      <td>Detchd</td>\n",
              "      <td>1998.0</td>\n",
              "      <td>642</td>\n",
              "      <td>0</td>\n",
              "      <td>NaN</td>\n",
              "      <td>NaN</td>\n",
              "      <td>140000</td>\n",
              "    </tr>\n",
              "    <tr>\n",
              "      <th>4</th>\n",
              "      <td>5</td>\n",
              "      <td>14260</td>\n",
              "      <td>Pave</td>\n",
              "      <td>NoRidge</td>\n",
              "      <td>2Story</td>\n",
              "      <td>2000</td>\n",
              "      <td>Y</td>\n",
              "      <td>4</td>\n",
              "      <td>1</td>\n",
              "      <td>Attchd</td>\n",
              "      <td>2000.0</td>\n",
              "      <td>836</td>\n",
              "      <td>0</td>\n",
              "      <td>NaN</td>\n",
              "      <td>NaN</td>\n",
              "      <td>250000</td>\n",
              "    </tr>\n",
              "  </tbody>\n",
              "</table>\n",
              "</div>\n",
              "      <button class=\"colab-df-convert\" onclick=\"convertToInteractive('df-cea8b57d-2f88-4a3b-b656-ec2cace99281')\"\n",
              "              title=\"Convert this dataframe to an interactive table.\"\n",
              "              style=\"display:none;\">\n",
              "        \n",
              "  <svg xmlns=\"http://www.w3.org/2000/svg\" height=\"24px\"viewBox=\"0 0 24 24\"\n",
              "       width=\"24px\">\n",
              "    <path d=\"M0 0h24v24H0V0z\" fill=\"none\"/>\n",
              "    <path d=\"M18.56 5.44l.94 2.06.94-2.06 2.06-.94-2.06-.94-.94-2.06-.94 2.06-2.06.94zm-11 1L8.5 8.5l.94-2.06 2.06-.94-2.06-.94L8.5 2.5l-.94 2.06-2.06.94zm10 10l.94 2.06.94-2.06 2.06-.94-2.06-.94-.94-2.06-.94 2.06-2.06.94z\"/><path d=\"M17.41 7.96l-1.37-1.37c-.4-.4-.92-.59-1.43-.59-.52 0-1.04.2-1.43.59L10.3 9.45l-7.72 7.72c-.78.78-.78 2.05 0 2.83L4 21.41c.39.39.9.59 1.41.59.51 0 1.02-.2 1.41-.59l7.78-7.78 2.81-2.81c.8-.78.8-2.07 0-2.86zM5.41 20L4 18.59l7.72-7.72 1.47 1.35L5.41 20z\"/>\n",
              "  </svg>\n",
              "      </button>\n",
              "      \n",
              "  <style>\n",
              "    .colab-df-container {\n",
              "      display:flex;\n",
              "      flex-wrap:wrap;\n",
              "      gap: 12px;\n",
              "    }\n",
              "\n",
              "    .colab-df-convert {\n",
              "      background-color: #E8F0FE;\n",
              "      border: none;\n",
              "      border-radius: 50%;\n",
              "      cursor: pointer;\n",
              "      display: none;\n",
              "      fill: #1967D2;\n",
              "      height: 32px;\n",
              "      padding: 0 0 0 0;\n",
              "      width: 32px;\n",
              "    }\n",
              "\n",
              "    .colab-df-convert:hover {\n",
              "      background-color: #E2EBFA;\n",
              "      box-shadow: 0px 1px 2px rgba(60, 64, 67, 0.3), 0px 1px 3px 1px rgba(60, 64, 67, 0.15);\n",
              "      fill: #174EA6;\n",
              "    }\n",
              "\n",
              "    [theme=dark] .colab-df-convert {\n",
              "      background-color: #3B4455;\n",
              "      fill: #D2E3FC;\n",
              "    }\n",
              "\n",
              "    [theme=dark] .colab-df-convert:hover {\n",
              "      background-color: #434B5C;\n",
              "      box-shadow: 0px 1px 3px 1px rgba(0, 0, 0, 0.15);\n",
              "      filter: drop-shadow(0px 1px 2px rgba(0, 0, 0, 0.3));\n",
              "      fill: #FFFFFF;\n",
              "    }\n",
              "  </style>\n",
              "\n",
              "      <script>\n",
              "        const buttonEl =\n",
              "          document.querySelector('#df-cea8b57d-2f88-4a3b-b656-ec2cace99281 button.colab-df-convert');\n",
              "        buttonEl.style.display =\n",
              "          google.colab.kernel.accessAllowed ? 'block' : 'none';\n",
              "\n",
              "        async function convertToInteractive(key) {\n",
              "          const element = document.querySelector('#df-cea8b57d-2f88-4a3b-b656-ec2cace99281');\n",
              "          const dataTable =\n",
              "            await google.colab.kernel.invokeFunction('convertToInteractive',\n",
              "                                                     [key], {});\n",
              "          if (!dataTable) return;\n",
              "\n",
              "          const docLinkHtml = 'Like what you see? Visit the ' +\n",
              "            '<a target=\"_blank\" href=https://colab.research.google.com/notebooks/data_table.ipynb>data table notebook</a>'\n",
              "            + ' to learn more about interactive tables.';\n",
              "          element.innerHTML = '';\n",
              "          dataTable['output_type'] = 'display_data';\n",
              "          await google.colab.output.renderOutput(dataTable, element);\n",
              "          const docLink = document.createElement('div');\n",
              "          docLink.innerHTML = docLinkHtml;\n",
              "          element.appendChild(docLink);\n",
              "        }\n",
              "      </script>\n",
              "    </div>\n",
              "  </div>\n",
              "  "
            ]
          },
          "metadata": {},
          "execution_count": 19
        }
      ]
    },
    {
      "cell_type": "code",
      "source": [
        "#Esto nos sirve para hacer un bloxplot, by es el x, lot area es el y, lo podemis comparar\n",
        "df.boxplot(by=\"HouseStyle\", column=[\"LotArea\"], grid=False)"
      ],
      "metadata": {
        "colab": {
          "base_uri": "https://localhost:8080/",
          "height": 375
        },
        "id": "vKBQK0p7MYr-",
        "outputId": "a1a7cfac-280a-42ea-e8a2-b0c740c361e7"
      },
      "execution_count": null,
      "outputs": [
        {
          "output_type": "stream",
          "name": "stderr",
          "text": [
            "/usr/local/lib/python3.7/dist-packages/matplotlib/cbook/__init__.py:1376: VisibleDeprecationWarning: Creating an ndarray from ragged nested sequences (which is a list-or-tuple of lists-or-tuples-or ndarrays with different lengths or shapes) is deprecated. If you meant to do this, you must specify 'dtype=object' when creating the ndarray.\n",
            "  X = np.atleast_1d(X.T if isinstance(X, np.ndarray) else np.asarray(X))\n"
          ]
        },
        {
          "output_type": "execute_result",
          "data": {
            "text/plain": [
              "<matplotlib.axes._subplots.AxesSubplot at 0x7f55e136db10>"
            ]
          },
          "metadata": {},
          "execution_count": 20
        },
        {
          "output_type": "display_data",
          "data": {
            "text/plain": [
              "<Figure size 432x288 with 1 Axes>"
            ],
            "image/png": "[encoded data removed]"
          },
          "metadata": {
            "needs_background": "light"
          }
        }
      ]
    },
    {
      "cell_type": "code",
      "source": [
        "#Nos la dimensionalidad de nuestra info\n",
        "df.shape"
      ],
      "metadata": {
        "colab": {
          "base_uri": "https://localhost:8080/"
        },
        "id": "vno1J5FNNwTM",
        "outputId": "8f7d4b75-0a62-42a3-cb2b-4447564ef7f8"
      },
      "execution_count": null,
      "outputs": [
        {
          "output_type": "execute_result",
          "data": {
            "text/plain": [
              "(1460, 16)"
            ]
          },
          "metadata": {},
          "execution_count": 21
        }
      ]
    },
    {
      "cell_type": "code",
      "source": [
        "#mean es la dimensión\n",
        "df.describe"
      ],
      "metadata": {
        "colab": {
          "base_uri": "https://localhost:8080/"
        },
        "id": "s-K9msvSN5Bm",
        "outputId": "ef5b691d-bf54-4e25-cdbb-009b3281e774"
      },
      "execution_count": null,
      "outputs": [
        {
          "output_type": "execute_result",
          "data": {
            "text/plain": [
              "<bound method NDFrame.describe of         Id  LotArea Street Neighborhood HouseStyle  YearBuilt CentralAir  \\\n",
              "0        1     8450   Pave      CollgCr     2Story       2003          Y   \n",
              "1        2     9600   Pave      Veenker     1Story       1976          Y   \n",
              "2        3    11250   Pave      CollgCr     2Story       2001          Y   \n",
              "3        4     9550   Pave      Crawfor     2Story       1915          Y   \n",
              "4        5    14260   Pave      NoRidge     2Story       2000          Y   \n",
              "...    ...      ...    ...          ...        ...        ...        ...   \n",
              "1455  1456     7917   Pave      Gilbert     2Story       1999          Y   \n",
              "1456  1457    13175   Pave       NWAmes     1Story       1978          Y   \n",
              "1457  1458     9042   Pave      Crawfor     2Story       1941          Y   \n",
              "1458  1459     9717   Pave        NAmes     1Story       1950          Y   \n",
              "1459  1460     9937   Pave      Edwards     1Story       1965          Y   \n",
              "\n",
              "      BedroomAbvGr  Fireplaces GarageType  GarageYrBlt  GarageArea  PoolArea  \\\n",
              "0                3           0     Attchd       2003.0         548         0   \n",
              "1                3           1     Attchd       1976.0         460         0   \n",
              "2                3           1     Attchd       2001.0         608         0   \n",
              "3                3           1     Detchd       1998.0         642         0   \n",
              "4                4           1     Attchd       2000.0         836         0   \n",
              "...            ...         ...        ...          ...         ...       ...   \n",
              "1455             3           1     Attchd       1999.0         460         0   \n",
              "1456             3           2     Attchd       1978.0         500         0   \n",
              "1457             4           2     Attchd       1941.0         252         0   \n",
              "1458             2           0     Attchd       1950.0         240         0   \n",
              "1459             3           0     Attchd       1965.0         276         0   \n",
              "\n",
              "     PoolQC  Fence  SalePrice  \n",
              "0       NaN    NaN     208500  \n",
              "1       NaN    NaN     181500  \n",
              "2       NaN    NaN     223500  \n",
              "3       NaN    NaN     140000  \n",
              "4       NaN    NaN     250000  \n",
              "...     ...    ...        ...  \n",
              "1455    NaN    NaN     175000  \n",
              "1456    NaN  MnPrv     210000  \n",
              "1457    NaN  GdPrv     266500  \n",
              "1458    NaN    NaN     142125  \n",
              "1459    NaN    NaN     147500  \n",
              "\n",
              "[1460 rows x 16 columns]>"
            ]
          },
          "metadata": {},
          "execution_count": 23
        }
      ]
    },
    {
      "cell_type": "code",
      "source": [
        "#Nos da la descripción de la información y los tipos de datps que tenemos\n",
        "#Valor no nulo es que hay valor\n",
        "df.info"
      ],
      "metadata": {
        "colab": {
          "base_uri": "https://localhost:8080/"
        },
        "id": "j8Qd0824OQfI",
        "outputId": "965e05b4-24fd-488b-eccc-75d558f1e229"
      },
      "execution_count": null,
      "outputs": [
        {
          "output_type": "execute_result",
          "data": {
            "text/plain": [
              "<bound method DataFrame.info of         Id  LotArea Street Neighborhood HouseStyle  YearBuilt CentralAir  \\\n",
              "0        1     8450   Pave      CollgCr     2Story       2003          Y   \n",
              "1        2     9600   Pave      Veenker     1Story       1976          Y   \n",
              "2        3    11250   Pave      CollgCr     2Story       2001          Y   \n",
              "3        4     9550   Pave      Crawfor     2Story       1915          Y   \n",
              "4        5    14260   Pave      NoRidge     2Story       2000          Y   \n",
              "...    ...      ...    ...          ...        ...        ...        ...   \n",
              "1455  1456     7917   Pave      Gilbert     2Story       1999          Y   \n",
              "1456  1457    13175   Pave       NWAmes     1Story       1978          Y   \n",
              "1457  1458     9042   Pave      Crawfor     2Story       1941          Y   \n",
              "1458  1459     9717   Pave        NAmes     1Story       1950          Y   \n",
              "1459  1460     9937   Pave      Edwards     1Story       1965          Y   \n",
              "\n",
              "      BedroomAbvGr  Fireplaces GarageType  GarageYrBlt  GarageArea  PoolArea  \\\n",
              "0                3           0     Attchd       2003.0         548         0   \n",
              "1                3           1     Attchd       1976.0         460         0   \n",
              "2                3           1     Attchd       2001.0         608         0   \n",
              "3                3           1     Detchd       1998.0         642         0   \n",
              "4                4           1     Attchd       2000.0         836         0   \n",
              "...            ...         ...        ...          ...         ...       ...   \n",
              "1455             3           1     Attchd       1999.0         460         0   \n",
              "1456             3           2     Attchd       1978.0         500         0   \n",
              "1457             4           2     Attchd       1941.0         252         0   \n",
              "1458             2           0     Attchd       1950.0         240         0   \n",
              "1459             3           0     Attchd       1965.0         276         0   \n",
              "\n",
              "     PoolQC  Fence  SalePrice  \n",
              "0       NaN    NaN     208500  \n",
              "1       NaN    NaN     181500  \n",
              "2       NaN    NaN     223500  \n",
              "3       NaN    NaN     140000  \n",
              "4       NaN    NaN     250000  \n",
              "...     ...    ...        ...  \n",
              "1455    NaN    NaN     175000  \n",
              "1456    NaN  MnPrv     210000  \n",
              "1457    NaN  GdPrv     266500  \n",
              "1458    NaN    NaN     142125  \n",
              "1459    NaN    NaN     147500  \n",
              "\n",
              "[1460 rows x 16 columns]>"
            ]
          },
          "metadata": {},
          "execution_count": 24
        }
      ]
    },
    {
      "cell_type": "code",
      "source": [
        "df.columns\n",
        "#Informaciíøn de columnas"
      ],
      "metadata": {
        "colab": {
          "base_uri": "https://localhost:8080/"
        },
        "id": "J4wpu3DbOfw0",
        "outputId": "050f7236-27da-4d75-a297-1d0bd767a56d"
      },
      "execution_count": null,
      "outputs": [
        {
          "output_type": "execute_result",
          "data": {
            "text/plain": [
              "Index(['Id', 'LotArea', 'Street', 'Neighborhood', 'HouseStyle', 'YearBuilt',\n",
              "       'CentralAir', 'BedroomAbvGr', 'Fireplaces', 'GarageType', 'GarageYrBlt',\n",
              "       'GarageArea', 'PoolArea', 'PoolQC', 'Fence', 'SalePrice', 'sold'],\n",
              "      dtype='object')"
            ]
          },
          "metadata": {},
          "execution_count": 37
        }
      ]
    },
    {
      "cell_type": "code",
      "source": [
        "#Saber todo lo que hay en un las filas\n",
        "df.loc[0]"
      ],
      "metadata": {
        "colab": {
          "base_uri": "https://localhost:8080/"
        },
        "id": "Muejjp-iOlc-",
        "outputId": "7b912e6d-4de1-4068-aee5-1e64b6cf52ec"
      },
      "execution_count": null,
      "outputs": [
        {
          "output_type": "execute_result",
          "data": {
            "text/plain": [
              "Id                    1\n",
              "LotArea            8450\n",
              "Street             Pave\n",
              "Neighborhood    CollgCr\n",
              "HouseStyle       2Story\n",
              "YearBuilt          2003\n",
              "CentralAir            Y\n",
              "BedroomAbvGr          3\n",
              "Fireplaces            0\n",
              "GarageType       Attchd\n",
              "GarageYrBlt      2003.0\n",
              "GarageArea          548\n",
              "PoolArea              0\n",
              "PoolQC              NaN\n",
              "Fence               NaN\n",
              "SalePrice        208500\n",
              "sold                  N\n",
              "Name: 0, dtype: object"
            ]
          },
          "metadata": {},
          "execution_count": 38
        }
      ]
    },
    {
      "cell_type": "code",
      "source": [
        "df.loc[0, \"GarageYrBlt\"]"
      ],
      "metadata": {
        "colab": {
          "base_uri": "https://localhost:8080/"
        },
        "id": "ekWaWtyWOthR",
        "outputId": "670e70c2-2e46-4d60-89a9-307950a7c360"
      },
      "execution_count": null,
      "outputs": [
        {
          "output_type": "execute_result",
          "data": {
            "text/plain": [
              "2003.0"
            ]
          },
          "metadata": {},
          "execution_count": 27
        }
      ]
    },
    {
      "cell_type": "code",
      "source": [
        "#Acceder a la fila 0 y el valor inicial 0, nos sirve para mostrar un valor en específico. \n",
        "df.iloc[0,0]"
      ],
      "metadata": {
        "colab": {
          "base_uri": "https://localhost:8080/"
        },
        "id": "cBKsf3-oO223",
        "outputId": "4932da2b-7d79-4f67-cc71-8b466343334c"
      },
      "execution_count": null,
      "outputs": [
        {
          "output_type": "execute_result",
          "data": {
            "text/plain": [
              "1"
            ]
          },
          "metadata": {},
          "execution_count": 28
        }
      ]
    },
    {
      "cell_type": "code",
      "source": [
        "df.iloc[0]"
      ],
      "metadata": {
        "colab": {
          "base_uri": "https://localhost:8080/"
        },
        "id": "rb8OHRkVPEie",
        "outputId": "b69c870c-b839-4676-95b6-31025fc90edd"
      },
      "execution_count": null,
      "outputs": [
        {
          "output_type": "execute_result",
          "data": {
            "text/plain": [
              "Id                    1\n",
              "LotArea            8450\n",
              "Street             Pave\n",
              "Neighborhood    CollgCr\n",
              "HouseStyle       2Story\n",
              "YearBuilt          2003\n",
              "CentralAir            Y\n",
              "BedroomAbvGr          3\n",
              "Fireplaces            0\n",
              "GarageType       Attchd\n",
              "GarageYrBlt      2003.0\n",
              "GarageArea          548\n",
              "PoolArea              0\n",
              "PoolQC              NaN\n",
              "Fence               NaN\n",
              "SalePrice        208500\n",
              "Name: 0, dtype: object"
            ]
          },
          "metadata": {},
          "execution_count": 29
        }
      ]
    },
    {
      "cell_type": "code",
      "source": [
        "df_copia = df"
      ],
      "metadata": {
        "id": "INjWXt1CPXNZ"
      },
      "execution_count": null,
      "outputs": []
    },
    {
      "cell_type": "code",
      "source": [
        "df_copia[\"sold\"]=\"N\""
      ],
      "metadata": {
        "id": "L2FrrLwtPXh-"
      },
      "execution_count": null,
      "outputs": []
    },
    {
      "cell_type": "code",
      "source": [
        "#Mostrar todo lo que la columna 10\n",
        "df.iloc[:, 10]"
      ],
      "metadata": {
        "colab": {
          "base_uri": "https://localhost:8080/"
        },
        "id": "yDt7NNiXPI3F",
        "outputId": "4692ee11-bf96-46fe-8d68-553ae32324cd"
      },
      "execution_count": null,
      "outputs": [
        {
          "output_type": "execute_result",
          "data": {
            "text/plain": [
              "0       2003.0\n",
              "1       1976.0\n",
              "2       2001.0\n",
              "3       1998.0\n",
              "4       2000.0\n",
              "         ...  \n",
              "1455    1999.0\n",
              "1456    1978.0\n",
              "1457    1941.0\n",
              "1458    1950.0\n",
              "1459    1965.0\n",
              "Name: GarageYrBlt, Length: 1460, dtype: float64"
            ]
          },
          "metadata": {},
          "execution_count": 31
        }
      ]
    },
    {
      "cell_type": "code",
      "source": [
        "#Mostrar datos de una fila\n",
        "df.iloc[10, :]"
      ],
      "metadata": {
        "colab": {
          "base_uri": "https://localhost:8080/"
        },
        "id": "yedxUHyeRF2I",
        "outputId": "d83b2219-9454-485d-b06a-03c7392f7afb"
      },
      "execution_count": null,
      "outputs": [
        {
          "output_type": "execute_result",
          "data": {
            "text/plain": [
              "Id                  11\n",
              "LotArea          11200\n",
              "Street            Pave\n",
              "Neighborhood    Sawyer\n",
              "HouseStyle      1Story\n",
              "YearBuilt         1965\n",
              "CentralAir           Y\n",
              "BedroomAbvGr         3\n",
              "Fireplaces           0\n",
              "GarageType      Detchd\n",
              "GarageYrBlt     1965.0\n",
              "GarageArea         384\n",
              "PoolArea             0\n",
              "PoolQC             NaN\n",
              "Fence              NaN\n",
              "SalePrice       129500\n",
              "sold                 N\n",
              "Name: 10, dtype: object"
            ]
          },
          "metadata": {},
          "execution_count": 39
        }
      ]
    },
    {
      "cell_type": "code",
      "source": [
        "2020 in df.YearBuilt.unique()\n",
        "#buscar datos específicos"
      ],
      "metadata": {
        "colab": {
          "base_uri": "https://localhost:8080/"
        },
        "id": "AmeZCBIiPmG6",
        "outputId": "d7b55c9e-7b72-4274-a708-3fbf91ebeb17"
      },
      "execution_count": null,
      "outputs": [
        {
          "output_type": "execute_result",
          "data": {
            "text/plain": [
              "False"
            ]
          },
          "metadata": {},
          "execution_count": 40
        }
      ]
    },
    {
      "cell_type": "code",
      "source": [
        "df[df[\"YearBuilt\"]>1980]\n",
        "#Todos los datos mayores a 1980"
      ],
      "metadata": {
        "colab": {
          "base_uri": "https://localhost:8080/",
          "height": 483
        },
        "id": "GeHdphhpRhlO",
        "outputId": "56ae2e0d-606b-4bcd-9eb0-837afbb428a4"
      },
      "execution_count": null,
      "outputs": [
        {
          "output_type": "execute_result",
          "data": {
            "text/plain": [
              "        Id  LotArea Street Neighborhood HouseStyle  YearBuilt CentralAir  \\\n",
              "0        1     8450   Pave      CollgCr     2Story       2003          Y   \n",
              "2        3    11250   Pave      CollgCr     2Story       2001          Y   \n",
              "4        5    14260   Pave      NoRidge     2Story       2000          Y   \n",
              "5        6    14115   Pave      Mitchel     1.5Fin       1993          Y   \n",
              "6        7    10084   Pave      Somerst     1Story       2004          Y   \n",
              "...    ...      ...    ...          ...        ...        ...        ...   \n",
              "1451  1452     9262   Pave      Somerst     1Story       2008          Y   \n",
              "1452  1453     3675   Pave      Edwards       SLvl       2005          Y   \n",
              "1453  1454    17217   Pave      Mitchel     1Story       2006          Y   \n",
              "1454  1455     7500   Pave      Somerst     1Story       2004          Y   \n",
              "1455  1456     7917   Pave      Gilbert     2Story       1999          Y   \n",
              "\n",
              "      BedroomAbvGr  Fireplaces GarageType  GarageYrBlt  GarageArea  PoolArea  \\\n",
              "0                3           0     Attchd       2003.0         548         0   \n",
              "2                3           1     Attchd       2001.0         608         0   \n",
              "4                4           1     Attchd       2000.0         836         0   \n",
              "5                1           0     Attchd       1993.0         480         0   \n",
              "6                3           1     Attchd       2004.0         636         0   \n",
              "...            ...         ...        ...          ...         ...       ...   \n",
              "1451             3           1     Attchd       2008.0         840         0   \n",
              "1452             2           0    Basment       2005.0         525         0   \n",
              "1453             3           0        NaN          NaN           0         0   \n",
              "1454             2           0     Attchd       2004.0         400         0   \n",
              "1455             3           1     Attchd       1999.0         460         0   \n",
              "\n",
              "     PoolQC  Fence  SalePrice sold  \n",
              "0       NaN    NaN     208500    N  \n",
              "2       NaN    NaN     223500    N  \n",
              "4       NaN    NaN     250000    N  \n",
              "5       NaN  MnPrv     143000    N  \n",
              "6       NaN    NaN     307000    N  \n",
              "...     ...    ...        ...  ...  \n",
              "1451    NaN    NaN     287090    N  \n",
              "1452    NaN    NaN     145000    N  \n",
              "1453    NaN    NaN      84500    N  \n",
              "1454    NaN    NaN     185000    N  \n",
              "1455    NaN    NaN     175000    N  \n",
              "\n",
              "[602 rows x 17 columns]"
            ],
            "text/html": [
              "\n",
              "  <div id=\"df-32b3545a-d7ad-4b29-8f63-3c2536c44207\">\n",
              "    <div class=\"colab-df-container\">\n",
              "      <div>\n",
              "<style scoped>\n",
              "    .dataframe tbody tr th:only-of-type {\n",
              "        vertical-align: middle;\n",
              "    }\n",
              "\n",
              "    .dataframe tbody tr th {\n",
              "        vertical-align: top;\n",
              "    }\n",
              "\n",
              "    .dataframe thead th {\n",
              "        text-align: right;\n",
              "    }\n",
              "</style>\n",
              "<table border=\"1\" class=\"dataframe\">\n",
              "  <thead>\n",
              "    <tr style=\"text-align: right;\">\n",
              "      <th></th>\n",
              "      <th>Id</th>\n",
              "      <th>LotArea</th>\n",
              "      <th>Street</th>\n",
              "      <th>Neighborhood</th>\n",
              "      <th>HouseStyle</th>\n",
              "      <th>YearBuilt</th>\n",
              "      <th>CentralAir</th>\n",
              "      <th>BedroomAbvGr</th>\n",
              "      <th>Fireplaces</th>\n",
              "      <th>GarageType</th>\n",
              "      <th>GarageYrBlt</th>\n",
              "      <th>GarageArea</th>\n",
              "      <th>PoolArea</th>\n",
              "      <th>PoolQC</th>\n",
              "      <th>Fence</th>\n",
              "      <th>SalePrice</th>\n",
              "      <th>sold</th>\n",
              "    </tr>\n",
              "  </thead>\n",
              "  <tbody>\n",
              "    <tr>\n",
              "      <th>0</th>\n",
              "      <td>1</td>\n",
              "      <td>8450</td>\n",
              "      <td>Pave</td>\n",
              "      <td>CollgCr</td>\n",
              "      <td>2Story</td>\n",
              "      <td>2003</td>\n",
              "      <td>Y</td>\n",
              "      <td>3</td>\n",
              "      <td>0</td>\n",
              "      <td>Attchd</td>\n",
              "      <td>2003.0</td>\n",
              "      <td>548</td>\n",
              "      <td>0</td>\n",
              "      <td>NaN</td>\n",
              "      <td>NaN</td>\n",
              "      <td>208500</td>\n",
              "      <td>N</td>\n",
              "    </tr>\n",
              "    <tr>\n",
              "      <th>2</th>\n",
              "      <td>3</td>\n",
              "      <td>11250</td>\n",
              "      <td>Pave</td>\n",
              "      <td>CollgCr</td>\n",
              "      <td>2Story</td>\n",
              "      <td>2001</td>\n",
              "      <td>Y</td>\n",
              "      <td>3</td>\n",
              "      <td>1</td>\n",
              "      <td>Attchd</td>\n",
              "      <td>2001.0</td>\n",
              "      <td>608</td>\n",
              "      <td>0</td>\n",
              "      <td>NaN</td>\n",
              "      <td>NaN</td>\n",
              "      <td>223500</td>\n",
              "      <td>N</td>\n",
              "    </tr>\n",
              "    <tr>\n",
              "      <th>4</th>\n",
              "      <td>5</td>\n",
              "      <td>14260</td>\n",
              "      <td>Pave</td>\n",
              "      <td>NoRidge</td>\n",
              "      <td>2Story</td>\n",
              "      <td>2000</td>\n",
              "      <td>Y</td>\n",
              "      <td>4</td>\n",
              "      <td>1</td>\n",
              "      <td>Attchd</td>\n",
              "      <td>2000.0</td>\n",
              "      <td>836</td>\n",
              "      <td>0</td>\n",
              "      <td>NaN</td>\n",
              "      <td>NaN</td>\n",
              "      <td>250000</td>\n",
              "      <td>N</td>\n",
              "    </tr>\n",
              "    <tr>\n",
              "      <th>5</th>\n",
              "      <td>6</td>\n",
              "      <td>14115</td>\n",
              "      <td>Pave</td>\n",
              "      <td>Mitchel</td>\n",
              "      <td>1.5Fin</td>\n",
              "      <td>1993</td>\n",
              "      <td>Y</td>\n",
              "      <td>1</td>\n",
              "      <td>0</td>\n",
              "      <td>Attchd</td>\n",
              "      <td>1993.0</td>\n",
              "      <td>480</td>\n",
              "      <td>0</td>\n",
              "      <td>NaN</td>\n",
              "      <td>MnPrv</td>\n",
              "      <td>143000</td>\n",
              "      <td>N</td>\n",
              "    </tr>\n",
              "    <tr>\n",
              "      <th>6</th>\n",
              "      <td>7</td>\n",
              "      <td>10084</td>\n",
              "      <td>Pave</td>\n",
              "      <td>Somerst</td>\n",
              "      <td>1Story</td>\n",
              "      <td>2004</td>\n",
              "      <td>Y</td>\n",
              "      <td>3</td>\n",
              "      <td>1</td>\n",
              "      <td>Attchd</td>\n",
              "      <td>2004.0</td>\n",
              "      <td>636</td>\n",
              "      <td>0</td>\n",
              "      <td>NaN</td>\n",
              "      <td>NaN</td>\n",
              "      <td>307000</td>\n",
              "      <td>N</td>\n",
              "    </tr>\n",
              "    <tr>\n",
              "      <th>...</th>\n",
              "      <td>...</td>\n",
              "      <td>...</td>\n",
              "      <td>...</td>\n",
              "      <td>...</td>\n",
              "      <td>...</td>\n",
              "      <td>...</td>\n",
              "      <td>...</td>\n",
              "      <td>...</td>\n",
              "      <td>...</td>\n",
              "      <td>...</td>\n",
              "      <td>...</td>\n",
              "      <td>...</td>\n",
              "      <td>...</td>\n",
              "      <td>...</td>\n",
              "      <td>...</td>\n",
              "      <td>...</td>\n",
              "      <td>...</td>\n",
              "    </tr>\n",
              "    <tr>\n",
              "      <th>1451</th>\n",
              "      <td>1452</td>\n",
              "      <td>9262</td>\n",
              "      <td>Pave</td>\n",
              "      <td>Somerst</td>\n",
              "      <td>1Story</td>\n",
              "      <td>2008</td>\n",
              "      <td>Y</td>\n",
              "      <td>3</td>\n",
              "      <td>1</td>\n",
              "      <td>Attchd</td>\n",
              "      <td>2008.0</td>\n",
              "      <td>840</td>\n",
              "      <td>0</td>\n",
              "      <td>NaN</td>\n",
              "      <td>NaN</td>\n",
              "      <td>287090</td>\n",
              "      <td>N</td>\n",
              "    </tr>\n",
              "    <tr>\n",
              "      <th>1452</th>\n",
              "      <td>1453</td>\n",
              "      <td>3675</td>\n",
              "      <td>Pave</td>\n",
              "      <td>Edwards</td>\n",
              "      <td>SLvl</td>\n",
              "      <td>2005</td>\n",
              "      <td>Y</td>\n",
              "      <td>2</td>\n",
              "      <td>0</td>\n",
              "      <td>Basment</td>\n",
              "      <td>2005.0</td>\n",
              "      <td>525</td>\n",
              "      <td>0</td>\n",
              "      <td>NaN</td>\n",
              "      <td>NaN</td>\n",
              "      <td>145000</td>\n",
              "      <td>N</td>\n",
              "    </tr>\n",
              "    <tr>\n",
              "      <th>1453</th>\n",
              "      <td>1454</td>\n",
              "      <td>17217</td>\n",
              "      <td>Pave</td>\n",
              "      <td>Mitchel</td>\n",
              "      <td>1Story</td>\n",
              "      <td>2006</td>\n",
              "      <td>Y</td>\n",
              "      <td>3</td>\n",
              "      <td>0</td>\n",
              "      <td>NaN</td>\n",
              "      <td>NaN</td>\n",
              "      <td>0</td>\n",
              "      <td>0</td>\n",
              "      <td>NaN</td>\n",
              "      <td>NaN</td>\n",
              "      <td>84500</td>\n",
              "      <td>N</td>\n",
              "    </tr>\n",
              "    <tr>\n",
              "      <th>1454</th>\n",
              "      <td>1455</td>\n",
              "      <td>7500</td>\n",
              "      <td>Pave</td>\n",
              "      <td>Somerst</td>\n",
              "      <td>1Story</td>\n",
              "      <td>2004</td>\n",
              "      <td>Y</td>\n",
              "      <td>2</td>\n",
              "      <td>0</td>\n",
              "      <td>Attchd</td>\n",
              "      <td>2004.0</td>\n",
              "      <td>400</td>\n",
              "      <td>0</td>\n",
              "      <td>NaN</td>\n",
              "      <td>NaN</td>\n",
              "      <td>185000</td>\n",
              "      <td>N</td>\n",
              "    </tr>\n",
              "    <tr>\n",
              "      <th>1455</th>\n",
              "      <td>1456</td>\n",
              "      <td>7917</td>\n",
              "      <td>Pave</td>\n",
              "      <td>Gilbert</td>\n",
              "      <td>2Story</td>\n",
              "      <td>1999</td>\n",
              "      <td>Y</td>\n",
              "      <td>3</td>\n",
              "      <td>1</td>\n",
              "      <td>Attchd</td>\n",
              "      <td>1999.0</td>\n",
              "      <td>460</td>\n",
              "      <td>0</td>\n",
              "      <td>NaN</td>\n",
              "      <td>NaN</td>\n",
              "      <td>175000</td>\n",
              "      <td>N</td>\n",
              "    </tr>\n",
              "  </tbody>\n",
              "</table>\n",
              "<p>602 rows × 17 columns</p>\n",
              "</div>\n",
              "      <button class=\"colab-df-convert\" onclick=\"convertToInteractive('df-32b3545a-d7ad-4b29-8f63-3c2536c44207')\"\n",
              "              title=\"Convert this dataframe to an interactive table.\"\n",
              "              style=\"display:none;\">\n",
              "        \n",
              "  <svg xmlns=\"http://www.w3.org/2000/svg\" height=\"24px\"viewBox=\"0 0 24 24\"\n",
              "       width=\"24px\">\n",
              "    <path d=\"M0 0h24v24H0V0z\" fill=\"none\"/>\n",
              "    <path d=\"M18.56 5.44l.94 2.06.94-2.06 2.06-.94-2.06-.94-.94-2.06-.94 2.06-2.06.94zm-11 1L8.5 8.5l.94-2.06 2.06-.94-2.06-.94L8.5 2.5l-.94 2.06-2.06.94zm10 10l.94 2.06.94-2.06 2.06-.94-2.06-.94-.94-2.06-.94 2.06-2.06.94z\"/><path d=\"M17.41 7.96l-1.37-1.37c-.4-.4-.92-.59-1.43-.59-.52 0-1.04.2-1.43.59L10.3 9.45l-7.72 7.72c-.78.78-.78 2.05 0 2.83L4 21.41c.39.39.9.59 1.41.59.51 0 1.02-.2 1.41-.59l7.78-7.78 2.81-2.81c.8-.78.8-2.07 0-2.86zM5.41 20L4 18.59l7.72-7.72 1.47 1.35L5.41 20z\"/>\n",
              "  </svg>\n",
              "      </button>\n",
              "      \n",
              "  <style>\n",
              "    .colab-df-container {\n",
              "      display:flex;\n",
              "      flex-wrap:wrap;\n",
              "      gap: 12px;\n",
              "    }\n",
              "\n",
              "    .colab-df-convert {\n",
              "      background-color: #E8F0FE;\n",
              "      border: none;\n",
              "      border-radius: 50%;\n",
              "      cursor: pointer;\n",
              "      display: none;\n",
              "      fill: #1967D2;\n",
              "      height: 32px;\n",
              "      padding: 0 0 0 0;\n",
              "      width: 32px;\n",
              "    }\n",
              "\n",
              "    .colab-df-convert:hover {\n",
              "      background-color: #E2EBFA;\n",
              "      box-shadow: 0px 1px 2px rgba(60, 64, 67, 0.3), 0px 1px 3px 1px rgba(60, 64, 67, 0.15);\n",
              "      fill: #174EA6;\n",
              "    }\n",
              "\n",
              "    [theme=dark] .colab-df-convert {\n",
              "      background-color: #3B4455;\n",
              "      fill: #D2E3FC;\n",
              "    }\n",
              "\n",
              "    [theme=dark] .colab-df-convert:hover {\n",
              "      background-color: #434B5C;\n",
              "      box-shadow: 0px 1px 3px 1px rgba(0, 0, 0, 0.15);\n",
              "      filter: drop-shadow(0px 1px 2px rgba(0, 0, 0, 0.3));\n",
              "      fill: #FFFFFF;\n",
              "    }\n",
              "  </style>\n",
              "\n",
              "      <script>\n",
              "        const buttonEl =\n",
              "          document.querySelector('#df-32b3545a-d7ad-4b29-8f63-3c2536c44207 button.colab-df-convert');\n",
              "        buttonEl.style.display =\n",
              "          google.colab.kernel.accessAllowed ? 'block' : 'none';\n",
              "\n",
              "        async function convertToInteractive(key) {\n",
              "          const element = document.querySelector('#df-32b3545a-d7ad-4b29-8f63-3c2536c44207');\n",
              "          const dataTable =\n",
              "            await google.colab.kernel.invokeFunction('convertToInteractive',\n",
              "                                                     [key], {});\n",
              "          if (!dataTable) return;\n",
              "\n",
              "          const docLinkHtml = 'Like what you see? Visit the ' +\n",
              "            '<a target=\"_blank\" href=https://colab.research.google.com/notebooks/data_table.ipynb>data table notebook</a>'\n",
              "            + ' to learn more about interactive tables.';\n",
              "          element.innerHTML = '';\n",
              "          dataTable['output_type'] = 'display_data';\n",
              "          await google.colab.output.renderOutput(dataTable, element);\n",
              "          const docLink = document.createElement('div');\n",
              "          docLink.innerHTML = docLinkHtml;\n",
              "          element.appendChild(docLink);\n",
              "        }\n",
              "      </script>\n",
              "    </div>\n",
              "  </div>\n",
              "  "
            ]
          },
          "metadata": {},
          "execution_count": 41
        }
      ]
    },
    {
      "cell_type": "code",
      "source": [
        "df[df[\"YearBuilt\"] == 1980]\n",
        "#Todos los datos de algo específico"
      ],
      "metadata": {
        "colab": {
          "base_uri": "https://localhost:8080/",
          "height": 423
        },
        "id": "Jc1t9NFWRiBB",
        "outputId": "8c3928f0-0205-4e45-a21f-2e9cc6445699"
      },
      "execution_count": null,
      "outputs": [
        {
          "output_type": "execute_result",
          "data": {
            "text/plain": [
              "        Id  LotArea Street Neighborhood HouseStyle  YearBuilt CentralAir  \\\n",
              "243    244    10762   Pave      SawyerW     2Story       1980          Y   \n",
              "316    317    13005   Pave       NWAmes     2Story       1980          Y   \n",
              "319    320    14115   Pave       NWAmes       SLvl       1980          Y   \n",
              "599    600     1950   Pave      Blueste     2Story       1980          Y   \n",
              "634    635     6979   Pave      OldTown     SFoyer       1980          Y   \n",
              "680    681     8012   Pave      SawyerW     1Story       1980          Y   \n",
              "795    796     8400   Pave      SawyerW     2Story       1980          Y   \n",
              "924    925    10240   Pave       NWAmes     1Story       1980          Y   \n",
              "956    957     1300   Pave      Blueste     2Story       1980          Y   \n",
              "1129  1130     7200   Pave      OldTown     SFoyer       1980          Y   \n",
              "\n",
              "      BedroomAbvGr  Fireplaces GarageType  GarageYrBlt  GarageArea  PoolArea  \\\n",
              "243              3           1     Attchd       1980.0         288         0   \n",
              "316              4           1     Attchd       1983.0         484         0   \n",
              "319              3           2     Attchd       1980.0         588         0   \n",
              "599              3           1     Attchd       1980.0         452         0   \n",
              "634              0           0     Detchd       1980.0         576         0   \n",
              "680              2           1     Attchd       1980.0         264         0   \n",
              "795              3           1     Attchd       1980.0         476         0   \n",
              "924              3           1     Attchd       1980.0         612         0   \n",
              "956              2           1     Attchd       1980.0         462         0   \n",
              "1129             2           0     Detchd       1980.0         672         0   \n",
              "\n",
              "     PoolQC  Fence  SalePrice sold  \n",
              "243     NaN    NaN     120000    N  \n",
              "316     NaN  GdPrv     260000    N  \n",
              "319     NaN    NaN     187500    N  \n",
              "599     NaN  GdPrv     151000    N  \n",
              "634     NaN  GdPrv     144000    N  \n",
              "680     NaN    NaN     143000    N  \n",
              "795     NaN  MnPrv     171000    N  \n",
              "924     NaN    NaN     207500    N  \n",
              "956     NaN  GdPrv     124000    N  \n",
              "1129    NaN    NaN     140000    N  "
            ],
            "text/html": [
              "\n",
              "  <div id=\"df-4e960b24-b187-4730-98e4-7945d098d12f\">\n",
              "    <div class=\"colab-df-container\">\n",
              "      <div>\n",
              "<style scoped>\n",
              "    .dataframe tbody tr th:only-of-type {\n",
              "        vertical-align: middle;\n",
              "    }\n",
              "\n",
              "    .dataframe tbody tr th {\n",
              "        vertical-align: top;\n",
              "    }\n",
              "\n",
              "    .dataframe thead th {\n",
              "        text-align: right;\n",
              "    }\n",
              "</style>\n",
              "<table border=\"1\" class=\"dataframe\">\n",
              "  <thead>\n",
              "    <tr style=\"text-align: right;\">\n",
              "      <th></th>\n",
              "      <th>Id</th>\n",
              "      <th>LotArea</th>\n",
              "      <th>Street</th>\n",
              "      <th>Neighborhood</th>\n",
              "      <th>HouseStyle</th>\n",
              "      <th>YearBuilt</th>\n",
              "      <th>CentralAir</th>\n",
              "      <th>BedroomAbvGr</th>\n",
              "      <th>Fireplaces</th>\n",
              "      <th>GarageType</th>\n",
              "      <th>GarageYrBlt</th>\n",
              "      <th>GarageArea</th>\n",
              "      <th>PoolArea</th>\n",
              "      <th>PoolQC</th>\n",
              "      <th>Fence</th>\n",
              "      <th>SalePrice</th>\n",
              "      <th>sold</th>\n",
              "    </tr>\n",
              "  </thead>\n",
              "  <tbody>\n",
              "    <tr>\n",
              "      <th>243</th>\n",
              "      <td>244</td>\n",
              "      <td>10762</td>\n",
              "      <td>Pave</td>\n",
              "      <td>SawyerW</td>\n",
              "      <td>2Story</td>\n",
              "      <td>1980</td>\n",
              "      <td>Y</td>\n",
              "      <td>3</td>\n",
              "      <td>1</td>\n",
              "      <td>Attchd</td>\n",
              "      <td>1980.0</td>\n",
              "      <td>288</td>\n",
              "      <td>0</td>\n",
              "      <td>NaN</td>\n",
              "      <td>NaN</td>\n",
              "      <td>120000</td>\n",
              "      <td>N</td>\n",
              "    </tr>\n",
              "    <tr>\n",
              "      <th>316</th>\n",
              "      <td>317</td>\n",
              "      <td>13005</td>\n",
              "      <td>Pave</td>\n",
              "      <td>NWAmes</td>\n",
              "      <td>2Story</td>\n",
              "      <td>1980</td>\n",
              "      <td>Y</td>\n",
              "      <td>4</td>\n",
              "      <td>1</td>\n",
              "      <td>Attchd</td>\n",
              "      <td>1983.0</td>\n",
              "      <td>484</td>\n",
              "      <td>0</td>\n",
              "      <td>NaN</td>\n",
              "      <td>GdPrv</td>\n",
              "      <td>260000</td>\n",
              "      <td>N</td>\n",
              "    </tr>\n",
              "    <tr>\n",
              "      <th>319</th>\n",
              "      <td>320</td>\n",
              "      <td>14115</td>\n",
              "      <td>Pave</td>\n",
              "      <td>NWAmes</td>\n",
              "      <td>SLvl</td>\n",
              "      <td>1980</td>\n",
              "      <td>Y</td>\n",
              "      <td>3</td>\n",
              "      <td>2</td>\n",
              "      <td>Attchd</td>\n",
              "      <td>1980.0</td>\n",
              "      <td>588</td>\n",
              "      <td>0</td>\n",
              "      <td>NaN</td>\n",
              "      <td>NaN</td>\n",
              "      <td>187500</td>\n",
              "      <td>N</td>\n",
              "    </tr>\n",
              "    <tr>\n",
              "      <th>599</th>\n",
              "      <td>600</td>\n",
              "      <td>1950</td>\n",
              "      <td>Pave</td>\n",
              "      <td>Blueste</td>\n",
              "      <td>2Story</td>\n",
              "      <td>1980</td>\n",
              "      <td>Y</td>\n",
              "      <td>3</td>\n",
              "      <td>1</td>\n",
              "      <td>Attchd</td>\n",
              "      <td>1980.0</td>\n",
              "      <td>452</td>\n",
              "      <td>0</td>\n",
              "      <td>NaN</td>\n",
              "      <td>GdPrv</td>\n",
              "      <td>151000</td>\n",
              "      <td>N</td>\n",
              "    </tr>\n",
              "    <tr>\n",
              "      <th>634</th>\n",
              "      <td>635</td>\n",
              "      <td>6979</td>\n",
              "      <td>Pave</td>\n",
              "      <td>OldTown</td>\n",
              "      <td>SFoyer</td>\n",
              "      <td>1980</td>\n",
              "      <td>Y</td>\n",
              "      <td>0</td>\n",
              "      <td>0</td>\n",
              "      <td>Detchd</td>\n",
              "      <td>1980.0</td>\n",
              "      <td>576</td>\n",
              "      <td>0</td>\n",
              "      <td>NaN</td>\n",
              "      <td>GdPrv</td>\n",
              "      <td>144000</td>\n",
              "      <td>N</td>\n",
              "    </tr>\n",
              "    <tr>\n",
              "      <th>680</th>\n",
              "      <td>681</td>\n",
              "      <td>8012</td>\n",
              "      <td>Pave</td>\n",
              "      <td>SawyerW</td>\n",
              "      <td>1Story</td>\n",
              "      <td>1980</td>\n",
              "      <td>Y</td>\n",
              "      <td>2</td>\n",
              "      <td>1</td>\n",
              "      <td>Attchd</td>\n",
              "      <td>1980.0</td>\n",
              "      <td>264</td>\n",
              "      <td>0</td>\n",
              "      <td>NaN</td>\n",
              "      <td>NaN</td>\n",
              "      <td>143000</td>\n",
              "      <td>N</td>\n",
              "    </tr>\n",
              "    <tr>\n",
              "      <th>795</th>\n",
              "      <td>796</td>\n",
              "      <td>8400</td>\n",
              "      <td>Pave</td>\n",
              "      <td>SawyerW</td>\n",
              "      <td>2Story</td>\n",
              "      <td>1980</td>\n",
              "      <td>Y</td>\n",
              "      <td>3</td>\n",
              "      <td>1</td>\n",
              "      <td>Attchd</td>\n",
              "      <td>1980.0</td>\n",
              "      <td>476</td>\n",
              "      <td>0</td>\n",
              "      <td>NaN</td>\n",
              "      <td>MnPrv</td>\n",
              "      <td>171000</td>\n",
              "      <td>N</td>\n",
              "    </tr>\n",
              "    <tr>\n",
              "      <th>924</th>\n",
              "      <td>925</td>\n",
              "      <td>10240</td>\n",
              "      <td>Pave</td>\n",
              "      <td>NWAmes</td>\n",
              "      <td>1Story</td>\n",
              "      <td>1980</td>\n",
              "      <td>Y</td>\n",
              "      <td>3</td>\n",
              "      <td>1</td>\n",
              "      <td>Attchd</td>\n",
              "      <td>1980.0</td>\n",
              "      <td>612</td>\n",
              "      <td>0</td>\n",
              "      <td>NaN</td>\n",
              "      <td>NaN</td>\n",
              "      <td>207500</td>\n",
              "      <td>N</td>\n",
              "    </tr>\n",
              "    <tr>\n",
              "      <th>956</th>\n",
              "      <td>957</td>\n",
              "      <td>1300</td>\n",
              "      <td>Pave</td>\n",
              "      <td>Blueste</td>\n",
              "      <td>2Story</td>\n",
              "      <td>1980</td>\n",
              "      <td>Y</td>\n",
              "      <td>2</td>\n",
              "      <td>1</td>\n",
              "      <td>Attchd</td>\n",
              "      <td>1980.0</td>\n",
              "      <td>462</td>\n",
              "      <td>0</td>\n",
              "      <td>NaN</td>\n",
              "      <td>GdPrv</td>\n",
              "      <td>124000</td>\n",
              "      <td>N</td>\n",
              "    </tr>\n",
              "    <tr>\n",
              "      <th>1129</th>\n",
              "      <td>1130</td>\n",
              "      <td>7200</td>\n",
              "      <td>Pave</td>\n",
              "      <td>OldTown</td>\n",
              "      <td>SFoyer</td>\n",
              "      <td>1980</td>\n",
              "      <td>Y</td>\n",
              "      <td>2</td>\n",
              "      <td>0</td>\n",
              "      <td>Detchd</td>\n",
              "      <td>1980.0</td>\n",
              "      <td>672</td>\n",
              "      <td>0</td>\n",
              "      <td>NaN</td>\n",
              "      <td>NaN</td>\n",
              "      <td>140000</td>\n",
              "      <td>N</td>\n",
              "    </tr>\n",
              "  </tbody>\n",
              "</table>\n",
              "</div>\n",
              "      <button class=\"colab-df-convert\" onclick=\"convertToInteractive('df-4e960b24-b187-4730-98e4-7945d098d12f')\"\n",
              "              title=\"Convert this dataframe to an interactive table.\"\n",
              "              style=\"display:none;\">\n",
              "        \n",
              "  <svg xmlns=\"http://www.w3.org/2000/svg\" height=\"24px\"viewBox=\"0 0 24 24\"\n",
              "       width=\"24px\">\n",
              "    <path d=\"M0 0h24v24H0V0z\" fill=\"none\"/>\n",
              "    <path d=\"M18.56 5.44l.94 2.06.94-2.06 2.06-.94-2.06-.94-.94-2.06-.94 2.06-2.06.94zm-11 1L8.5 8.5l.94-2.06 2.06-.94-2.06-.94L8.5 2.5l-.94 2.06-2.06.94zm10 10l.94 2.06.94-2.06 2.06-.94-2.06-.94-.94-2.06-.94 2.06-2.06.94z\"/><path d=\"M17.41 7.96l-1.37-1.37c-.4-.4-.92-.59-1.43-.59-.52 0-1.04.2-1.43.59L10.3 9.45l-7.72 7.72c-.78.78-.78 2.05 0 2.83L4 21.41c.39.39.9.59 1.41.59.51 0 1.02-.2 1.41-.59l7.78-7.78 2.81-2.81c.8-.78.8-2.07 0-2.86zM5.41 20L4 18.59l7.72-7.72 1.47 1.35L5.41 20z\"/>\n",
              "  </svg>\n",
              "      </button>\n",
              "      \n",
              "  <style>\n",
              "    .colab-df-container {\n",
              "      display:flex;\n",
              "      flex-wrap:wrap;\n",
              "      gap: 12px;\n",
              "    }\n",
              "\n",
              "    .colab-df-convert {\n",
              "      background-color: #E8F0FE;\n",
              "      border: none;\n",
              "      border-radius: 50%;\n",
              "      cursor: pointer;\n",
              "      display: none;\n",
              "      fill: #1967D2;\n",
              "      height: 32px;\n",
              "      padding: 0 0 0 0;\n",
              "      width: 32px;\n",
              "    }\n",
              "\n",
              "    .colab-df-convert:hover {\n",
              "      background-color: #E2EBFA;\n",
              "      box-shadow: 0px 1px 2px rgba(60, 64, 67, 0.3), 0px 1px 3px 1px rgba(60, 64, 67, 0.15);\n",
              "      fill: #174EA6;\n",
              "    }\n",
              "\n",
              "    [theme=dark] .colab-df-convert {\n",
              "      background-color: #3B4455;\n",
              "      fill: #D2E3FC;\n",
              "    }\n",
              "\n",
              "    [theme=dark] .colab-df-convert:hover {\n",
              "      background-color: #434B5C;\n",
              "      box-shadow: 0px 1px 3px 1px rgba(0, 0, 0, 0.15);\n",
              "      filter: drop-shadow(0px 1px 2px rgba(0, 0, 0, 0.3));\n",
              "      fill: #FFFFFF;\n",
              "    }\n",
              "  </style>\n",
              "\n",
              "      <script>\n",
              "        const buttonEl =\n",
              "          document.querySelector('#df-4e960b24-b187-4730-98e4-7945d098d12f button.colab-df-convert');\n",
              "        buttonEl.style.display =\n",
              "          google.colab.kernel.accessAllowed ? 'block' : 'none';\n",
              "\n",
              "        async function convertToInteractive(key) {\n",
              "          const element = document.querySelector('#df-4e960b24-b187-4730-98e4-7945d098d12f');\n",
              "          const dataTable =\n",
              "            await google.colab.kernel.invokeFunction('convertToInteractive',\n",
              "                                                     [key], {});\n",
              "          if (!dataTable) return;\n",
              "\n",
              "          const docLinkHtml = 'Like what you see? Visit the ' +\n",
              "            '<a target=\"_blank\" href=https://colab.research.google.com/notebooks/data_table.ipynb>data table notebook</a>'\n",
              "            + ' to learn more about interactive tables.';\n",
              "          element.innerHTML = '';\n",
              "          dataTable['output_type'] = 'display_data';\n",
              "          await google.colab.output.renderOutput(dataTable, element);\n",
              "          const docLink = document.createElement('div');\n",
              "          docLink.innerHTML = docLinkHtml;\n",
              "          element.appendChild(docLink);\n",
              "        }\n",
              "      </script>\n",
              "    </div>\n",
              "  </div>\n",
              "  "
            ]
          },
          "metadata": {},
          "execution_count": 42
        }
      ]
    },
    {
      "cell_type": "code",
      "source": [
        "df.isnull()\n",
        "#Ver que valores son nulos"
      ],
      "metadata": {
        "colab": {
          "base_uri": "https://localhost:8080/",
          "height": 483
        },
        "id": "L3kSYTevRiGI",
        "outputId": "4aaaf227-2d71-4433-94f4-87ef35def18e"
      },
      "execution_count": null,
      "outputs": [
        {
          "output_type": "execute_result",
          "data": {
            "text/plain": [
              "         Id  LotArea  Street  Neighborhood  HouseStyle  YearBuilt  CentralAir  \\\n",
              "0     False    False   False         False       False      False       False   \n",
              "1     False    False   False         False       False      False       False   \n",
              "2     False    False   False         False       False      False       False   \n",
              "3     False    False   False         False       False      False       False   \n",
              "4     False    False   False         False       False      False       False   \n",
              "...     ...      ...     ...           ...         ...        ...         ...   \n",
              "1455  False    False   False         False       False      False       False   \n",
              "1456  False    False   False         False       False      False       False   \n",
              "1457  False    False   False         False       False      False       False   \n",
              "1458  False    False   False         False       False      False       False   \n",
              "1459  False    False   False         False       False      False       False   \n",
              "\n",
              "      BedroomAbvGr  Fireplaces  GarageType  GarageYrBlt  GarageArea  PoolArea  \\\n",
              "0            False       False       False        False       False     False   \n",
              "1            False       False       False        False       False     False   \n",
              "2            False       False       False        False       False     False   \n",
              "3            False       False       False        False       False     False   \n",
              "4            False       False       False        False       False     False   \n",
              "...            ...         ...         ...          ...         ...       ...   \n",
              "1455         False       False       False        False       False     False   \n",
              "1456         False       False       False        False       False     False   \n",
              "1457         False       False       False        False       False     False   \n",
              "1458         False       False       False        False       False     False   \n",
              "1459         False       False       False        False       False     False   \n",
              "\n",
              "      PoolQC  Fence  SalePrice   sold  \n",
              "0       True   True      False  False  \n",
              "1       True   True      False  False  \n",
              "2       True   True      False  False  \n",
              "3       True   True      False  False  \n",
              "4       True   True      False  False  \n",
              "...      ...    ...        ...    ...  \n",
              "1455    True   True      False  False  \n",
              "1456    True  False      False  False  \n",
              "1457    True  False      False  False  \n",
              "1458    True   True      False  False  \n",
              "1459    True   True      False  False  \n",
              "\n",
              "[1460 rows x 17 columns]"
            ],
            "text/html": [
              "\n",
              "  <div id=\"df-4ffac779-afc5-4929-8345-74f4f25d9698\">\n",
              "    <div class=\"colab-df-container\">\n",
              "      <div>\n",
              "<style scoped>\n",
              "    .dataframe tbody tr th:only-of-type {\n",
              "        vertical-align: middle;\n",
              "    }\n",
              "\n",
              "    .dataframe tbody tr th {\n",
              "        vertical-align: top;\n",
              "    }\n",
              "\n",
              "    .dataframe thead th {\n",
              "        text-align: right;\n",
              "    }\n",
              "</style>\n",
              "<table border=\"1\" class=\"dataframe\">\n",
              "  <thead>\n",
              "    <tr style=\"text-align: right;\">\n",
              "      <th></th>\n",
              "      <th>Id</th>\n",
              "      <th>LotArea</th>\n",
              "      <th>Street</th>\n",
              "      <th>Neighborhood</th>\n",
              "      <th>HouseStyle</th>\n",
              "      <th>YearBuilt</th>\n",
              "      <th>CentralAir</th>\n",
              "      <th>BedroomAbvGr</th>\n",
              "      <th>Fireplaces</th>\n",
              "      <th>GarageType</th>\n",
              "      <th>GarageYrBlt</th>\n",
              "      <th>GarageArea</th>\n",
              "      <th>PoolArea</th>\n",
              "      <th>PoolQC</th>\n",
              "      <th>Fence</th>\n",
              "      <th>SalePrice</th>\n",
              "      <th>sold</th>\n",
              "    </tr>\n",
              "  </thead>\n",
              "  <tbody>\n",
              "    <tr>\n",
              "      <th>0</th>\n",
              "      <td>False</td>\n",
              "      <td>False</td>\n",
              "      <td>False</td>\n",
              "      <td>False</td>\n",
              "      <td>False</td>\n",
              "      <td>False</td>\n",
              "      <td>False</td>\n",
              "      <td>False</td>\n",
              "      <td>False</td>\n",
              "      <td>False</td>\n",
              "      <td>False</td>\n",
              "      <td>False</td>\n",
              "      <td>False</td>\n",
              "      <td>True</td>\n",
              "      <td>True</td>\n",
              "      <td>False</td>\n",
              "      <td>False</td>\n",
              "    </tr>\n",
              "    <tr>\n",
              "      <th>1</th>\n",
              "      <td>False</td>\n",
              "      <td>False</td>\n",
              "      <td>False</td>\n",
              "      <td>False</td>\n",
              "      <td>False</td>\n",
              "      <td>False</td>\n",
              "      <td>False</td>\n",
              "      <td>False</td>\n",
              "      <td>False</td>\n",
              "      <td>False</td>\n",
              "      <td>False</td>\n",
              "      <td>False</td>\n",
              "      <td>False</td>\n",
              "      <td>True</td>\n",
              "      <td>True</td>\n",
              "      <td>False</td>\n",
              "      <td>False</td>\n",
              "    </tr>\n",
              "    <tr>\n",
              "      <th>2</th>\n",
              "      <td>False</td>\n",
              "      <td>False</td>\n",
              "      <td>False</td>\n",
              "      <td>False</td>\n",
              "      <td>False</td>\n",
              "      <td>False</td>\n",
              "      <td>False</td>\n",
              "      <td>False</td>\n",
              "      <td>False</td>\n",
              "      <td>False</td>\n",
              "      <td>False</td>\n",
              "      <td>False</td>\n",
              "      <td>False</td>\n",
              "      <td>True</td>\n",
              "      <td>True</td>\n",
              "      <td>False</td>\n",
              "      <td>False</td>\n",
              "    </tr>\n",
              "    <tr>\n",
              "      <th>3</th>\n",
              "      <td>False</td>\n",
              "      <td>False</td>\n",
              "      <td>False</td>\n",
              "      <td>False</td>\n",
              "      <td>False</td>\n",
              "      <td>False</td>\n",
              "      <td>False</td>\n",
              "      <td>False</td>\n",
              "      <td>False</td>\n",
              "      <td>False</td>\n",
              "      <td>False</td>\n",
              "      <td>False</td>\n",
              "      <td>False</td>\n",
              "      <td>True</td>\n",
              "      <td>True</td>\n",
              "      <td>False</td>\n",
              "      <td>False</td>\n",
              "    </tr>\n",
              "    <tr>\n",
              "      <th>4</th>\n",
              "      <td>False</td>\n",
              "      <td>False</td>\n",
              "      <td>False</td>\n",
              "      <td>False</td>\n",
              "      <td>False</td>\n",
              "      <td>False</td>\n",
              "      <td>False</td>\n",
              "      <td>False</td>\n",
              "      <td>False</td>\n",
              "      <td>False</td>\n",
              "      <td>False</td>\n",
              "      <td>False</td>\n",
              "      <td>False</td>\n",
              "      <td>True</td>\n",
              "      <td>True</td>\n",
              "      <td>False</td>\n",
              "      <td>False</td>\n",
              "    </tr>\n",
              "    <tr>\n",
              "      <th>...</th>\n",
              "      <td>...</td>\n",
              "      <td>...</td>\n",
              "      <td>...</td>\n",
              "      <td>...</td>\n",
              "      <td>...</td>\n",
              "      <td>...</td>\n",
              "      <td>...</td>\n",
              "      <td>...</td>\n",
              "      <td>...</td>\n",
              "      <td>...</td>\n",
              "      <td>...</td>\n",
              "      <td>...</td>\n",
              "      <td>...</td>\n",
              "      <td>...</td>\n",
              "      <td>...</td>\n",
              "      <td>...</td>\n",
              "      <td>...</td>\n",
              "    </tr>\n",
              "    <tr>\n",
              "      <th>1455</th>\n",
              "      <td>False</td>\n",
              "      <td>False</td>\n",
              "      <td>False</td>\n",
              "      <td>False</td>\n",
              "      <td>False</td>\n",
              "      <td>False</td>\n",
              "      <td>False</td>\n",
              "      <td>False</td>\n",
              "      <td>False</td>\n",
              "      <td>False</td>\n",
              "      <td>False</td>\n",
              "      <td>False</td>\n",
              "      <td>False</td>\n",
              "      <td>True</td>\n",
              "      <td>True</td>\n",
              "      <td>False</td>\n",
              "      <td>False</td>\n",
              "    </tr>\n",
              "    <tr>\n",
              "      <th>1456</th>\n",
              "      <td>False</td>\n",
              "      <td>False</td>\n",
              "      <td>False</td>\n",
              "      <td>False</td>\n",
              "      <td>False</td>\n",
              "      <td>False</td>\n",
              "      <td>False</td>\n",
              "      <td>False</td>\n",
              "      <td>False</td>\n",
              "      <td>False</td>\n",
              "      <td>False</td>\n",
              "      <td>False</td>\n",
              "      <td>False</td>\n",
              "      <td>True</td>\n",
              "      <td>False</td>\n",
              "      <td>False</td>\n",
              "      <td>False</td>\n",
              "    </tr>\n",
              "    <tr>\n",
              "      <th>1457</th>\n",
              "      <td>False</td>\n",
              "      <td>False</td>\n",
              "      <td>False</td>\n",
              "      <td>False</td>\n",
              "      <td>False</td>\n",
              "      <td>False</td>\n",
              "      <td>False</td>\n",
              "      <td>False</td>\n",
              "      <td>False</td>\n",
              "      <td>False</td>\n",
              "      <td>False</td>\n",
              "      <td>False</td>\n",
              "      <td>False</td>\n",
              "      <td>True</td>\n",
              "      <td>False</td>\n",
              "      <td>False</td>\n",
              "      <td>False</td>\n",
              "    </tr>\n",
              "    <tr>\n",
              "      <th>1458</th>\n",
              "      <td>False</td>\n",
              "      <td>False</td>\n",
              "      <td>False</td>\n",
              "      <td>False</td>\n",
              "      <td>False</td>\n",
              "      <td>False</td>\n",
              "      <td>False</td>\n",
              "      <td>False</td>\n",
              "      <td>False</td>\n",
              "      <td>False</td>\n",
              "      <td>False</td>\n",
              "      <td>False</td>\n",
              "      <td>False</td>\n",
              "      <td>True</td>\n",
              "      <td>True</td>\n",
              "      <td>False</td>\n",
              "      <td>False</td>\n",
              "    </tr>\n",
              "    <tr>\n",
              "      <th>1459</th>\n",
              "      <td>False</td>\n",
              "      <td>False</td>\n",
              "      <td>False</td>\n",
              "      <td>False</td>\n",
              "      <td>False</td>\n",
              "      <td>False</td>\n",
              "      <td>False</td>\n",
              "      <td>False</td>\n",
              "      <td>False</td>\n",
              "      <td>False</td>\n",
              "      <td>False</td>\n",
              "      <td>False</td>\n",
              "      <td>False</td>\n",
              "      <td>True</td>\n",
              "      <td>True</td>\n",
              "      <td>False</td>\n",
              "      <td>False</td>\n",
              "    </tr>\n",
              "  </tbody>\n",
              "</table>\n",
              "<p>1460 rows × 17 columns</p>\n",
              "</div>\n",
              "      <button class=\"colab-df-convert\" onclick=\"convertToInteractive('df-4ffac779-afc5-4929-8345-74f4f25d9698')\"\n",
              "              title=\"Convert this dataframe to an interactive table.\"\n",
              "              style=\"display:none;\">\n",
              "        \n",
              "  <svg xmlns=\"http://www.w3.org/2000/svg\" height=\"24px\"viewBox=\"0 0 24 24\"\n",
              "       width=\"24px\">\n",
              "    <path d=\"M0 0h24v24H0V0z\" fill=\"none\"/>\n",
              "    <path d=\"M18.56 5.44l.94 2.06.94-2.06 2.06-.94-2.06-.94-.94-2.06-.94 2.06-2.06.94zm-11 1L8.5 8.5l.94-2.06 2.06-.94-2.06-.94L8.5 2.5l-.94 2.06-2.06.94zm10 10l.94 2.06.94-2.06 2.06-.94-2.06-.94-.94-2.06-.94 2.06-2.06.94z\"/><path d=\"M17.41 7.96l-1.37-1.37c-.4-.4-.92-.59-1.43-.59-.52 0-1.04.2-1.43.59L10.3 9.45l-7.72 7.72c-.78.78-.78 2.05 0 2.83L4 21.41c.39.39.9.59 1.41.59.51 0 1.02-.2 1.41-.59l7.78-7.78 2.81-2.81c.8-.78.8-2.07 0-2.86zM5.41 20L4 18.59l7.72-7.72 1.47 1.35L5.41 20z\"/>\n",
              "  </svg>\n",
              "      </button>\n",
              "      \n",
              "  <style>\n",
              "    .colab-df-container {\n",
              "      display:flex;\n",
              "      flex-wrap:wrap;\n",
              "      gap: 12px;\n",
              "    }\n",
              "\n",
              "    .colab-df-convert {\n",
              "      background-color: #E8F0FE;\n",
              "      border: none;\n",
              "      border-radius: 50%;\n",
              "      cursor: pointer;\n",
              "      display: none;\n",
              "      fill: #1967D2;\n",
              "      height: 32px;\n",
              "      padding: 0 0 0 0;\n",
              "      width: 32px;\n",
              "    }\n",
              "\n",
              "    .colab-df-convert:hover {\n",
              "      background-color: #E2EBFA;\n",
              "      box-shadow: 0px 1px 2px rgba(60, 64, 67, 0.3), 0px 1px 3px 1px rgba(60, 64, 67, 0.15);\n",
              "      fill: #174EA6;\n",
              "    }\n",
              "\n",
              "    [theme=dark] .colab-df-convert {\n",
              "      background-color: #3B4455;\n",
              "      fill: #D2E3FC;\n",
              "    }\n",
              "\n",
              "    [theme=dark] .colab-df-convert:hover {\n",
              "      background-color: #434B5C;\n",
              "      box-shadow: 0px 1px 3px 1px rgba(0, 0, 0, 0.15);\n",
              "      filter: drop-shadow(0px 1px 2px rgba(0, 0, 0, 0.3));\n",
              "      fill: #FFFFFF;\n",
              "    }\n",
              "  </style>\n",
              "\n",
              "      <script>\n",
              "        const buttonEl =\n",
              "          document.querySelector('#df-4ffac779-afc5-4929-8345-74f4f25d9698 button.colab-df-convert');\n",
              "        buttonEl.style.display =\n",
              "          google.colab.kernel.accessAllowed ? 'block' : 'none';\n",
              "\n",
              "        async function convertToInteractive(key) {\n",
              "          const element = document.querySelector('#df-4ffac779-afc5-4929-8345-74f4f25d9698');\n",
              "          const dataTable =\n",
              "            await google.colab.kernel.invokeFunction('convertToInteractive',\n",
              "                                                     [key], {});\n",
              "          if (!dataTable) return;\n",
              "\n",
              "          const docLinkHtml = 'Like what you see? Visit the ' +\n",
              "            '<a target=\"_blank\" href=https://colab.research.google.com/notebooks/data_table.ipynb>data table notebook</a>'\n",
              "            + ' to learn more about interactive tables.';\n",
              "          element.innerHTML = '';\n",
              "          dataTable['output_type'] = 'display_data';\n",
              "          await google.colab.output.renderOutput(dataTable, element);\n",
              "          const docLink = document.createElement('div');\n",
              "          docLink.innerHTML = docLinkHtml;\n",
              "          element.appendChild(docLink);\n",
              "        }\n",
              "      </script>\n",
              "    </div>\n",
              "  </div>\n",
              "  "
            ]
          },
          "metadata": {},
          "execution_count": 43
        }
      ]
    },
    {
      "cell_type": "code",
      "source": [
        "df.isnull().count()\n",
        "#cuantos valores hay"
      ],
      "metadata": {
        "colab": {
          "base_uri": "https://localhost:8080/"
        },
        "id": "0zC6CVJJRiLk",
        "outputId": "e53c075e-ddef-43f7-e783-f1084a6e7b47"
      },
      "execution_count": null,
      "outputs": [
        {
          "output_type": "execute_result",
          "data": {
            "text/plain": [
              "Id              1460\n",
              "LotArea         1460\n",
              "Street          1460\n",
              "Neighborhood    1460\n",
              "HouseStyle      1460\n",
              "YearBuilt       1460\n",
              "CentralAir      1460\n",
              "BedroomAbvGr    1460\n",
              "Fireplaces      1460\n",
              "GarageType      1460\n",
              "GarageYrBlt     1460\n",
              "GarageArea      1460\n",
              "PoolArea        1460\n",
              "PoolQC          1460\n",
              "Fence           1460\n",
              "SalePrice       1460\n",
              "sold            1460\n",
              "dtype: int64"
            ]
          },
          "metadata": {},
          "execution_count": 48
        }
      ]
    },
    {
      "cell_type": "code",
      "source": [
        "df.insull().sum()\n",
        "#cuantos valore nulos vas aver en cada columna"
      ],
      "metadata": {
        "colab": {
          "base_uri": "https://localhost:8080/",
          "height": 315
        },
        "id": "KQ_kJ5opRiRU",
        "outputId": "56912f96-a08f-4fee-b571-d3a753ba5ded"
      },
      "execution_count": null,
      "outputs": [
        {
          "output_type": "error",
          "ename": "AttributeError",
          "evalue": "ignored",
          "traceback": [
            "\u001b[0;31m---------------------------------------------------------------------------\u001b[0m",
            "\u001b[0;31mAttributeError\u001b[0m                            Traceback (most recent call last)",
            "\u001b[0;32m<ipython-input-50-ce96a6f30f49>\u001b[0m in \u001b[0;36m<module>\u001b[0;34m\u001b[0m\n\u001b[0;32m----> 1\u001b[0;31m \u001b[0mdf\u001b[0m\u001b[0;34m.\u001b[0m\u001b[0minsull\u001b[0m\u001b[0;34m(\u001b[0m\u001b[0;34m)\u001b[0m\u001b[0;34m.\u001b[0m\u001b[0msum\u001b[0m\u001b[0;34m(\u001b[0m\u001b[0;34m)\u001b[0m\u001b[0;34m\u001b[0m\u001b[0;34m\u001b[0m\u001b[0m\n\u001b[0m\u001b[1;32m      2\u001b[0m \u001b[0;31m#cuantos valore nulos vas aver en cada columna\u001b[0m\u001b[0;34m\u001b[0m\u001b[0;34m\u001b[0m\u001b[0;34m\u001b[0m\u001b[0m\n",
            "\u001b[0;32m/usr/local/lib/python3.7/dist-packages/pandas/core/generic.py\u001b[0m in \u001b[0;36m__getattr__\u001b[0;34m(self, name)\u001b[0m\n\u001b[1;32m   5485\u001b[0m         ):\n\u001b[1;32m   5486\u001b[0m             \u001b[0;32mreturn\u001b[0m \u001b[0mself\u001b[0m\u001b[0;34m[\u001b[0m\u001b[0mname\u001b[0m\u001b[0;34m]\u001b[0m\u001b[0;34m\u001b[0m\u001b[0;34m\u001b[0m\u001b[0m\n\u001b[0;32m-> 5487\u001b[0;31m         \u001b[0;32mreturn\u001b[0m \u001b[0mobject\u001b[0m\u001b[0;34m.\u001b[0m\u001b[0m__getattribute__\u001b[0m\u001b[0;34m(\u001b[0m\u001b[0mself\u001b[0m\u001b[0;34m,\u001b[0m \u001b[0mname\u001b[0m\u001b[0;34m)\u001b[0m\u001b[0;34m\u001b[0m\u001b[0;34m\u001b[0m\u001b[0m\n\u001b[0m\u001b[1;32m   5488\u001b[0m \u001b[0;34m\u001b[0m\u001b[0m\n\u001b[1;32m   5489\u001b[0m     \u001b[0;32mdef\u001b[0m \u001b[0m__setattr__\u001b[0m\u001b[0;34m(\u001b[0m\u001b[0mself\u001b[0m\u001b[0;34m,\u001b[0m \u001b[0mname\u001b[0m\u001b[0;34m:\u001b[0m \u001b[0mstr\u001b[0m\u001b[0;34m,\u001b[0m \u001b[0mvalue\u001b[0m\u001b[0;34m)\u001b[0m \u001b[0;34m->\u001b[0m \u001b[0;32mNone\u001b[0m\u001b[0;34m:\u001b[0m\u001b[0;34m\u001b[0m\u001b[0;34m\u001b[0m\u001b[0m\n",
            "\u001b[0;31mAttributeError\u001b[0m: 'DataFrame' object has no attribute 'insull'"
          ]
        }
      ]
    },
    {
      "cell_type": "code",
      "source": [],
      "metadata": {
        "id": "5cWnfRe1SH-u"
      },
      "execution_count": null,
      "outputs": []
    }
  ]
}