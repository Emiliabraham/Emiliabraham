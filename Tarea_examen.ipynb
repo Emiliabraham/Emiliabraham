{
  "nbformat": 4,
  "nbformat_minor": 0,
  "metadata": {
    "colab": {
      "provenance": [],
      "authorship_tag": "ABX9TyOnOtqTzaH5j2atX/69hRCq",
      "include_colab_link": true
    },
    "kernelspec": {
      "name": "python3",
      "display_name": "Python 3"
    },
    "language_info": {
      "name": "python"
    }
  },
  "cells": [
    {
      "cell_type": "markdown",
      "metadata": {
        "id": "view-in-github",
        "colab_type": "text"
      },
      "source": [
        "<a href=\"https://colab.research.google.com/github/Emiliabraham/Emiliabraham/blob/main/Tarea_examen.ipynb\" target=\"_parent\"><img src=\"https://colab.research.google.com/assets/colab-badge.svg\" alt=\"Open In Colab\"/></a>"
      ]
    },
    {
      "cell_type": "markdown",
      "source": [
        "1.- En un salón de clases hay 60 alumnos. 30 de los alumnos estudian francés, 35 estudian ruso y 5 estudian francés y ruso. Dibuja un diagrama de Venn y calcula la probabilidad de que si se elige un estudiante al azar, éste estudie solamente francés."
      ],
      "metadata": {
        "id": "Db87BHhqP9nL"
      }
    },
    {
      "cell_type": "code",
      "source": [
        "from matplotlib_venn import venn2, venn2_circles, venn2_unweighted \n",
        "from matplotlib_venn import venn3, venn3_circles \n",
        "from matplotlib import pyplot as plt"
      ],
      "metadata": {
        "id": "-quogVbI0pHD"
      },
      "execution_count": null,
      "outputs": []
    },
    {
      "cell_type": "code",
      "source": [
        "venn2(subsets=(25,30,5),set_labels=('Francés','Alemán'))"
      ],
      "metadata": {
        "colab": {
          "base_uri": "https://localhost:8080/",
          "height": 266
        },
        "id": "DQW_72zCTpCU",
        "outputId": "b74389b8-910e-42f0-b27e-2eecd826e859"
      },
      "execution_count": null,
      "outputs": [
        {
          "output_type": "execute_result",
          "data": {
            "text/plain": [
              "<matplotlib_venn._common.VennDiagram at 0x7f5ecd6fbb10>"
            ]
          },
          "metadata": {},
          "execution_count": 32
        },
        {
          "output_type": "display_data",
          "data": {
            "text/plain": [
              "<Figure size 432x288 with 1 Axes>"
            ],
            "image/png": "[encoded data removed]"
          },
          "metadata": {}
        }
      ]
    },
    {
      "cell_type": "code",
      "source": [
        "profrances= 25/60\n",
        "profrances"
      ],
      "metadata": {
        "colab": {
          "base_uri": "https://localhost:8080/"
        },
        "id": "fQZrE-TDTz6u",
        "outputId": "9dcc52fb-dc7c-4b95-8502-590298fd2041"
      },
      "execution_count": null,
      "outputs": [
        {
          "output_type": "execute_result",
          "data": {
            "text/plain": [
              "0.4166666666666667"
            ]
          },
          "metadata": {},
          "execution_count": 35
        }
      ]
    },
    {
      "cell_type": "markdown",
      "source": [
        "\n",
        "2.- Se lanza un dado 3 veces.\n",
        "\n",
        "Describe al espacio muestral.\n",
        "\n",
        "Calcula la probabilidad de que salga la cara 1 en el primer lanzamiento.\n",
        "Calcula la probabilidad condicional del evento cae un número par en los tres lanzamientos dado que en el primer lanzamiento cae 2.\n",
        "\n",
        "Consideremos el evento: \"se obtiene sol en el segundo lanzamiento\". ¿Tal evento es independiente de los eventos anteriores?\n",
        "\n"
      ],
      "metadata": {
        "id": "miGlXykRP_tg"
      }
    },
    {
      "cell_type": "code",
      "source": [
        "from itertools import product\n",
        "Omega = set(product([1,2,3,4,5,6], repeat = 3))\n",
        "Omega"
      ],
      "metadata": {
        "colab": {
          "base_uri": "https://localhost:8080/"
        },
        "id": "f0Moh-6QQAPN",
        "outputId": "12e20455-0a95-4909-e7f5-2eafd24efe1d"
      },
      "execution_count": null,
      "outputs": [
        {
          "output_type": "execute_result",
          "data": {
            "text/plain": [
              "{(1, 1, 1),\n",
              " (1, 1, 2),\n",
              " (1, 1, 3),\n",
              " (1, 1, 4),\n",
              " (1, 1, 5),\n",
              " (1, 1, 6),\n",
              " (1, 2, 1),\n",
              " (1, 2, 2),\n",
              " (1, 2, 3),\n",
              " (1, 2, 4),\n",
              " (1, 2, 5),\n",
              " (1, 2, 6),\n",
              " (1, 3, 1),\n",
              " (1, 3, 2),\n",
              " (1, 3, 3),\n",
              " (1, 3, 4),\n",
              " (1, 3, 5),\n",
              " (1, 3, 6),\n",
              " (1, 4, 1),\n",
              " (1, 4, 2),\n",
              " (1, 4, 3),\n",
              " (1, 4, 4),\n",
              " (1, 4, 5),\n",
              " (1, 4, 6),\n",
              " (1, 5, 1),\n",
              " (1, 5, 2),\n",
              " (1, 5, 3),\n",
              " (1, 5, 4),\n",
              " (1, 5, 5),\n",
              " (1, 5, 6),\n",
              " (1, 6, 1),\n",
              " (1, 6, 2),\n",
              " (1, 6, 3),\n",
              " (1, 6, 4),\n",
              " (1, 6, 5),\n",
              " (1, 6, 6),\n",
              " (2, 1, 1),\n",
              " (2, 1, 2),\n",
              " (2, 1, 3),\n",
              " (2, 1, 4),\n",
              " (2, 1, 5),\n",
              " (2, 1, 6),\n",
              " (2, 2, 1),\n",
              " (2, 2, 2),\n",
              " (2, 2, 3),\n",
              " (2, 2, 4),\n",
              " (2, 2, 5),\n",
              " (2, 2, 6),\n",
              " (2, 3, 1),\n",
              " (2, 3, 2),\n",
              " (2, 3, 3),\n",
              " (2, 3, 4),\n",
              " (2, 3, 5),\n",
              " (2, 3, 6),\n",
              " (2, 4, 1),\n",
              " (2, 4, 2),\n",
              " (2, 4, 3),\n",
              " (2, 4, 4),\n",
              " (2, 4, 5),\n",
              " (2, 4, 6),\n",
              " (2, 5, 1),\n",
              " (2, 5, 2),\n",
              " (2, 5, 3),\n",
              " (2, 5, 4),\n",
              " (2, 5, 5),\n",
              " (2, 5, 6),\n",
              " (2, 6, 1),\n",
              " (2, 6, 2),\n",
              " (2, 6, 3),\n",
              " (2, 6, 4),\n",
              " (2, 6, 5),\n",
              " (2, 6, 6),\n",
              " (3, 1, 1),\n",
              " (3, 1, 2),\n",
              " (3, 1, 3),\n",
              " (3, 1, 4),\n",
              " (3, 1, 5),\n",
              " (3, 1, 6),\n",
              " (3, 2, 1),\n",
              " (3, 2, 2),\n",
              " (3, 2, 3),\n",
              " (3, 2, 4),\n",
              " (3, 2, 5),\n",
              " (3, 2, 6),\n",
              " (3, 3, 1),\n",
              " (3, 3, 2),\n",
              " (3, 3, 3),\n",
              " (3, 3, 4),\n",
              " (3, 3, 5),\n",
              " (3, 3, 6),\n",
              " (3, 4, 1),\n",
              " (3, 4, 2),\n",
              " (3, 4, 3),\n",
              " (3, 4, 4),\n",
              " (3, 4, 5),\n",
              " (3, 4, 6),\n",
              " (3, 5, 1),\n",
              " (3, 5, 2),\n",
              " (3, 5, 3),\n",
              " (3, 5, 4),\n",
              " (3, 5, 5),\n",
              " (3, 5, 6),\n",
              " (3, 6, 1),\n",
              " (3, 6, 2),\n",
              " (3, 6, 3),\n",
              " (3, 6, 4),\n",
              " (3, 6, 5),\n",
              " (3, 6, 6),\n",
              " (4, 1, 1),\n",
              " (4, 1, 2),\n",
              " (4, 1, 3),\n",
              " (4, 1, 4),\n",
              " (4, 1, 5),\n",
              " (4, 1, 6),\n",
              " (4, 2, 1),\n",
              " (4, 2, 2),\n",
              " (4, 2, 3),\n",
              " (4, 2, 4),\n",
              " (4, 2, 5),\n",
              " (4, 2, 6),\n",
              " (4, 3, 1),\n",
              " (4, 3, 2),\n",
              " (4, 3, 3),\n",
              " (4, 3, 4),\n",
              " (4, 3, 5),\n",
              " (4, 3, 6),\n",
              " (4, 4, 1),\n",
              " (4, 4, 2),\n",
              " (4, 4, 3),\n",
              " (4, 4, 4),\n",
              " (4, 4, 5),\n",
              " (4, 4, 6),\n",
              " (4, 5, 1),\n",
              " (4, 5, 2),\n",
              " (4, 5, 3),\n",
              " (4, 5, 4),\n",
              " (4, 5, 5),\n",
              " (4, 5, 6),\n",
              " (4, 6, 1),\n",
              " (4, 6, 2),\n",
              " (4, 6, 3),\n",
              " (4, 6, 4),\n",
              " (4, 6, 5),\n",
              " (4, 6, 6),\n",
              " (5, 1, 1),\n",
              " (5, 1, 2),\n",
              " (5, 1, 3),\n",
              " (5, 1, 4),\n",
              " (5, 1, 5),\n",
              " (5, 1, 6),\n",
              " (5, 2, 1),\n",
              " (5, 2, 2),\n",
              " (5, 2, 3),\n",
              " (5, 2, 4),\n",
              " (5, 2, 5),\n",
              " (5, 2, 6),\n",
              " (5, 3, 1),\n",
              " (5, 3, 2),\n",
              " (5, 3, 3),\n",
              " (5, 3, 4),\n",
              " (5, 3, 5),\n",
              " (5, 3, 6),\n",
              " (5, 4, 1),\n",
              " (5, 4, 2),\n",
              " (5, 4, 3),\n",
              " (5, 4, 4),\n",
              " (5, 4, 5),\n",
              " (5, 4, 6),\n",
              " (5, 5, 1),\n",
              " (5, 5, 2),\n",
              " (5, 5, 3),\n",
              " (5, 5, 4),\n",
              " (5, 5, 5),\n",
              " (5, 5, 6),\n",
              " (5, 6, 1),\n",
              " (5, 6, 2),\n",
              " (5, 6, 3),\n",
              " (5, 6, 4),\n",
              " (5, 6, 5),\n",
              " (5, 6, 6),\n",
              " (6, 1, 1),\n",
              " (6, 1, 2),\n",
              " (6, 1, 3),\n",
              " (6, 1, 4),\n",
              " (6, 1, 5),\n",
              " (6, 1, 6),\n",
              " (6, 2, 1),\n",
              " (6, 2, 2),\n",
              " (6, 2, 3),\n",
              " (6, 2, 4),\n",
              " (6, 2, 5),\n",
              " (6, 2, 6),\n",
              " (6, 3, 1),\n",
              " (6, 3, 2),\n",
              " (6, 3, 3),\n",
              " (6, 3, 4),\n",
              " (6, 3, 5),\n",
              " (6, 3, 6),\n",
              " (6, 4, 1),\n",
              " (6, 4, 2),\n",
              " (6, 4, 3),\n",
              " (6, 4, 4),\n",
              " (6, 4, 5),\n",
              " (6, 4, 6),\n",
              " (6, 5, 1),\n",
              " (6, 5, 2),\n",
              " (6, 5, 3),\n",
              " (6, 5, 4),\n",
              " (6, 5, 5),\n",
              " (6, 5, 6),\n",
              " (6, 6, 1),\n",
              " (6, 6, 2),\n",
              " (6, 6, 3),\n",
              " (6, 6, 4),\n",
              " (6, 6, 5),\n",
              " (6, 6, 6)}"
            ]
          },
          "metadata": {},
          "execution_count": 124
        }
      ]
    },
    {
      "cell_type": "code",
      "source": [
        "len(Omega)"
      ],
      "metadata": {
        "colab": {
          "base_uri": "https://localhost:8080/"
        },
        "id": "q4s4K0JpUQLb",
        "outputId": "aa5ef253-8891-46ac-af4a-a52b2e6a1757"
      },
      "execution_count": null,
      "outputs": [
        {
          "output_type": "execute_result",
          "data": {
            "text/plain": [
              "216"
            ]
          },
          "metadata": {},
          "execution_count": 125
        }
      ]
    },
    {
      "cell_type": "code",
      "source": [
        "#Primer lanzamiento \n",
        "A = {omega for omega in Omega if omega[0] == 1}\n",
        "A"
      ],
      "metadata": {
        "colab": {
          "base_uri": "https://localhost:8080/"
        },
        "id": "HGHipLhV0p0q",
        "outputId": "18d2585b-8b1f-4cf5-e059-c1b68c73f353"
      },
      "execution_count": null,
      "outputs": [
        {
          "output_type": "execute_result",
          "data": {
            "text/plain": [
              "{(1, 1, 1),\n",
              " (1, 1, 2),\n",
              " (1, 1, 3),\n",
              " (1, 1, 4),\n",
              " (1, 1, 5),\n",
              " (1, 1, 6),\n",
              " (1, 2, 1),\n",
              " (1, 2, 2),\n",
              " (1, 2, 3),\n",
              " (1, 2, 4),\n",
              " (1, 2, 5),\n",
              " (1, 2, 6),\n",
              " (1, 3, 1),\n",
              " (1, 3, 2),\n",
              " (1, 3, 3),\n",
              " (1, 3, 4),\n",
              " (1, 3, 5),\n",
              " (1, 3, 6),\n",
              " (1, 4, 1),\n",
              " (1, 4, 2),\n",
              " (1, 4, 3),\n",
              " (1, 4, 4),\n",
              " (1, 4, 5),\n",
              " (1, 4, 6),\n",
              " (1, 5, 1),\n",
              " (1, 5, 2),\n",
              " (1, 5, 3),\n",
              " (1, 5, 4),\n",
              " (1, 5, 5),\n",
              " (1, 5, 6),\n",
              " (1, 6, 1),\n",
              " (1, 6, 2),\n",
              " (1, 6, 3),\n",
              " (1, 6, 4),\n",
              " (1, 6, 5),\n",
              " (1, 6, 6)}"
            ]
          },
          "metadata": {},
          "execution_count": 126
        }
      ]
    },
    {
      "cell_type": "code",
      "source": [
        "#Cual es la probabilidad de que ocurra el evento P\n",
        "PA=len(A)/len (Omega)\n",
        "PA"
      ],
      "metadata": {
        "colab": {
          "base_uri": "https://localhost:8080/"
        },
        "id": "nOrrhoYu4Qy8",
        "outputId": "36b2459f-74bb-4067-b057-30a6c932a755"
      },
      "execution_count": null,
      "outputs": [
        {
          "output_type": "execute_result",
          "data": {
            "text/plain": [
              "0.16666666666666666"
            ]
          },
          "metadata": {},
          "execution_count": 162
        }
      ]
    },
    {
      "cell_type": "code",
      "source": [
        "len(A)"
      ],
      "metadata": {
        "colab": {
          "base_uri": "https://localhost:8080/"
        },
        "id": "4UGuYe7jVs7I",
        "outputId": "4f2e50d2-a3b0-45b3-de3a-3732dc739557"
      },
      "execution_count": null,
      "outputs": [
        {
          "output_type": "execute_result",
          "data": {
            "text/plain": [
              "36"
            ]
          },
          "metadata": {},
          "execution_count": 128
        }
      ]
    },
    {
      "cell_type": "code",
      "source": [
        "B = {omega for omega in Omega if omega [0] == 2}\n",
        "B"
      ],
      "metadata": {
        "colab": {
          "base_uri": "https://localhost:8080/"
        },
        "id": "DWAhESFO4uUL",
        "outputId": "f0f38ffd-1478-4575-eed7-660e4c6d12cf"
      },
      "execution_count": null,
      "outputs": [
        {
          "output_type": "execute_result",
          "data": {
            "text/plain": [
              "{(2, 1, 1),\n",
              " (2, 1, 2),\n",
              " (2, 1, 3),\n",
              " (2, 1, 4),\n",
              " (2, 1, 5),\n",
              " (2, 1, 6),\n",
              " (2, 2, 1),\n",
              " (2, 2, 2),\n",
              " (2, 2, 3),\n",
              " (2, 2, 4),\n",
              " (2, 2, 5),\n",
              " (2, 2, 6),\n",
              " (2, 3, 1),\n",
              " (2, 3, 2),\n",
              " (2, 3, 3),\n",
              " (2, 3, 4),\n",
              " (2, 3, 5),\n",
              " (2, 3, 6),\n",
              " (2, 4, 1),\n",
              " (2, 4, 2),\n",
              " (2, 4, 3),\n",
              " (2, 4, 4),\n",
              " (2, 4, 5),\n",
              " (2, 4, 6),\n",
              " (2, 5, 1),\n",
              " (2, 5, 2),\n",
              " (2, 5, 3),\n",
              " (2, 5, 4),\n",
              " (2, 5, 5),\n",
              " (2, 5, 6),\n",
              " (2, 6, 1),\n",
              " (2, 6, 2),\n",
              " (2, 6, 3),\n",
              " (2, 6, 4),\n",
              " (2, 6, 5),\n",
              " (2, 6, 6)}"
            ]
          },
          "metadata": {},
          "execution_count": 129
        }
      ]
    },
    {
      "cell_type": "code",
      "source": [
        "C = {omega for omega in Omega if omega [1] %2 == 0}\n",
        "C"
      ],
      "metadata": {
        "colab": {
          "base_uri": "https://localhost:8080/"
        },
        "id": "wBiL3Cq4Unk3",
        "outputId": "0ae921fa-288e-44eb-cdb6-ad1f4eee8c79"
      },
      "execution_count": null,
      "outputs": [
        {
          "output_type": "execute_result",
          "data": {
            "text/plain": [
              "{(1, 2, 1),\n",
              " (1, 2, 2),\n",
              " (1, 2, 3),\n",
              " (1, 2, 4),\n",
              " (1, 2, 5),\n",
              " (1, 2, 6),\n",
              " (1, 4, 1),\n",
              " (1, 4, 2),\n",
              " (1, 4, 3),\n",
              " (1, 4, 4),\n",
              " (1, 4, 5),\n",
              " (1, 4, 6),\n",
              " (1, 6, 1),\n",
              " (1, 6, 2),\n",
              " (1, 6, 3),\n",
              " (1, 6, 4),\n",
              " (1, 6, 5),\n",
              " (1, 6, 6),\n",
              " (2, 2, 1),\n",
              " (2, 2, 2),\n",
              " (2, 2, 3),\n",
              " (2, 2, 4),\n",
              " (2, 2, 5),\n",
              " (2, 2, 6),\n",
              " (2, 4, 1),\n",
              " (2, 4, 2),\n",
              " (2, 4, 3),\n",
              " (2, 4, 4),\n",
              " (2, 4, 5),\n",
              " (2, 4, 6),\n",
              " (2, 6, 1),\n",
              " (2, 6, 2),\n",
              " (2, 6, 3),\n",
              " (2, 6, 4),\n",
              " (2, 6, 5),\n",
              " (2, 6, 6),\n",
              " (3, 2, 1),\n",
              " (3, 2, 2),\n",
              " (3, 2, 3),\n",
              " (3, 2, 4),\n",
              " (3, 2, 5),\n",
              " (3, 2, 6),\n",
              " (3, 4, 1),\n",
              " (3, 4, 2),\n",
              " (3, 4, 3),\n",
              " (3, 4, 4),\n",
              " (3, 4, 5),\n",
              " (3, 4, 6),\n",
              " (3, 6, 1),\n",
              " (3, 6, 2),\n",
              " (3, 6, 3),\n",
              " (3, 6, 4),\n",
              " (3, 6, 5),\n",
              " (3, 6, 6),\n",
              " (4, 2, 1),\n",
              " (4, 2, 2),\n",
              " (4, 2, 3),\n",
              " (4, 2, 4),\n",
              " (4, 2, 5),\n",
              " (4, 2, 6),\n",
              " (4, 4, 1),\n",
              " (4, 4, 2),\n",
              " (4, 4, 3),\n",
              " (4, 4, 4),\n",
              " (4, 4, 5),\n",
              " (4, 4, 6),\n",
              " (4, 6, 1),\n",
              " (4, 6, 2),\n",
              " (4, 6, 3),\n",
              " (4, 6, 4),\n",
              " (4, 6, 5),\n",
              " (4, 6, 6),\n",
              " (5, 2, 1),\n",
              " (5, 2, 2),\n",
              " (5, 2, 3),\n",
              " (5, 2, 4),\n",
              " (5, 2, 5),\n",
              " (5, 2, 6),\n",
              " (5, 4, 1),\n",
              " (5, 4, 2),\n",
              " (5, 4, 3),\n",
              " (5, 4, 4),\n",
              " (5, 4, 5),\n",
              " (5, 4, 6),\n",
              " (5, 6, 1),\n",
              " (5, 6, 2),\n",
              " (5, 6, 3),\n",
              " (5, 6, 4),\n",
              " (5, 6, 5),\n",
              " (5, 6, 6),\n",
              " (6, 2, 1),\n",
              " (6, 2, 2),\n",
              " (6, 2, 3),\n",
              " (6, 2, 4),\n",
              " (6, 2, 5),\n",
              " (6, 2, 6),\n",
              " (6, 4, 1),\n",
              " (6, 4, 2),\n",
              " (6, 4, 3),\n",
              " (6, 4, 4),\n",
              " (6, 4, 5),\n",
              " (6, 4, 6),\n",
              " (6, 6, 1),\n",
              " (6, 6, 2),\n",
              " (6, 6, 3),\n",
              " (6, 6, 4),\n",
              " (6, 6, 5),\n",
              " (6, 6, 6)}"
            ]
          },
          "metadata": {},
          "execution_count": 130
        }
      ]
    },
    {
      "cell_type": "code",
      "source": [
        "D = {omega for omega in Omega if omega [2] %2 == 0}\n",
        "D"
      ],
      "metadata": {
        "colab": {
          "base_uri": "https://localhost:8080/"
        },
        "id": "xs1dy56xZNNW",
        "outputId": "00c79cd1-164b-4ddc-f472-2aa4b4775b81"
      },
      "execution_count": null,
      "outputs": [
        {
          "output_type": "execute_result",
          "data": {
            "text/plain": [
              "{(1, 1, 2),\n",
              " (1, 1, 4),\n",
              " (1, 1, 6),\n",
              " (1, 2, 2),\n",
              " (1, 2, 4),\n",
              " (1, 2, 6),\n",
              " (1, 3, 2),\n",
              " (1, 3, 4),\n",
              " (1, 3, 6),\n",
              " (1, 4, 2),\n",
              " (1, 4, 4),\n",
              " (1, 4, 6),\n",
              " (1, 5, 2),\n",
              " (1, 5, 4),\n",
              " (1, 5, 6),\n",
              " (1, 6, 2),\n",
              " (1, 6, 4),\n",
              " (1, 6, 6),\n",
              " (2, 1, 2),\n",
              " (2, 1, 4),\n",
              " (2, 1, 6),\n",
              " (2, 2, 2),\n",
              " (2, 2, 4),\n",
              " (2, 2, 6),\n",
              " (2, 3, 2),\n",
              " (2, 3, 4),\n",
              " (2, 3, 6),\n",
              " (2, 4, 2),\n",
              " (2, 4, 4),\n",
              " (2, 4, 6),\n",
              " (2, 5, 2),\n",
              " (2, 5, 4),\n",
              " (2, 5, 6),\n",
              " (2, 6, 2),\n",
              " (2, 6, 4),\n",
              " (2, 6, 6),\n",
              " (3, 1, 2),\n",
              " (3, 1, 4),\n",
              " (3, 1, 6),\n",
              " (3, 2, 2),\n",
              " (3, 2, 4),\n",
              " (3, 2, 6),\n",
              " (3, 3, 2),\n",
              " (3, 3, 4),\n",
              " (3, 3, 6),\n",
              " (3, 4, 2),\n",
              " (3, 4, 4),\n",
              " (3, 4, 6),\n",
              " (3, 5, 2),\n",
              " (3, 5, 4),\n",
              " (3, 5, 6),\n",
              " (3, 6, 2),\n",
              " (3, 6, 4),\n",
              " (3, 6, 6),\n",
              " (4, 1, 2),\n",
              " (4, 1, 4),\n",
              " (4, 1, 6),\n",
              " (4, 2, 2),\n",
              " (4, 2, 4),\n",
              " (4, 2, 6),\n",
              " (4, 3, 2),\n",
              " (4, 3, 4),\n",
              " (4, 3, 6),\n",
              " (4, 4, 2),\n",
              " (4, 4, 4),\n",
              " (4, 4, 6),\n",
              " (4, 5, 2),\n",
              " (4, 5, 4),\n",
              " (4, 5, 6),\n",
              " (4, 6, 2),\n",
              " (4, 6, 4),\n",
              " (4, 6, 6),\n",
              " (5, 1, 2),\n",
              " (5, 1, 4),\n",
              " (5, 1, 6),\n",
              " (5, 2, 2),\n",
              " (5, 2, 4),\n",
              " (5, 2, 6),\n",
              " (5, 3, 2),\n",
              " (5, 3, 4),\n",
              " (5, 3, 6),\n",
              " (5, 4, 2),\n",
              " (5, 4, 4),\n",
              " (5, 4, 6),\n",
              " (5, 5, 2),\n",
              " (5, 5, 4),\n",
              " (5, 5, 6),\n",
              " (5, 6, 2),\n",
              " (5, 6, 4),\n",
              " (5, 6, 6),\n",
              " (6, 1, 2),\n",
              " (6, 1, 4),\n",
              " (6, 1, 6),\n",
              " (6, 2, 2),\n",
              " (6, 2, 4),\n",
              " (6, 2, 6),\n",
              " (6, 3, 2),\n",
              " (6, 3, 4),\n",
              " (6, 3, 6),\n",
              " (6, 4, 2),\n",
              " (6, 4, 4),\n",
              " (6, 4, 6),\n",
              " (6, 5, 2),\n",
              " (6, 5, 4),\n",
              " (6, 5, 6),\n",
              " (6, 6, 2),\n",
              " (6, 6, 4),\n",
              " (6, 6, 6)}"
            ]
          },
          "metadata": {},
          "execution_count": 139
        }
      ]
    },
    {
      "cell_type": "code",
      "source": [
        "X = B.intersection(C.intersection(D))\n",
        "X"
      ],
      "metadata": {
        "colab": {
          "base_uri": "https://localhost:8080/"
        },
        "id": "tehFXtCkYtgO",
        "outputId": "9a396ef1-45c5-4162-cea4-95d35085cace"
      },
      "execution_count": null,
      "outputs": [
        {
          "output_type": "execute_result",
          "data": {
            "text/plain": [
              "{(2, 2, 2),\n",
              " (2, 2, 4),\n",
              " (2, 2, 6),\n",
              " (2, 4, 2),\n",
              " (2, 4, 4),\n",
              " (2, 4, 6),\n",
              " (2, 6, 2),\n",
              " (2, 6, 4),\n",
              " (2, 6, 6)}"
            ]
          },
          "metadata": {},
          "execution_count": 140
        }
      ]
    },
    {
      "cell_type": "code",
      "source": [
        "PX=len(X)/len (Omega)\n",
        "PX"
      ],
      "metadata": {
        "colab": {
          "base_uri": "https://localhost:8080/"
        },
        "id": "sLVYnmqxZVEU",
        "outputId": "7a6f6d9b-be02-4ac4-b9b4-f41b133617ce"
      },
      "execution_count": null,
      "outputs": [
        {
          "output_type": "execute_result",
          "data": {
            "text/plain": [
              "0.041666666666666664"
            ]
          },
          "metadata": {},
          "execution_count": 163
        }
      ]
    },
    {
      "cell_type": "code",
      "source": [
        "from itertools import product\n",
        "dado = set(product([\"S\",\"A\"], repeat = 3))\n",
        "dado"
      ],
      "metadata": {
        "colab": {
          "base_uri": "https://localhost:8080/"
        },
        "id": "F994az8Wm6uA",
        "outputId": "fe17f547-de41-4a71-f3c9-ea4234ee17db"
      },
      "execution_count": null,
      "outputs": [
        {
          "output_type": "execute_result",
          "data": {
            "text/plain": [
              "{('A', 'A', 'A'),\n",
              " ('A', 'A', 'S'),\n",
              " ('A', 'S', 'A'),\n",
              " ('A', 'S', 'S'),\n",
              " ('S', 'A', 'A'),\n",
              " ('S', 'A', 'S'),\n",
              " ('S', 'S', 'A'),\n",
              " ('S', 'S', 'S')}"
            ]
          },
          "metadata": {},
          "execution_count": 142
        }
      ]
    },
    {
      "cell_type": "code",
      "source": [
        "len(dado)"
      ],
      "metadata": {
        "colab": {
          "base_uri": "https://localhost:8080/"
        },
        "id": "P2F_Wpq4nDYT",
        "outputId": "0a12ad5d-90c9-4000-db03-6613ea853ce4"
      },
      "execution_count": null,
      "outputs": [
        {
          "output_type": "execute_result",
          "data": {
            "text/plain": [
              "8"
            ]
          },
          "metadata": {},
          "execution_count": 143
        }
      ]
    },
    {
      "cell_type": "code",
      "source": [
        "S2 = {omega for omega in dado if omega[1] == \"S\"}\n",
        "S2"
      ],
      "metadata": {
        "colab": {
          "base_uri": "https://localhost:8080/"
        },
        "id": "HC3tFWevniAe",
        "outputId": "84e6e3fa-3e03-4098-c97f-2f94e2bd918d"
      },
      "execution_count": null,
      "outputs": [
        {
          "output_type": "execute_result",
          "data": {
            "text/plain": [
              "{('A', 'S', 'A'), ('A', 'S', 'S'), ('S', 'S', 'A'), ('S', 'S', 'S')}"
            ]
          },
          "metadata": {},
          "execution_count": 145
        }
      ]
    },
    {
      "cell_type": "code",
      "source": [
        "len (S2)"
      ],
      "metadata": {
        "colab": {
          "base_uri": "https://localhost:8080/"
        },
        "id": "owSZw_UvoXN9",
        "outputId": "1693907c-5463-466a-bd11-852bdc858792"
      },
      "execution_count": null,
      "outputs": [
        {
          "output_type": "execute_result",
          "data": {
            "text/plain": [
              "4"
            ]
          },
          "metadata": {},
          "execution_count": 146
        }
      ]
    },
    {
      "cell_type": "code",
      "source": [
        "sol=len(S2)/len(dado)\n",
        "sol"
      ],
      "metadata": {
        "colab": {
          "base_uri": "https://localhost:8080/"
        },
        "id": "ocvw7xF3obc1",
        "outputId": "34738fd1-6c2b-480b-e77d-880f4345e2c3"
      },
      "execution_count": null,
      "outputs": [
        {
          "output_type": "execute_result",
          "data": {
            "text/plain": [
              "0.5"
            ]
          },
          "metadata": {},
          "execution_count": 210
        }
      ]
    },
    {
      "cell_type": "code",
      "source": [
        "def indep (X,Y):\n",
        "  return sol, PA == sol* PA"
      ],
      "metadata": {
        "id": "Pf2u9kC4qupx"
      },
      "execution_count": null,
      "outputs": []
    },
    {
      "cell_type": "code",
      "source": [
        "indep(sol,PA)"
      ],
      "metadata": {
        "colab": {
          "base_uri": "https://localhost:8080/"
        },
        "id": "DVVBwtDbrfji",
        "outputId": "045ea1e3-4c89-40c4-80fc-54431d4262c6"
      },
      "execution_count": null,
      "outputs": [
        {
          "output_type": "execute_result",
          "data": {
            "text/plain": [
              "(0.5, False)"
            ]
          },
          "metadata": {},
          "execution_count": 212
        }
      ]
    },
    {
      "cell_type": "code",
      "source": [
        "def indep (X,Y):\n",
        "  return sol, PX == sol*PX"
      ],
      "metadata": {
        "id": "6UH2F1vJ7pvZ"
      },
      "execution_count": null,
      "outputs": []
    },
    {
      "cell_type": "code",
      "source": [
        "indep(sol,PX)"
      ],
      "metadata": {
        "colab": {
          "base_uri": "https://localhost:8080/"
        },
        "id": "wonPbzA1u4rm",
        "outputId": "d0417385-55e5-403a-c1dc-5c582137e374"
      },
      "execution_count": null,
      "outputs": [
        {
          "output_type": "execute_result",
          "data": {
            "text/plain": [
              "(0.5, False)"
            ]
          },
          "metadata": {},
          "execution_count": 214
        }
      ]
    },
    {
      "cell_type": "markdown",
      "source": [
        "3.- Considera el experimento: Alicia y Karla lanzan 2 dados justos. Se tiene el siguiente juego:\n",
        "\n",
        "Si la suma de los dados es par, Alicia gana la cantidad máxima que sale en las caras y Karla pierde la cantidad mínima que sale en las caras.\n",
        "\n",
        "Si la suma de los dados es un número impar, Karla gana la cantidad de $5y Alicia pierde la cantidad de $3.\n",
        "\n",
        "¿Quién tiene más probabilidad de obtener mayor ganancia?"
      ],
      "metadata": {
        "id": "B_ut1lAmQAWv"
      }
    },
    {
      "cell_type": "code",
      "source": [
        "L = [1, 2, 4, 5, 6,]\n",
        "E = [x for x in L if x %2 == 0] #%2 == 0]: Es para pares \n",
        "                                #%2 == 1]: Es para impares \n",
        "E"
      ],
      "metadata": {
        "colab": {
          "base_uri": "https://localhost:8080/"
        },
        "id": "-XiQAE7TDBe9",
        "outputId": "59985118-bd96-4ddf-962d-a31a4838c55a"
      },
      "execution_count": null,
      "outputs": [
        {
          "output_type": "execute_result",
          "data": {
            "text/plain": [
              "[2, 4, 6]"
            ]
          },
          "metadata": {},
          "execution_count": 91
        }
      ]
    },
    {
      "cell_type": "code",
      "source": [
        "from itertools import product \n",
        "\n",
        "Omega = set(product ([1, 2, 3, 4, 5, 6], repeat = 2))\n",
        "\n",
        "#el evento S nos dice la distribución de la suma de los datos\n",
        "S = {omega for omega in Omega if (omega [0] + omega[1])%2 == 0}\n",
        "S"
      ],
      "metadata": {
        "id": "DuZ-DACTQU65",
        "colab": {
          "base_uri": "https://localhost:8080/"
        },
        "outputId": "233fcd82-976e-4741-d1f4-f102b4eb01f6"
      },
      "execution_count": null,
      "outputs": [
        {
          "output_type": "execute_result",
          "data": {
            "text/plain": [
              "{(1, 1),\n",
              " (1, 3),\n",
              " (1, 5),\n",
              " (2, 2),\n",
              " (2, 4),\n",
              " (2, 6),\n",
              " (3, 1),\n",
              " (3, 3),\n",
              " (3, 5),\n",
              " (4, 2),\n",
              " (4, 4),\n",
              " (4, 6),\n",
              " (5, 1),\n",
              " (5, 3),\n",
              " (5, 5),\n",
              " (6, 2),\n",
              " (6, 4),\n",
              " (6, 6)}"
            ]
          },
          "metadata": {},
          "execution_count": 92
        }
      ]
    },
    {
      "cell_type": "code",
      "source": [
        "len (Omega)\n"
      ],
      "metadata": {
        "colab": {
          "base_uri": "https://localhost:8080/"
        },
        "id": "8wwnA4UWZ-o1",
        "outputId": "f66aeaab-3100-427c-f53c-5042868b5693"
      },
      "execution_count": null,
      "outputs": [
        {
          "output_type": "execute_result",
          "data": {
            "text/plain": [
              "36"
            ]
          },
          "metadata": {},
          "execution_count": 93
        }
      ]
    },
    {
      "cell_type": "code",
      "source": [
        "#posibilidad de que alicia gane $1\n",
        "A = {max(a) for a in S}\n",
        "print(A)\n",
        "print (len(S))"
      ],
      "metadata": {
        "colab": {
          "base_uri": "https://localhost:8080/"
        },
        "id": "ivdyYLv5Euky",
        "outputId": "6ee141ac-4a75-42d5-8ee1-0373f7c5c9f5"
      },
      "execution_count": null,
      "outputs": [
        {
          "output_type": "stream",
          "name": "stdout",
          "text": [
            "{1, 2, 3, 4, 5, 6}\n",
            "18\n"
          ]
        }
      ]
    },
    {
      "cell_type": "markdown",
      "source": [
        "- Alicia gana $1: \n",
        "${(1,1)}---- P (gane/1/peso) = 1/18 $\n",
        "\n",
        "- Alicia gana $2: \n",
        "${(2,2)}---- P (gane/2/pesos) = 1/18 $\n",
        "\n",
        "- Alicia gana $3: \n",
        "${(1,3), (3,1), (3,3)}---- P (gane/3/pesos) = 3/18 $\n",
        "\n",
        "- Alicia gana $4: \n",
        "${(2,4), (4,2), (4, 4)}---- P (gane/4/pesos) = 3/18 $\n",
        "\n",
        "- Alicia gana $5: \n",
        "${(1,5), (3,5), (5,1)(5,3)(5,5)}---- P (gane/5/pesos) = 5/18 $\n",
        "\n",
        "- Alicia gana $6: \n",
        "${(2,6), (4,6), (6,2),(6,4),(6, 6)}---- P (gane/6/pesos) = 5/18 $"
      ],
      "metadata": {
        "id": "RjQ7ZlkWch6N"
      }
    },
    {
      "cell_type": "code",
      "source": [
        "I = {omega for omega in Omega if (omega [0] + omega[1])%2 == 1}\n",
        "print(I)\n",
        "len (I)"
      ],
      "metadata": {
        "colab": {
          "base_uri": "https://localhost:8080/"
        },
        "id": "4x5wuypYH1PE",
        "outputId": "e3be1531-3332-45fb-c77c-c181c18ade02"
      },
      "execution_count": null,
      "outputs": [
        {
          "output_type": "stream",
          "name": "stdout",
          "text": [
            "{(1, 2), (3, 2), (5, 4), (5, 6), (4, 5), (6, 1), (5, 2), (2, 1), (1, 4), (6, 3), (1, 6), (2, 3), (3, 6), (4, 3), (3, 4), (2, 5), (4, 1), (6, 5)}\n"
          ]
        },
        {
          "output_type": "execute_result",
          "data": {
            "text/plain": [
              "18"
            ]
          },
          "metadata": {},
          "execution_count": 27
        }
      ]
    },
    {
      "cell_type": "code",
      "source": [
        "#Si la suma de los dados es un número impar, Karla gana la cantidad de y Alicia pierde la cantidad de $5.\n",
        "      \n",
        "#Karla gana $5: siempre que la suma de los dados sea impar:%50:\n",
        "      #gane 5= 0.5---5*0.5=2.5"
      ],
      "metadata": {
        "id": "MmvjmNqIIF8X"
      },
      "execution_count": null,
      "outputs": []
    },
    {
      "cell_type": "code",
      "source": [
        "G1 = 1/18\n",
        "G1"
      ],
      "metadata": {
        "colab": {
          "base_uri": "https://localhost:8080/"
        },
        "id": "cixn0712Ka-X",
        "outputId": "64660bfb-43f6-414c-aacc-791ee6cbda4e"
      },
      "execution_count": null,
      "outputs": [
        {
          "output_type": "execute_result",
          "data": {
            "text/plain": [
              "0.05555555555555555"
            ]
          },
          "metadata": {},
          "execution_count": 102
        }
      ]
    },
    {
      "cell_type": "code",
      "source": [
        "G2 = 1/18\n",
        "G2"
      ],
      "metadata": {
        "colab": {
          "base_uri": "https://localhost:8080/"
        },
        "id": "126R7HIKeREY",
        "outputId": "7bef4e0b-bddf-4455-fcde-caa89c2f0cb8"
      },
      "execution_count": null,
      "outputs": [
        {
          "output_type": "execute_result",
          "data": {
            "text/plain": [
              "0.05555555555555555"
            ]
          },
          "metadata": {},
          "execution_count": 97
        }
      ]
    },
    {
      "cell_type": "code",
      "source": [
        "G3 = 3/18\n",
        "G3"
      ],
      "metadata": {
        "colab": {
          "base_uri": "https://localhost:8080/"
        },
        "id": "ItgmyKYMeS7D",
        "outputId": "22f4d0d7-925a-455e-fa08-423e7a795d3c"
      },
      "execution_count": null,
      "outputs": [
        {
          "output_type": "execute_result",
          "data": {
            "text/plain": [
              "0.16666666666666666"
            ]
          },
          "metadata": {},
          "execution_count": 98
        }
      ]
    },
    {
      "cell_type": "code",
      "source": [
        "G4 = 3/18\n",
        "G4"
      ],
      "metadata": {
        "colab": {
          "base_uri": "https://localhost:8080/"
        },
        "id": "X6_vrldWeV4k",
        "outputId": "4dd29a95-eedb-4067-8f0d-f6766305eccb"
      },
      "execution_count": null,
      "outputs": [
        {
          "output_type": "execute_result",
          "data": {
            "text/plain": [
              "0.16666666666666666"
            ]
          },
          "metadata": {},
          "execution_count": 99
        }
      ]
    },
    {
      "cell_type": "code",
      "source": [
        "G5 = 5/18\n",
        "G5"
      ],
      "metadata": {
        "colab": {
          "base_uri": "https://localhost:8080/"
        },
        "id": "0Vvjn9PUearX",
        "outputId": "6fdadb98-c15b-4f37-e8e7-dcae58105b9a"
      },
      "execution_count": null,
      "outputs": [
        {
          "output_type": "execute_result",
          "data": {
            "text/plain": [
              "0.2777777777777778"
            ]
          },
          "metadata": {},
          "execution_count": 100
        }
      ]
    },
    {
      "cell_type": "code",
      "source": [
        "G6 = 5/18\n",
        "G6"
      ],
      "metadata": {
        "colab": {
          "base_uri": "https://localhost:8080/"
        },
        "id": "BntSAO8Mev4N",
        "outputId": "daac7d88-2075-4b8b-ddcd-b5877078e93b"
      },
      "execution_count": null,
      "outputs": [
        {
          "output_type": "execute_result",
          "data": {
            "text/plain": [
              "0.2777777777777778"
            ]
          },
          "metadata": {},
          "execution_count": 101
        }
      ]
    },
    {
      "cell_type": "code",
      "source": [
        "karla  = {min (k) for k in S}\n",
        "karla"
      ],
      "metadata": {
        "colab": {
          "base_uri": "https://localhost:8080/"
        },
        "id": "K5jyuuEMfc73",
        "outputId": "0aa3fc19-e38a-4c4a-936c-ce414897b87f"
      },
      "execution_count": null,
      "outputs": [
        {
          "output_type": "execute_result",
          "data": {
            "text/plain": [
              "{1, 2, 3, 4, 5, 6}"
            ]
          },
          "metadata": {},
          "execution_count": 103
        }
      ]
    },
    {
      "cell_type": "markdown",
      "source": [
        "- Karla pierde $1: \n",
        "${(1,1),(1,3),(1,5)}---- P (gane/1/peso) = 5/18 $\n",
        "\n",
        "- Karla pierde $2: \n",
        "${(2,2),(2,4),(2,6),(4,2),(6,2)}---- P (gane/2/pesos) = 5/18 $\n",
        "\n",
        "- Karla pierde $3: \n",
        "${(1,3), (3,1), (3,3),(3,5),(5,3)}---- P (gane/3/pesos) = 5/18 $\n",
        "\n",
        "- Karla pierde $4: \n",
        "${(2,4), (4,2), (4, 4),(4,6),(6,4)}---- P (gane/4/pesos) = 3/18 $\n",
        "\n",
        "- Karla pierde $5: \n",
        "${(1,5), (3,5),(5,1)(5,3)(5,5)}---- P (gane/5/pesos) = 5/18 $\n",
        "\n",
        "- Karla pierde $6: \n",
        "${(2,6),(4,6),(6,2),(6,4),(6, 6)}---- P (gane/6/pesos) = 5/18 $"
      ],
      "metadata": {
        "id": "TrcCPr3efEmn"
      }
    },
    {
      "cell_type": "code",
      "source": [
        "P1= 5/18\n",
        "P1"
      ],
      "metadata": {
        "colab": {
          "base_uri": "https://localhost:8080/"
        },
        "id": "LGCj27XZhgSy",
        "outputId": "f74836b5-16f9-4789-9ac8-e280237802ca"
      },
      "execution_count": null,
      "outputs": [
        {
          "output_type": "execute_result",
          "data": {
            "text/plain": [
              "0.2777777777777778"
            ]
          },
          "metadata": {},
          "execution_count": 104
        }
      ]
    },
    {
      "cell_type": "code",
      "source": [
        "P2= 5/18\n",
        "P2"
      ],
      "metadata": {
        "colab": {
          "base_uri": "https://localhost:8080/"
        },
        "id": "H8selL3Mhlx2",
        "outputId": "537142f0-450f-4a77-cffd-f343add3effe"
      },
      "execution_count": null,
      "outputs": [
        {
          "output_type": "execute_result",
          "data": {
            "text/plain": [
              "0.2777777777777778"
            ]
          },
          "metadata": {},
          "execution_count": 105
        }
      ]
    },
    {
      "cell_type": "code",
      "source": [
        "P3= 5/18\n",
        "P3"
      ],
      "metadata": {
        "colab": {
          "base_uri": "https://localhost:8080/"
        },
        "id": "P8j4kgmEhmKB",
        "outputId": "298f0ae6-9378-422c-e511-f571f314e2c0"
      },
      "execution_count": null,
      "outputs": [
        {
          "output_type": "execute_result",
          "data": {
            "text/plain": [
              "0.2777777777777778"
            ]
          },
          "metadata": {},
          "execution_count": 106
        }
      ]
    },
    {
      "cell_type": "code",
      "source": [
        "P4= 5/18\n",
        "P4"
      ],
      "metadata": {
        "colab": {
          "base_uri": "https://localhost:8080/"
        },
        "id": "7EuH6Aqehmoi",
        "outputId": "fb374d70-0d1b-4c43-d525-e2a0b4206305"
      },
      "execution_count": null,
      "outputs": [
        {
          "output_type": "execute_result",
          "data": {
            "text/plain": [
              "0.2777777777777778"
            ]
          },
          "metadata": {},
          "execution_count": 107
        }
      ]
    },
    {
      "cell_type": "code",
      "source": [
        "P5= 5/18\n",
        "P5"
      ],
      "metadata": {
        "colab": {
          "base_uri": "https://localhost:8080/"
        },
        "id": "AcyOqSXjhmyK",
        "outputId": "d3a35c75-64e9-40b5-873c-da8927e3c142"
      },
      "execution_count": null,
      "outputs": [
        {
          "output_type": "execute_result",
          "data": {
            "text/plain": [
              "0.2777777777777778"
            ]
          },
          "metadata": {},
          "execution_count": 108
        }
      ]
    },
    {
      "cell_type": "code",
      "source": [
        "P6= 5/18\n",
        "P6"
      ],
      "metadata": {
        "colab": {
          "base_uri": "https://localhost:8080/"
        },
        "id": "kxKWa5aFhnDU",
        "outputId": "be050991-ef82-47ac-c39f-40b14be785e6"
      },
      "execution_count": null,
      "outputs": [
        {
          "output_type": "execute_result",
          "data": {
            "text/plain": [
              "0.2777777777777778"
            ]
          },
          "metadata": {},
          "execution_count": 109
        }
      ]
    },
    {
      "cell_type": "code",
      "source": [
        "I = {omega for omega in Omega if (omega [0] + omega[1])%2 == 1}\n",
        "I"
      ],
      "metadata": {
        "colab": {
          "base_uri": "https://localhost:8080/"
        },
        "id": "GD4WYk5kiLD7",
        "outputId": "0dd5b484-b38a-4406-fe07-639692cc001c"
      },
      "execution_count": null,
      "outputs": [
        {
          "output_type": "execute_result",
          "data": {
            "text/plain": [
              "{(1, 2),\n",
              " (1, 4),\n",
              " (1, 6),\n",
              " (2, 1),\n",
              " (2, 3),\n",
              " (2, 5),\n",
              " (3, 2),\n",
              " (3, 4),\n",
              " (3, 6),\n",
              " (4, 1),\n",
              " (4, 3),\n",
              " (4, 5),\n",
              " (5, 2),\n",
              " (5, 4),\n",
              " (5, 6),\n",
              " (6, 1),\n",
              " (6, 3),\n",
              " (6, 5)}"
            ]
          },
          "metadata": {},
          "execution_count": 112
        }
      ]
    },
    {
      "cell_type": "code",
      "source": [
        "len(I)"
      ],
      "metadata": {
        "colab": {
          "base_uri": "https://localhost:8080/"
        },
        "id": "76sOc5Q6ifQK",
        "outputId": "81feb223-ef5f-46b3-88f5-b39a750ea66c"
      },
      "execution_count": null,
      "outputs": [
        {
          "output_type": "execute_result",
          "data": {
            "text/plain": [
              "18"
            ]
          },
          "metadata": {},
          "execution_count": 113
        }
      ]
    },
    {
      "cell_type": "code",
      "source": [
        "karla_pro_G5 = len(I)/ len(Omega)\n",
        "karla_pro_G5\n",
        "#gana 5= 0.5*5= 2.5"
      ],
      "metadata": {
        "colab": {
          "base_uri": "https://localhost:8080/"
        },
        "id": "NZAXwuHhisYF",
        "outputId": "89d0b9e3-c8ac-4927-fc47-647ec41cd401"
      },
      "execution_count": null,
      "outputs": [
        {
          "output_type": "execute_result",
          "data": {
            "text/plain": [
              "0.5"
            ]
          },
          "metadata": {},
          "execution_count": 117
        }
      ]
    },
    {
      "cell_type": "code",
      "source": [
        "alicia_pro_P3 = len(I)/ len(Omega)\n",
        "alicia_pro_P3\n",
        "#pierde 3= 0.5*3= 1.5"
      ],
      "metadata": {
        "colab": {
          "base_uri": "https://localhost:8080/"
        },
        "id": "MkqngaxDjDii",
        "outputId": "cbbac5a9-9030-4804-8e86-bc0276cc8c6a"
      },
      "execution_count": null,
      "outputs": [
        {
          "output_type": "execute_result",
          "data": {
            "text/plain": [
              "0.5"
            ]
          },
          "metadata": {},
          "execution_count": 118
        }
      ]
    },
    {
      "cell_type": "code",
      "source": [
        "P_alicia= G1*G2*G3*G4*G5*G6\n",
        "P_alicia"
      ],
      "metadata": {
        "colab": {
          "base_uri": "https://localhost:8080/"
        },
        "id": "E8ZobbNQjVk1",
        "outputId": "01daaa15-dc8c-4108-d521-21c87170761d"
      },
      "execution_count": null,
      "outputs": [
        {
          "output_type": "execute_result",
          "data": {
            "text/plain": [
              "6.61526867516808e-06"
            ]
          },
          "metadata": {},
          "execution_count": 170
        }
      ]
    },
    {
      "cell_type": "code",
      "source": [
        "P_karla = karla_pro_G5\n",
        "P_karla\n",
        "#Es más probale que Karla gane :D ouuu yea!"
      ],
      "metadata": {
        "colab": {
          "base_uri": "https://localhost:8080/"
        },
        "id": "MKMwTwKLwR6C",
        "outputId": "e6e7bd28-70e9-407a-b8d3-07ba5fc97259"
      },
      "execution_count": null,
      "outputs": [
        {
          "output_type": "execute_result",
          "data": {
            "text/plain": [
              "0.5"
            ]
          },
          "metadata": {},
          "execution_count": 171
        }
      ]
    },
    {
      "cell_type": "markdown",
      "source": [
        "4.- Escribe en un DataFrame la distribución asociada a la suma que se obtiene al lanzar 3 dados.\n"
      ],
      "metadata": {
        "id": "pGl-17ILQj5P"
      }
    },
    {
      "cell_type": "code",
      "source": [
        "S = set(product ([1,2,3,4,5,6],repeat = 3))\n",
        "S\n",
        "s3={omega for omega in Omega if (omega[0]+omega[1]+omega[2])==3 }\n",
        "s4={omega for omega in Omega if (omega[0]+omega[1]+omega[2])==4 }\n",
        "s5={omega for omega in Omega if (omega[0]+omega[1]+omega[2])==5 }\n",
        "s6={omega for omega in Omega if (omega[0]+omega[1]+omega[2])==6 }\n",
        "s7={omega for omega in Omega if (omega[0]+omega[1]+omega[2])==7 }\n",
        "s8={omega for omega in Omega if (omega[0]+omega[1]+omega[2])==8 }\n",
        "s9={omega for omega in Omega if (omega[0]+omega[1]+omega[2])==9 }\n",
        "s10={omega for omega in Omega if (omega[0]+omega[1]+omega[2])==10 }\n",
        "s11={omega for omega in Omega if (omega[0]+omega[1]+omega[2])==11 }\n",
        "s12={omega for omega in Omega if (omega[0]+omega[1]+omega[2])==12 }\n",
        "s13={omega for omega in Omega if (omega[0]+omega[1]+omega[2])==13 }\n",
        "s14={omega for omega in Omega if (omega[0]+omega[1]+omega[2])==13 }\n",
        "s15={omega for omega in Omega if (omega[0]+omega[1]+omega[2])==15 }\n",
        "s16={omega for omega in Omega if (omega[0]+omega[1]+omega[2])==16 }\n",
        "s17={omega for omega in Omega if (omega[0]+omega[1]+omega[2])==17 }\n",
        "s18={omega for omega in Omega if (omega[0]+omega[1]+omega[2])==18 }\n",
        "diccionario={\"suma para 3\": [s3],\n",
        "     \"suma para 4\": [s4],\n",
        "     \"suma para 5\": [s5],\n",
        "     \"suma para 6\": [s6],\n",
        "     \"suma para 7\": [s7],\n",
        "     \"suma para 8\": [s8],\n",
        "     \"suma para 9\": [s9],\n",
        "     \"suma para 10\": [s10],\n",
        "     \"suma para 11\": [s11],\n",
        "     \"suma para 12\": [s12],\n",
        "     \"suma para 13\": [s13],\n",
        "     \"suma para 14\": [s14],\n",
        "     \"suma para 15\": [s15],\n",
        "     \"suma para 16\": [s16],\n",
        "     \"suma para 17\": [s17],\n",
        "     \"suma para 18\": [s18]\n",
        "     }"
      ],
      "metadata": {
        "id": "lxWM9OLNJ9-T"
      },
      "execution_count": null,
      "outputs": []
    },
    {
      "cell_type": "code",
      "source": [
        "import pandas as pd \n",
        "X=[\"comb que dan un resultado\"]\n",
        "dfdiccionario= pd.DataFrame (diccionario, index = X)\n",
        "dfdiccionario"
      ],
      "metadata": {
        "colab": {
          "base_uri": "https://localhost:8080/",
          "height": 426
        },
        "id": "tF-Ri8pXyYBF",
        "outputId": "abe94ed8-91ab-4726-9a6d-1face134a578"
      },
      "execution_count": null,
      "outputs": [
        {
          "output_type": "execute_result",
          "data": {
            "text/plain": [
              "                           suma para 3                        suma para 4  \\\n",
              "comb que dan un resultado  {(1, 1, 1)}  {(1, 2, 1), (2, 1, 1), (1, 1, 2)}   \n",
              "\n",
              "                                                                 suma para 5  \\\n",
              "comb que dan un resultado  {(3, 1, 1), (1, 2, 2), (2, 2, 1), (1, 1, 3), (...   \n",
              "\n",
              "                                                                 suma para 6  \\\n",
              "comb que dan un resultado  {(2, 2, 2), (3, 1, 2), (1, 3, 2), (3, 2, 1), (...   \n",
              "\n",
              "                                                                 suma para 7  \\\n",
              "comb que dan un resultado  {(2, 3, 2), (2, 1, 4), (5, 1, 1), (4, 2, 1), (...   \n",
              "\n",
              "                                                                 suma para 8  \\\n",
              "comb que dan un resultado  {(4, 2, 2), (2, 2, 4), (1, 1, 6), (1, 5, 2), (...   \n",
              "\n",
              "                                                                 suma para 9  \\\n",
              "comb que dan un resultado  {(1, 5, 3), (2, 2, 5), (4, 4, 1), (1, 4, 4), (...   \n",
              "\n",
              "                                                                suma para 10  \\\n",
              "comb que dan un resultado  {(2, 3, 5), (1, 4, 5), (4, 3, 3), (5, 1, 4), (...   \n",
              "\n",
              "                                                                suma para 11  \\\n",
              "comb que dan un resultado  {(4, 3, 4), (2, 3, 6), (5, 5, 1), (5, 1, 5), (...   \n",
              "\n",
              "                                                                suma para 12  \\\n",
              "comb que dan un resultado  {(3, 4, 5), (5, 3, 4), (3, 5, 4), (4, 3, 5), (...   \n",
              "\n",
              "                                                                suma para 13  \\\n",
              "comb que dan un resultado  {(5, 6, 2), (5, 2, 6), (3, 4, 6), (6, 3, 4), (...   \n",
              "\n",
              "                                                                suma para 14  \\\n",
              "comb que dan un resultado  {(5, 6, 2), (5, 2, 6), (3, 4, 6), (6, 3, 4), (...   \n",
              "\n",
              "                                                                suma para 15  \\\n",
              "comb que dan un resultado  {(6, 6, 3), (6, 4, 5), (4, 6, 5), (5, 6, 4), (...   \n",
              "\n",
              "                                                                suma para 16  \\\n",
              "comb que dan un resultado  {(5, 5, 6), (4, 6, 6), (6, 5, 5), (5, 6, 5), (...   \n",
              "\n",
              "                                                suma para 17 suma para 18  \n",
              "comb que dan un resultado  {(5, 6, 6), (6, 5, 6), (6, 6, 5)}  {(6, 6, 6)}  "
            ],
            "text/html": [
              "\n",
              "  <div id=\"df-98f135ca-1178-423d-937f-72c836069b3e\">\n",
              "    <div class=\"colab-df-container\">\n",
              "      <div>\n",
              "<style scoped>\n",
              "    .dataframe tbody tr th:only-of-type {\n",
              "        vertical-align: middle;\n",
              "    }\n",
              "\n",
              "    .dataframe tbody tr th {\n",
              "        vertical-align: top;\n",
              "    }\n",
              "\n",
              "    .dataframe thead th {\n",
              "        text-align: right;\n",
              "    }\n",
              "</style>\n",
              "<table border=\"1\" class=\"dataframe\">\n",
              "  <thead>\n",
              "    <tr style=\"text-align: right;\">\n",
              "      <th></th>\n",
              "      <th>suma para 3</th>\n",
              "      <th>suma para 4</th>\n",
              "      <th>suma para 5</th>\n",
              "      <th>suma para 6</th>\n",
              "      <th>suma para 7</th>\n",
              "      <th>suma para 8</th>\n",
              "      <th>suma para 9</th>\n",
              "      <th>suma para 10</th>\n",
              "      <th>suma para 11</th>\n",
              "      <th>suma para 12</th>\n",
              "      <th>suma para 13</th>\n",
              "      <th>suma para 14</th>\n",
              "      <th>suma para 15</th>\n",
              "      <th>suma para 16</th>\n",
              "      <th>suma para 17</th>\n",
              "      <th>suma para 18</th>\n",
              "    </tr>\n",
              "  </thead>\n",
              "  <tbody>\n",
              "    <tr>\n",
              "      <th>comb que dan un resultado</th>\n",
              "      <td>{(1, 1, 1)}</td>\n",
              "      <td>{(1, 2, 1), (2, 1, 1), (1, 1, 2)}</td>\n",
              "      <td>{(3, 1, 1), (1, 2, 2), (2, 2, 1), (1, 1, 3), (...</td>\n",
              "      <td>{(2, 2, 2), (3, 1, 2), (1, 3, 2), (3, 2, 1), (...</td>\n",
              "      <td>{(2, 3, 2), (2, 1, 4), (5, 1, 1), (4, 2, 1), (...</td>\n",
              "      <td>{(4, 2, 2), (2, 2, 4), (1, 1, 6), (1, 5, 2), (...</td>\n",
              "      <td>{(1, 5, 3), (2, 2, 5), (4, 4, 1), (1, 4, 4), (...</td>\n",
              "      <td>{(2, 3, 5), (1, 4, 5), (4, 3, 3), (5, 1, 4), (...</td>\n",
              "      <td>{(4, 3, 4), (2, 3, 6), (5, 5, 1), (5, 1, 5), (...</td>\n",
              "      <td>{(3, 4, 5), (5, 3, 4), (3, 5, 4), (4, 3, 5), (...</td>\n",
              "      <td>{(5, 6, 2), (5, 2, 6), (3, 4, 6), (6, 3, 4), (...</td>\n",
              "      <td>{(5, 6, 2), (5, 2, 6), (3, 4, 6), (6, 3, 4), (...</td>\n",
              "      <td>{(6, 6, 3), (6, 4, 5), (4, 6, 5), (5, 6, 4), (...</td>\n",
              "      <td>{(5, 5, 6), (4, 6, 6), (6, 5, 5), (5, 6, 5), (...</td>\n",
              "      <td>{(5, 6, 6), (6, 5, 6), (6, 6, 5)}</td>\n",
              "      <td>{(6, 6, 6)}</td>\n",
              "    </tr>\n",
              "  </tbody>\n",
              "</table>\n",
              "</div>\n",
              "      <button class=\"colab-df-convert\" onclick=\"convertToInteractive('df-98f135ca-1178-423d-937f-72c836069b3e')\"\n",
              "              title=\"Convert this dataframe to an interactive table.\"\n",
              "              style=\"display:none;\">\n",
              "        \n",
              "  <svg xmlns=\"http://www.w3.org/2000/svg\" height=\"24px\"viewBox=\"0 0 24 24\"\n",
              "       width=\"24px\">\n",
              "    <path d=\"M0 0h24v24H0V0z\" fill=\"none\"/>\n",
              "    <path d=\"M18.56 5.44l.94 2.06.94-2.06 2.06-.94-2.06-.94-.94-2.06-.94 2.06-2.06.94zm-11 1L8.5 8.5l.94-2.06 2.06-.94-2.06-.94L8.5 2.5l-.94 2.06-2.06.94zm10 10l.94 2.06.94-2.06 2.06-.94-2.06-.94-.94-2.06-.94 2.06-2.06.94z\"/><path d=\"M17.41 7.96l-1.37-1.37c-.4-.4-.92-.59-1.43-.59-.52 0-1.04.2-1.43.59L10.3 9.45l-7.72 7.72c-.78.78-.78 2.05 0 2.83L4 21.41c.39.39.9.59 1.41.59.51 0 1.02-.2 1.41-.59l7.78-7.78 2.81-2.81c.8-.78.8-2.07 0-2.86zM5.41 20L4 18.59l7.72-7.72 1.47 1.35L5.41 20z\"/>\n",
              "  </svg>\n",
              "      </button>\n",
              "      \n",
              "  <style>\n",
              "    .colab-df-container {\n",
              "      display:flex;\n",
              "      flex-wrap:wrap;\n",
              "      gap: 12px;\n",
              "    }\n",
              "\n",
              "    .colab-df-convert {\n",
              "      background-color: #E8F0FE;\n",
              "      border: none;\n",
              "      border-radius: 50%;\n",
              "      cursor: pointer;\n",
              "      display: none;\n",
              "      fill: #1967D2;\n",
              "      height: 32px;\n",
              "      padding: 0 0 0 0;\n",
              "      width: 32px;\n",
              "    }\n",
              "\n",
              "    .colab-df-convert:hover {\n",
              "      background-color: #E2EBFA;\n",
              "      box-shadow: 0px 1px 2px rgba(60, 64, 67, 0.3), 0px 1px 3px 1px rgba(60, 64, 67, 0.15);\n",
              "      fill: #174EA6;\n",
              "    }\n",
              "\n",
              "    [theme=dark] .colab-df-convert {\n",
              "      background-color: #3B4455;\n",
              "      fill: #D2E3FC;\n",
              "    }\n",
              "\n",
              "    [theme=dark] .colab-df-convert:hover {\n",
              "      background-color: #434B5C;\n",
              "      box-shadow: 0px 1px 3px 1px rgba(0, 0, 0, 0.15);\n",
              "      filter: drop-shadow(0px 1px 2px rgba(0, 0, 0, 0.3));\n",
              "      fill: #FFFFFF;\n",
              "    }\n",
              "  </style>\n",
              "\n",
              "      <script>\n",
              "        const buttonEl =\n",
              "          document.querySelector('#df-98f135ca-1178-423d-937f-72c836069b3e button.colab-df-convert');\n",
              "        buttonEl.style.display =\n",
              "          google.colab.kernel.accessAllowed ? 'block' : 'none';\n",
              "\n",
              "        async function convertToInteractive(key) {\n",
              "          const element = document.querySelector('#df-98f135ca-1178-423d-937f-72c836069b3e');\n",
              "          const dataTable =\n",
              "            await google.colab.kernel.invokeFunction('convertToInteractive',\n",
              "                                                     [key], {});\n",
              "          if (!dataTable) return;\n",
              "\n",
              "          const docLinkHtml = 'Like what you see? Visit the ' +\n",
              "            '<a target=\"_blank\" href=https://colab.research.google.com/notebooks/data_table.ipynb>data table notebook</a>'\n",
              "            + ' to learn more about interactive tables.';\n",
              "          element.innerHTML = '';\n",
              "          dataTable['output_type'] = 'display_data';\n",
              "          await google.colab.output.renderOutput(dataTable, element);\n",
              "          const docLink = document.createElement('div');\n",
              "          docLink.innerHTML = docLinkHtml;\n",
              "          element.appendChild(docLink);\n",
              "        }\n",
              "      </script>\n",
              "    </div>\n",
              "  </div>\n",
              "  "
            ]
          },
          "metadata": {},
          "execution_count": 191
        }
      ]
    },
    {
      "cell_type": "markdown",
      "source": [
        "\n",
        "5.- En un salón de clases se encuentran 20 estudiantes. Se requiere comparar Horas de estudio en un día anterior a un examen con la calificación que se obtiene en el examen. Registra tus datos (que inventarás) en un diccionario y crea un DataFrame a partir del diccionario. Usando algún método en Pandas, da una descripción estadística de los datos anteriores."
      ],
      "metadata": {
        "id": "TdB9ddssQk88"
      }
    },
    {
      "cell_type": "code",
      "source": [
        "import pandas as pd\n"
      ],
      "metadata": {
        "id": "VGOnvB0YyXVA"
      },
      "execution_count": null,
      "outputs": []
    },
    {
      "cell_type": "code",
      "source": [
        "Estudiantes = {\"mariana\": [5, 8], \n",
        "               \"gardo\": [5,9 ],\n",
        "               \"andy\": [4, 10],\n",
        "               \"ceci\": [2, 7],\n",
        "               \"adri\": [5, 6],\n",
        "               \"aura\": [4, 8],\n",
        "               \"rose\": [6, 9],\n",
        "               \"picha\": [1,7 ],\n",
        "               \"des\": [2, 9],\n",
        "               \"berni\": [4, 9],\n",
        "               \"rey\": [3, 10],\n",
        "               \"emilio\": [8,9 ],\n",
        "               \"adrien\": [2, 8],\n",
        "               \"jorge\": [1,7 ],\n",
        "               \"bruno\": [2,9 ],\n",
        "               \"diego\": [7, 8],\n",
        "               \"alexa\": [4, 8],\n",
        "               \"reni\": [5,9 ],\n",
        "               \"zazil\": [2, 7],\n",
        "               \"yolanda\": [3, 8],\n",
        "               }"
      ],
      "metadata": {
        "id": "q4o8g2132HnE"
      },
      "execution_count": null,
      "outputs": []
    },
    {
      "cell_type": "code",
      "source": [
        "len(Estudiantes)"
      ],
      "metadata": {
        "colab": {
          "base_uri": "https://localhost:8080/"
        },
        "id": "eYD_EWjd4Y9w",
        "outputId": "2c3ca69a-e5ed-441e-a913-7a9478277271"
      },
      "execution_count": null,
      "outputs": [
        {
          "output_type": "execute_result",
          "data": {
            "text/plain": [
              "20"
            ]
          },
          "metadata": {},
          "execution_count": 199
        }
      ]
    },
    {
      "cell_type": "code",
      "source": [
        "index = [\"horas\", \"calificacion\"]\n",
        "dfestudiantes = pd.DataFrame (Estudiantes, index=index)\n",
        "dfestudiantes.transpose\n"
      ],
      "metadata": {
        "colab": {
          "base_uri": "https://localhost:8080/"
        },
        "id": "8LKxbiEI3B8p",
        "outputId": "d037b700-27b8-4d5c-f313-d129f52fe5a5"
      },
      "execution_count": null,
      "outputs": [
        {
          "output_type": "execute_result",
          "data": {
            "text/plain": [
              "<bound method DataFrame.transpose of               mariana  gardo  andy  ceci  adri  aura  rose  picha  des  berni  \\\n",
              "horas               5      5     4     2     5     4     6      1    2      4   \n",
              "calificacion        8      9    10     7     6     8     9      7    9      9   \n",
              "\n",
              "              rey  emilio  adrien  jorge  bruno  diego  alexa  reni  zazil  \\\n",
              "horas           3       8       2      1      2      7      4     5      2   \n",
              "calificacion   10       9       8      7      9      8      8     9      7   \n",
              "\n",
              "              yolanda  \n",
              "horas               3  \n",
              "calificacion        8  >"
            ]
          },
          "metadata": {},
          "execution_count": 220
        }
      ]
    },
    {
      "cell_type": "code",
      "source": [
        "dfestudiantes.describe()"
      ],
      "metadata": {
        "colab": {
          "base_uri": "https://localhost:8080/",
          "height": 364
        },
        "id": "42qEU3Fe50Nv",
        "outputId": "7ab0fb31-c28d-49cd-83d1-94eceb3b2914"
      },
      "execution_count": null,
      "outputs": [
        {
          "output_type": "execute_result",
          "data": {
            "text/plain": [
              "       mariana     gardo       andy      ceci      adri      aura     rose  \\\n",
              "count  2.00000  2.000000   2.000000  2.000000  2.000000  2.000000  2.00000   \n",
              "mean   6.50000  7.000000   7.000000  4.500000  5.500000  6.000000  7.50000   \n",
              "std    2.12132  2.828427   4.242641  3.535534  0.707107  2.828427  2.12132   \n",
              "min    5.00000  5.000000   4.000000  2.000000  5.000000  4.000000  6.00000   \n",
              "25%    5.75000  6.000000   5.500000  3.250000  5.250000  5.000000  6.75000   \n",
              "50%    6.50000  7.000000   7.000000  4.500000  5.500000  6.000000  7.50000   \n",
              "75%    7.25000  8.000000   8.500000  5.750000  5.750000  7.000000  8.25000   \n",
              "max    8.00000  9.000000  10.000000  7.000000  6.000000  8.000000  9.00000   \n",
              "\n",
              "          picha       des     berni        rey    emilio    adrien     jorge  \\\n",
              "count  2.000000  2.000000  2.000000   2.000000  2.000000  2.000000  2.000000   \n",
              "mean   4.000000  5.500000  6.500000   6.500000  8.500000  5.000000  4.000000   \n",
              "std    4.242641  4.949747  3.535534   4.949747  0.707107  4.242641  4.242641   \n",
              "min    1.000000  2.000000  4.000000   3.000000  8.000000  2.000000  1.000000   \n",
              "25%    2.500000  3.750000  5.250000   4.750000  8.250000  3.500000  2.500000   \n",
              "50%    4.000000  5.500000  6.500000   6.500000  8.500000  5.000000  4.000000   \n",
              "75%    5.500000  7.250000  7.750000   8.250000  8.750000  6.500000  5.500000   \n",
              "max    7.000000  9.000000  9.000000  10.000000  9.000000  8.000000  7.000000   \n",
              "\n",
              "          bruno     diego     alexa      reni     zazil   yolanda  \n",
              "count  2.000000  2.000000  2.000000  2.000000  2.000000  2.000000  \n",
              "mean   5.500000  7.500000  6.000000  7.000000  4.500000  5.500000  \n",
              "std    4.949747  0.707107  2.828427  2.828427  3.535534  3.535534  \n",
              "min    2.000000  7.000000  4.000000  5.000000  2.000000  3.000000  \n",
              "25%    3.750000  7.250000  5.000000  6.000000  3.250000  4.250000  \n",
              "50%    5.500000  7.500000  6.000000  7.000000  4.500000  5.500000  \n",
              "75%    7.250000  7.750000  7.000000  8.000000  5.750000  6.750000  \n",
              "max    9.000000  8.000000  8.000000  9.000000  7.000000  8.000000  "
            ],
            "text/html": [
              "\n",
              "  <div id=\"df-3df61df5-5eea-41ec-a81d-225ff7aa97db\">\n",
              "    <div class=\"colab-df-container\">\n",
              "      <div>\n",
              "<style scoped>\n",
              "    .dataframe tbody tr th:only-of-type {\n",
              "        vertical-align: middle;\n",
              "    }\n",
              "\n",
              "    .dataframe tbody tr th {\n",
              "        vertical-align: top;\n",
              "    }\n",
              "\n",
              "    .dataframe thead th {\n",
              "        text-align: right;\n",
              "    }\n",
              "</style>\n",
              "<table border=\"1\" class=\"dataframe\">\n",
              "  <thead>\n",
              "    <tr style=\"text-align: right;\">\n",
              "      <th></th>\n",
              "      <th>mariana</th>\n",
              "      <th>gardo</th>\n",
              "      <th>andy</th>\n",
              "      <th>ceci</th>\n",
              "      <th>adri</th>\n",
              "      <th>aura</th>\n",
              "      <th>rose</th>\n",
              "      <th>picha</th>\n",
              "      <th>des</th>\n",
              "      <th>berni</th>\n",
              "      <th>rey</th>\n",
              "      <th>emilio</th>\n",
              "      <th>adrien</th>\n",
              "      <th>jorge</th>\n",
              "      <th>bruno</th>\n",
              "      <th>diego</th>\n",
              "      <th>alexa</th>\n",
              "      <th>reni</th>\n",
              "      <th>zazil</th>\n",
              "      <th>yolanda</th>\n",
              "    </tr>\n",
              "  </thead>\n",
              "  <tbody>\n",
              "    <tr>\n",
              "      <th>count</th>\n",
              "      <td>2.00000</td>\n",
              "      <td>2.000000</td>\n",
              "      <td>2.000000</td>\n",
              "      <td>2.000000</td>\n",
              "      <td>2.000000</td>\n",
              "      <td>2.000000</td>\n",
              "      <td>2.00000</td>\n",
              "      <td>2.000000</td>\n",
              "      <td>2.000000</td>\n",
              "      <td>2.000000</td>\n",
              "      <td>2.000000</td>\n",
              "      <td>2.000000</td>\n",
              "      <td>2.000000</td>\n",
              "      <td>2.000000</td>\n",
              "      <td>2.000000</td>\n",
              "      <td>2.000000</td>\n",
              "      <td>2.000000</td>\n",
              "      <td>2.000000</td>\n",
              "      <td>2.000000</td>\n",
              "      <td>2.000000</td>\n",
              "    </tr>\n",
              "    <tr>\n",
              "      <th>mean</th>\n",
              "      <td>6.50000</td>\n",
              "      <td>7.000000</td>\n",
              "      <td>7.000000</td>\n",
              "      <td>4.500000</td>\n",
              "      <td>5.500000</td>\n",
              "      <td>6.000000</td>\n",
              "      <td>7.50000</td>\n",
              "      <td>4.000000</td>\n",
              "      <td>5.500000</td>\n",
              "      <td>6.500000</td>\n",
              "      <td>6.500000</td>\n",
              "      <td>8.500000</td>\n",
              "      <td>5.000000</td>\n",
              "      <td>4.000000</td>\n",
              "      <td>5.500000</td>\n",
              "      <td>7.500000</td>\n",
              "      <td>6.000000</td>\n",
              "      <td>7.000000</td>\n",
              "      <td>4.500000</td>\n",
              "      <td>5.500000</td>\n",
              "    </tr>\n",
              "    <tr>\n",
              "      <th>std</th>\n",
              "      <td>2.12132</td>\n",
              "      <td>2.828427</td>\n",
              "      <td>4.242641</td>\n",
              "      <td>3.535534</td>\n",
              "      <td>0.707107</td>\n",
              "      <td>2.828427</td>\n",
              "      <td>2.12132</td>\n",
              "      <td>4.242641</td>\n",
              "      <td>4.949747</td>\n",
              "      <td>3.535534</td>\n",
              "      <td>4.949747</td>\n",
              "      <td>0.707107</td>\n",
              "      <td>4.242641</td>\n",
              "      <td>4.242641</td>\n",
              "      <td>4.949747</td>\n",
              "      <td>0.707107</td>\n",
              "      <td>2.828427</td>\n",
              "      <td>2.828427</td>\n",
              "      <td>3.535534</td>\n",
              "      <td>3.535534</td>\n",
              "    </tr>\n",
              "    <tr>\n",
              "      <th>min</th>\n",
              "      <td>5.00000</td>\n",
              "      <td>5.000000</td>\n",
              "      <td>4.000000</td>\n",
              "      <td>2.000000</td>\n",
              "      <td>5.000000</td>\n",
              "      <td>4.000000</td>\n",
              "      <td>6.00000</td>\n",
              "      <td>1.000000</td>\n",
              "      <td>2.000000</td>\n",
              "      <td>4.000000</td>\n",
              "      <td>3.000000</td>\n",
              "      <td>8.000000</td>\n",
              "      <td>2.000000</td>\n",
              "      <td>1.000000</td>\n",
              "      <td>2.000000</td>\n",
              "      <td>7.000000</td>\n",
              "      <td>4.000000</td>\n",
              "      <td>5.000000</td>\n",
              "      <td>2.000000</td>\n",
              "      <td>3.000000</td>\n",
              "    </tr>\n",
              "    <tr>\n",
              "      <th>25%</th>\n",
              "      <td>5.75000</td>\n",
              "      <td>6.000000</td>\n",
              "      <td>5.500000</td>\n",
              "      <td>3.250000</td>\n",
              "      <td>5.250000</td>\n",
              "      <td>5.000000</td>\n",
              "      <td>6.75000</td>\n",
              "      <td>2.500000</td>\n",
              "      <td>3.750000</td>\n",
              "      <td>5.250000</td>\n",
              "      <td>4.750000</td>\n",
              "      <td>8.250000</td>\n",
              "      <td>3.500000</td>\n",
              "      <td>2.500000</td>\n",
              "      <td>3.750000</td>\n",
              "      <td>7.250000</td>\n",
              "      <td>5.000000</td>\n",
              "      <td>6.000000</td>\n",
              "      <td>3.250000</td>\n",
              "      <td>4.250000</td>\n",
              "    </tr>\n",
              "    <tr>\n",
              "      <th>50%</th>\n",
              "      <td>6.50000</td>\n",
              "      <td>7.000000</td>\n",
              "      <td>7.000000</td>\n",
              "      <td>4.500000</td>\n",
              "      <td>5.500000</td>\n",
              "      <td>6.000000</td>\n",
              "      <td>7.50000</td>\n",
              "      <td>4.000000</td>\n",
              "      <td>5.500000</td>\n",
              "      <td>6.500000</td>\n",
              "      <td>6.500000</td>\n",
              "      <td>8.500000</td>\n",
              "      <td>5.000000</td>\n",
              "      <td>4.000000</td>\n",
              "      <td>5.500000</td>\n",
              "      <td>7.500000</td>\n",
              "      <td>6.000000</td>\n",
              "      <td>7.000000</td>\n",
              "      <td>4.500000</td>\n",
              "      <td>5.500000</td>\n",
              "    </tr>\n",
              "    <tr>\n",
              "      <th>75%</th>\n",
              "      <td>7.25000</td>\n",
              "      <td>8.000000</td>\n",
              "      <td>8.500000</td>\n",
              "      <td>5.750000</td>\n",
              "      <td>5.750000</td>\n",
              "      <td>7.000000</td>\n",
              "      <td>8.25000</td>\n",
              "      <td>5.500000</td>\n",
              "      <td>7.250000</td>\n",
              "      <td>7.750000</td>\n",
              "      <td>8.250000</td>\n",
              "      <td>8.750000</td>\n",
              "      <td>6.500000</td>\n",
              "      <td>5.500000</td>\n",
              "      <td>7.250000</td>\n",
              "      <td>7.750000</td>\n",
              "      <td>7.000000</td>\n",
              "      <td>8.000000</td>\n",
              "      <td>5.750000</td>\n",
              "      <td>6.750000</td>\n",
              "    </tr>\n",
              "    <tr>\n",
              "      <th>max</th>\n",
              "      <td>8.00000</td>\n",
              "      <td>9.000000</td>\n",
              "      <td>10.000000</td>\n",
              "      <td>7.000000</td>\n",
              "      <td>6.000000</td>\n",
              "      <td>8.000000</td>\n",
              "      <td>9.00000</td>\n",
              "      <td>7.000000</td>\n",
              "      <td>9.000000</td>\n",
              "      <td>9.000000</td>\n",
              "      <td>10.000000</td>\n",
              "      <td>9.000000</td>\n",
              "      <td>8.000000</td>\n",
              "      <td>7.000000</td>\n",
              "      <td>9.000000</td>\n",
              "      <td>8.000000</td>\n",
              "      <td>8.000000</td>\n",
              "      <td>9.000000</td>\n",
              "      <td>7.000000</td>\n",
              "      <td>8.000000</td>\n",
              "    </tr>\n",
              "  </tbody>\n",
              "</table>\n",
              "</div>\n",
              "      <button class=\"colab-df-convert\" onclick=\"convertToInteractive('df-3df61df5-5eea-41ec-a81d-225ff7aa97db')\"\n",
              "              title=\"Convert this dataframe to an interactive table.\"\n",
              "              style=\"display:none;\">\n",
              "        \n",
              "  <svg xmlns=\"http://www.w3.org/2000/svg\" height=\"24px\"viewBox=\"0 0 24 24\"\n",
              "       width=\"24px\">\n",
              "    <path d=\"M0 0h24v24H0V0z\" fill=\"none\"/>\n",
              "    <path d=\"M18.56 5.44l.94 2.06.94-2.06 2.06-.94-2.06-.94-.94-2.06-.94 2.06-2.06.94zm-11 1L8.5 8.5l.94-2.06 2.06-.94-2.06-.94L8.5 2.5l-.94 2.06-2.06.94zm10 10l.94 2.06.94-2.06 2.06-.94-2.06-.94-.94-2.06-.94 2.06-2.06.94z\"/><path d=\"M17.41 7.96l-1.37-1.37c-.4-.4-.92-.59-1.43-.59-.52 0-1.04.2-1.43.59L10.3 9.45l-7.72 7.72c-.78.78-.78 2.05 0 2.83L4 21.41c.39.39.9.59 1.41.59.51 0 1.02-.2 1.41-.59l7.78-7.78 2.81-2.81c.8-.78.8-2.07 0-2.86zM5.41 20L4 18.59l7.72-7.72 1.47 1.35L5.41 20z\"/>\n",
              "  </svg>\n",
              "      </button>\n",
              "      \n",
              "  <style>\n",
              "    .colab-df-container {\n",
              "      display:flex;\n",
              "      flex-wrap:wrap;\n",
              "      gap: 12px;\n",
              "    }\n",
              "\n",
              "    .colab-df-convert {\n",
              "      background-color: #E8F0FE;\n",
              "      border: none;\n",
              "      border-radius: 50%;\n",
              "      cursor: pointer;\n",
              "      display: none;\n",
              "      fill: #1967D2;\n",
              "      height: 32px;\n",
              "      padding: 0 0 0 0;\n",
              "      width: 32px;\n",
              "    }\n",
              "\n",
              "    .colab-df-convert:hover {\n",
              "      background-color: #E2EBFA;\n",
              "      box-shadow: 0px 1px 2px rgba(60, 64, 67, 0.3), 0px 1px 3px 1px rgba(60, 64, 67, 0.15);\n",
              "      fill: #174EA6;\n",
              "    }\n",
              "\n",
              "    [theme=dark] .colab-df-convert {\n",
              "      background-color: #3B4455;\n",
              "      fill: #D2E3FC;\n",
              "    }\n",
              "\n",
              "    [theme=dark] .colab-df-convert:hover {\n",
              "      background-color: #434B5C;\n",
              "      box-shadow: 0px 1px 3px 1px rgba(0, 0, 0, 0.15);\n",
              "      filter: drop-shadow(0px 1px 2px rgba(0, 0, 0, 0.3));\n",
              "      fill: #FFFFFF;\n",
              "    }\n",
              "  </style>\n",
              "\n",
              "      <script>\n",
              "        const buttonEl =\n",
              "          document.querySelector('#df-3df61df5-5eea-41ec-a81d-225ff7aa97db button.colab-df-convert');\n",
              "        buttonEl.style.display =\n",
              "          google.colab.kernel.accessAllowed ? 'block' : 'none';\n",
              "\n",
              "        async function convertToInteractive(key) {\n",
              "          const element = document.querySelector('#df-3df61df5-5eea-41ec-a81d-225ff7aa97db');\n",
              "          const dataTable =\n",
              "            await google.colab.kernel.invokeFunction('convertToInteractive',\n",
              "                                                     [key], {});\n",
              "          if (!dataTable) return;\n",
              "\n",
              "          const docLinkHtml = 'Like what you see? Visit the ' +\n",
              "            '<a target=\"_blank\" href=https://colab.research.google.com/notebooks/data_table.ipynb>data table notebook</a>'\n",
              "            + ' to learn more about interactive tables.';\n",
              "          element.innerHTML = '';\n",
              "          dataTable['output_type'] = 'display_data';\n",
              "          await google.colab.output.renderOutput(dataTable, element);\n",
              "          const docLink = document.createElement('div');\n",
              "          docLink.innerHTML = docLinkHtml;\n",
              "          element.appendChild(docLink);\n",
              "        }\n",
              "      </script>\n",
              "    </div>\n",
              "  </div>\n",
              "  "
            ]
          },
          "metadata": {},
          "execution_count": 221
        }
      ]
    },
    {
      "cell_type": "code",
      "source": [
        "import seaborn as sns\n",
        "sns.displot (Estudiantes)"
      ],
      "metadata": {
        "colab": {
          "base_uri": "https://localhost:8080/",
          "height": 387
        },
        "id": "Bym3bmRw5iCd",
        "outputId": "b0cfccd1-638c-48bc-fe01-574dff93c4fb"
      },
      "execution_count": null,
      "outputs": [
        {
          "output_type": "execute_result",
          "data": {
            "text/plain": [
              "<seaborn.axisgrid.FacetGrid at 0x7f5ec5e1ddd0>"
            ]
          },
          "metadata": {},
          "execution_count": 222
        },
        {
          "output_type": "display_data",
          "data": {
            "text/plain": [
              "<Figure size 437.375x360 with 1 Axes>"
            ],
            "image/png": "[encoded data removed]"
          },
          "metadata": {
            "needs_background": "light"
          }
        }
      ]
    },
    {
      "cell_type": "code",
      "source": [
        "dfestudiantes.iloc[0]"
      ],
      "metadata": {
        "colab": {
          "base_uri": "https://localhost:8080/"
        },
        "id": "adE9hxv46sDD",
        "outputId": "3ee94411-6c31-49ed-88eb-671edde414a8"
      },
      "execution_count": null,
      "outputs": [
        {
          "output_type": "execute_result",
          "data": {
            "text/plain": [
              "mariana    5\n",
              "gardo      5\n",
              "andy       4\n",
              "ceci       2\n",
              "adri       5\n",
              "aura       4\n",
              "rose       6\n",
              "picha      1\n",
              "des        2\n",
              "berni      4\n",
              "rey        3\n",
              "emilio     8\n",
              "adrien     2\n",
              "jorge      1\n",
              "bruno      2\n",
              "diego      7\n",
              "alexa      4\n",
              "reni       5\n",
              "zazil      2\n",
              "yolanda    3\n",
              "Name: horas, dtype: int64"
            ]
          },
          "metadata": {},
          "execution_count": 223
        }
      ]
    },
    {
      "cell_type": "code",
      "source": [
        "dfestudiantes.iloc[0].max()"
      ],
      "metadata": {
        "colab": {
          "base_uri": "https://localhost:8080/"
        },
        "id": "IHlFN-3y6h5W",
        "outputId": "65837edb-ad31-4783-9ff7-1f8c24e01b2a"
      },
      "execution_count": null,
      "outputs": [
        {
          "output_type": "execute_result",
          "data": {
            "text/plain": [
              "8"
            ]
          },
          "metadata": {},
          "execution_count": 224
        }
      ]
    },
    {
      "cell_type": "code",
      "source": [
        "dfestudiantes.iloc[0].min()"
      ],
      "metadata": {
        "colab": {
          "base_uri": "https://localhost:8080/"
        },
        "id": "87Gzz-4I6nY0",
        "outputId": "a316cef2-d28f-497c-c26b-f7a67d01389a"
      },
      "execution_count": null,
      "outputs": [
        {
          "output_type": "execute_result",
          "data": {
            "text/plain": [
              "1"
            ]
          },
          "metadata": {},
          "execution_count": 225
        }
      ]
    },
    {
      "cell_type": "code",
      "source": [
        "dfestudiantes.iloc[0].mean()"
      ],
      "metadata": {
        "colab": {
          "base_uri": "https://localhost:8080/"
        },
        "id": "7cEU7Hsm6zny",
        "outputId": "4eba9351-124c-496f-a98f-ab7d7e6659b2"
      },
      "execution_count": null,
      "outputs": [
        {
          "output_type": "execute_result",
          "data": {
            "text/plain": [
              "3.75"
            ]
          },
          "metadata": {},
          "execution_count": 226
        }
      ]
    },
    {
      "cell_type": "code",
      "source": [
        "dfestudiantes.iloc[1].mean()"
      ],
      "metadata": {
        "colab": {
          "base_uri": "https://localhost:8080/"
        },
        "id": "f6tWPxqo62yI",
        "outputId": "c6b0732f-6525-490d-cf27-1959a5126289"
      },
      "execution_count": null,
      "outputs": [
        {
          "output_type": "execute_result",
          "data": {
            "text/plain": [
              "8.25"
            ]
          },
          "metadata": {},
          "execution_count": 227
        }
      ]
    }
  ]
}